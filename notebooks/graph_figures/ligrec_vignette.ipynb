{
 "cells": [
  {
   "cell_type": "markdown",
   "metadata": {},
   "source": [
    "# Receptor-ligand permutation test"
   ]
  },
  {
   "cell_type": "markdown",
   "metadata": {},
   "source": [
    "This vignette demonstrates the usage of the permutation test as described in [CellPhoneDB](https://www.cellphonedb.org/) with the interations extracted from [OmniPath](https://omnipathdb.org/) database developed by [Saezlab](https://saezlab.org/).\n",
    "\n",
    "The downside is that in the original implementation, apart from being inefficient, the CellPhoneDB database has only been manually curated for human interactions. To overcome this issue, we make use of the OmniPath database (containing CellPhoneDB as one of its many sources) which also focuses on literature curated rodent signalling pathways."
   ]
  },
  {
   "cell_type": "markdown",
   "metadata": {},
   "source": [
    "## Imports"
   ]
  },
  {
   "cell_type": "code",
   "execution_count": 1,
   "metadata": {},
   "outputs": [
    {
     "name": "stderr",
     "output_type": "stream",
     "text": [
      "/Users/giovanni.palla/miniconda3/envs/spatial/lib/python3.8/site-packages/requests/__init__.py:89: RequestsDependencyWarning: urllib3 (1.26.3) or chardet (3.0.4) doesn't match a supported version!\n",
      "  warnings.warn(\"urllib3 ({}) or chardet ({}) doesn't match a supported \"\n"
     ]
    }
   ],
   "source": [
    "import numpy as np\n",
    "import pandas as pd\n",
    "\n",
    "import scanpy as sc\n",
    "import squidpy as sq\n",
    "\n",
    "from anndata import AnnData"
   ]
  },
  {
   "cell_type": "markdown",
   "metadata": {},
   "source": [
    "# Load the mouse data"
   ]
  },
  {
   "cell_type": "code",
   "execution_count": 2,
   "metadata": {},
   "outputs": [
    {
     "name": "stderr",
     "output_type": "stream",
     "text": [
      "WARNING: In Scanpy 0.*, this returned logarithmized data. Now it returns non-logarithmized data.\n"
     ]
    },
    {
     "data": {
      "application/vnd.jupyter.widget-view+json": {
       "model_id": "508365c7f90c4d0da0a9e3453ac30b7e",
       "version_major": 2,
       "version_minor": 0
      },
      "text/plain": [
       "HBox(children=(HTML(value=''), FloatProgress(value=0.0, max=10297693.0), HTML(value='')))"
      ]
     },
     "metadata": {},
     "output_type": "display_data"
    },
    {
     "name": "stdout",
     "output_type": "stream",
     "text": [
      "\n"
     ]
    },
    {
     "name": "stderr",
     "output_type": "stream",
     "text": [
      "/Users/giovanni.palla/miniconda3/envs/spatial/lib/python3.8/site-packages/anndata/_core/anndata.py:1192: FutureWarning: is_categorical is deprecated and will be removed in a future version.  Use is_categorical_dtype instead\n",
      "  if is_string_dtype(df[key]) and not is_categorical(df[key])\n",
      "... storing 'paul15_clusters' as categorical\n",
      "/Users/giovanni.palla/miniconda3/envs/spatial/lib/python3.8/site-packages/anndata/_core/anndata.py:1094: FutureWarning: is_categorical is deprecated and will be removed in a future version.  Use is_categorical_dtype instead\n",
      "  if not is_categorical(df_full[k]):\n",
      "Trying to set attribute `.uns` of view, copying.\n"
     ]
    }
   ],
   "source": [
    "adata = sc.datasets.paul15()"
   ]
  },
  {
   "cell_type": "markdown",
   "metadata": {},
   "source": [
    "Normalize and create `.raw`."
   ]
  },
  {
   "cell_type": "code",
   "execution_count": 3,
   "metadata": {},
   "outputs": [],
   "source": [
    "sc.pp.normalize_per_cell(adata)\n",
    "\n",
    "adata.raw = adata.copy()"
   ]
  },
  {
   "cell_type": "markdown",
   "metadata": {},
   "source": [
    "## Run the CellPhoneDB's permutation test"
   ]
  },
  {
   "cell_type": "markdown",
   "metadata": {},
   "source": [
    "### Use only CellPhoneDB as a resource"
   ]
  },
  {
   "cell_type": "markdown",
   "metadata": {},
   "source": [
    "For mouse data, CellPhoneDB uses the ortholog genes, downloaded from biomart. They convert the mouse genes into their human orthologs and use that as an input ([latest source](https://github.com/Teichlab/cellphonedb/issues/194#issuecomment-721748905))."
   ]
  },
  {
   "cell_type": "code",
   "execution_count": 4,
   "metadata": {},
   "outputs": [
    {
     "data": {
      "application/vnd.jupyter.widget-view+json": {
       "model_id": "c97e17e5bfe94a2cac78c7022389778e",
       "version_major": 2,
       "version_minor": 0
      },
      "text/plain": [
       "HBox(children=(HTML(value=''), FloatProgress(value=0.0, max=437343.0), HTML(value='')))"
      ]
     },
     "metadata": {},
     "output_type": "display_data"
    },
    {
     "name": "stdout",
     "output_type": "stream",
     "text": [
      "\n"
     ]
    },
    {
     "name": "stderr",
     "output_type": "stream",
     "text": [
      "WARNING: Removed `1` duplicate gene(s)\n"
     ]
    },
    {
     "data": {
      "application/vnd.jupyter.widget-view+json": {
       "model_id": "5d4f277112914e339bade9510f2c7d59",
       "version_major": 2,
       "version_minor": 0
      },
      "text/plain": [
       "HBox(children=(HTML(value=''), FloatProgress(value=0.0, max=10000.0), HTML(value='')))"
      ]
     },
     "metadata": {},
     "output_type": "display_data"
    },
    {
     "name": "stdout",
     "output_type": "stream",
     "text": [
      "\n",
      "Number of CellPhoneDB interactions (mouse data): 11\n"
     ]
    },
    {
     "data": {
      "text/html": [
       "<div>\n",
       "<style scoped>\n",
       "    .dataframe tbody tr th:only-of-type {\n",
       "        vertical-align: middle;\n",
       "    }\n",
       "\n",
       "    .dataframe tbody tr th {\n",
       "        vertical-align: top;\n",
       "    }\n",
       "\n",
       "    .dataframe thead tr th {\n",
       "        text-align: left;\n",
       "    }\n",
       "\n",
       "    .dataframe thead tr:last-of-type th {\n",
       "        text-align: right;\n",
       "    }\n",
       "</style>\n",
       "<table border=\"1\" class=\"dataframe\">\n",
       "  <thead>\n",
       "    <tr>\n",
       "      <th></th>\n",
       "      <th>cluster_1</th>\n",
       "      <th colspan=\"10\" halign=\"left\">10GMP</th>\n",
       "      <th>...</th>\n",
       "      <th colspan=\"10\" halign=\"left\">9GMP</th>\n",
       "    </tr>\n",
       "    <tr>\n",
       "      <th></th>\n",
       "      <th>cluster_2</th>\n",
       "      <th>10GMP</th>\n",
       "      <th>11DC</th>\n",
       "      <th>12Baso</th>\n",
       "      <th>13Baso</th>\n",
       "      <th>14Mo</th>\n",
       "      <th>15Mo</th>\n",
       "      <th>16Neu</th>\n",
       "      <th>17Neu</th>\n",
       "      <th>18Eos</th>\n",
       "      <th>19Lymph</th>\n",
       "      <th>...</th>\n",
       "      <th>19Lymph</th>\n",
       "      <th>1Ery</th>\n",
       "      <th>2Ery</th>\n",
       "      <th>3Ery</th>\n",
       "      <th>4Ery</th>\n",
       "      <th>5Ery</th>\n",
       "      <th>6Ery</th>\n",
       "      <th>7MEP</th>\n",
       "      <th>8Mk</th>\n",
       "      <th>9GMP</th>\n",
       "    </tr>\n",
       "    <tr>\n",
       "      <th>source</th>\n",
       "      <th>target</th>\n",
       "      <th></th>\n",
       "      <th></th>\n",
       "      <th></th>\n",
       "      <th></th>\n",
       "      <th></th>\n",
       "      <th></th>\n",
       "      <th></th>\n",
       "      <th></th>\n",
       "      <th></th>\n",
       "      <th></th>\n",
       "      <th></th>\n",
       "      <th></th>\n",
       "      <th></th>\n",
       "      <th></th>\n",
       "      <th></th>\n",
       "      <th></th>\n",
       "      <th></th>\n",
       "      <th></th>\n",
       "      <th></th>\n",
       "      <th></th>\n",
       "      <th></th>\n",
       "    </tr>\n",
       "  </thead>\n",
       "  <tbody>\n",
       "    <tr>\n",
       "      <th rowspan=\"2\" valign=\"top\">GRN</th>\n",
       "      <th>TNFRSF1A</th>\n",
       "      <td>0.2868</td>\n",
       "      <td>0.4736</td>\n",
       "      <td>0.531</td>\n",
       "      <td>NaN</td>\n",
       "      <td>NaN</td>\n",
       "      <td>NaN</td>\n",
       "      <td>NaN</td>\n",
       "      <td>0.204</td>\n",
       "      <td>0.7944</td>\n",
       "      <td>0.3359</td>\n",
       "      <td>...</td>\n",
       "      <td>0.1427</td>\n",
       "      <td>NaN</td>\n",
       "      <td>NaN</td>\n",
       "      <td>NaN</td>\n",
       "      <td>NaN</td>\n",
       "      <td>0.8665</td>\n",
       "      <td>NaN</td>\n",
       "      <td>NaN</td>\n",
       "      <td>NaN</td>\n",
       "      <td>0.0908</td>\n",
       "    </tr>\n",
       "    <tr>\n",
       "      <th>TNFRSF1B</th>\n",
       "      <td>NaN</td>\n",
       "      <td>NaN</td>\n",
       "      <td>NaN</td>\n",
       "      <td>0.1943</td>\n",
       "      <td>0.0358</td>\n",
       "      <td>0.0444</td>\n",
       "      <td>0.0302</td>\n",
       "      <td>NaN</td>\n",
       "      <td>NaN</td>\n",
       "      <td>NaN</td>\n",
       "      <td>...</td>\n",
       "      <td>NaN</td>\n",
       "      <td>NaN</td>\n",
       "      <td>NaN</td>\n",
       "      <td>NaN</td>\n",
       "      <td>NaN</td>\n",
       "      <td>NaN</td>\n",
       "      <td>NaN</td>\n",
       "      <td>NaN</td>\n",
       "      <td>NaN</td>\n",
       "      <td>NaN</td>\n",
       "    </tr>\n",
       "    <tr>\n",
       "      <th rowspan=\"3\" valign=\"top\">TGFB1</th>\n",
       "      <th>TGFBR3</th>\n",
       "      <td>NaN</td>\n",
       "      <td>NaN</td>\n",
       "      <td>NaN</td>\n",
       "      <td>NaN</td>\n",
       "      <td>NaN</td>\n",
       "      <td>NaN</td>\n",
       "      <td>NaN</td>\n",
       "      <td>NaN</td>\n",
       "      <td>NaN</td>\n",
       "      <td>NaN</td>\n",
       "      <td>...</td>\n",
       "      <td>NaN</td>\n",
       "      <td>NaN</td>\n",
       "      <td>NaN</td>\n",
       "      <td>0.0648</td>\n",
       "      <td>NaN</td>\n",
       "      <td>NaN</td>\n",
       "      <td>NaN</td>\n",
       "      <td>NaN</td>\n",
       "      <td>0.0165</td>\n",
       "      <td>NaN</td>\n",
       "    </tr>\n",
       "    <tr>\n",
       "      <th>TGFBR2</th>\n",
       "      <td>NaN</td>\n",
       "      <td>NaN</td>\n",
       "      <td>NaN</td>\n",
       "      <td>NaN</td>\n",
       "      <td>NaN</td>\n",
       "      <td>NaN</td>\n",
       "      <td>NaN</td>\n",
       "      <td>NaN</td>\n",
       "      <td>0.0061</td>\n",
       "      <td>NaN</td>\n",
       "      <td>...</td>\n",
       "      <td>NaN</td>\n",
       "      <td>NaN</td>\n",
       "      <td>NaN</td>\n",
       "      <td>NaN</td>\n",
       "      <td>NaN</td>\n",
       "      <td>NaN</td>\n",
       "      <td>NaN</td>\n",
       "      <td>NaN</td>\n",
       "      <td>NaN</td>\n",
       "      <td>NaN</td>\n",
       "    </tr>\n",
       "    <tr>\n",
       "      <th>ITGAV</th>\n",
       "      <td>NaN</td>\n",
       "      <td>NaN</td>\n",
       "      <td>NaN</td>\n",
       "      <td>NaN</td>\n",
       "      <td>NaN</td>\n",
       "      <td>NaN</td>\n",
       "      <td>NaN</td>\n",
       "      <td>NaN</td>\n",
       "      <td>NaN</td>\n",
       "      <td>NaN</td>\n",
       "      <td>...</td>\n",
       "      <td>NaN</td>\n",
       "      <td>NaN</td>\n",
       "      <td>NaN</td>\n",
       "      <td>NaN</td>\n",
       "      <td>NaN</td>\n",
       "      <td>NaN</td>\n",
       "      <td>NaN</td>\n",
       "      <td>NaN</td>\n",
       "      <td>NaN</td>\n",
       "      <td>NaN</td>\n",
       "    </tr>\n",
       "  </tbody>\n",
       "</table>\n",
       "<p>5 rows × 361 columns</p>\n",
       "</div>"
      ],
      "text/plain": [
       "cluster_1         10GMP                                                        \\\n",
       "cluster_2         10GMP    11DC 12Baso  13Baso    14Mo    15Mo   16Neu  17Neu   \n",
       "source target                                                                   \n",
       "GRN    TNFRSF1A  0.2868  0.4736  0.531     NaN     NaN     NaN     NaN  0.204   \n",
       "       TNFRSF1B     NaN     NaN    NaN  0.1943  0.0358  0.0444  0.0302    NaN   \n",
       "TGFB1  TGFBR3       NaN     NaN    NaN     NaN     NaN     NaN     NaN    NaN   \n",
       "       TGFBR2       NaN     NaN    NaN     NaN     NaN     NaN     NaN    NaN   \n",
       "       ITGAV        NaN     NaN    NaN     NaN     NaN     NaN     NaN    NaN   \n",
       "\n",
       "cluster_1                        ...    9GMP                                 \\\n",
       "cluster_2         18Eos 19Lymph  ... 19Lymph 1Ery 2Ery    3Ery 4Ery    5Ery   \n",
       "source target                    ...                                          \n",
       "GRN    TNFRSF1A  0.7944  0.3359  ...  0.1427  NaN  NaN     NaN  NaN  0.8665   \n",
       "       TNFRSF1B     NaN     NaN  ...     NaN  NaN  NaN     NaN  NaN     NaN   \n",
       "TGFB1  TGFBR3       NaN     NaN  ...     NaN  NaN  NaN  0.0648  NaN     NaN   \n",
       "       TGFBR2    0.0061     NaN  ...     NaN  NaN  NaN     NaN  NaN     NaN   \n",
       "       ITGAV        NaN     NaN  ...     NaN  NaN  NaN     NaN  NaN     NaN   \n",
       "\n",
       "cluster_1                                  \n",
       "cluster_2       6Ery 7MEP     8Mk    9GMP  \n",
       "source target                              \n",
       "GRN    TNFRSF1A  NaN  NaN     NaN  0.0908  \n",
       "       TNFRSF1B  NaN  NaN     NaN     NaN  \n",
       "TGFB1  TGFBR3    NaN  NaN  0.0165     NaN  \n",
       "       TGFBR2    NaN  NaN     NaN     NaN  \n",
       "       ITGAV     NaN  NaN     NaN     NaN  \n",
       "\n",
       "[5 rows x 361 columns]"
      ]
     },
     "execution_count": 4,
     "metadata": {},
     "output_type": "execute_result"
    }
   ],
   "source": [
    "res = sq.gr.ligrec(adata, \"paul15_clusters\",\n",
    "                   fdr_method=None, copy=True,\n",
    "                   interactions_params={\"resources\": \"CellPhoneDB\"},\n",
    "                   threshold=0.1, seed=0, n_perms=10000, n_jobs=1)\n",
    "df = res.pvalues\n",
    "print(\"Number of CellPhoneDB interactions (mouse data):\", len(df))\n",
    "\n",
    "df.head()"
   ]
  },
  {
   "cell_type": "markdown",
   "metadata": {},
   "source": [
    "The tori mark significant p-values (`alpha=0.001` by default). `molecule1` belongs to the source cluster (top) whereas `moleule2` to the target clusters."
   ]
  },
  {
   "cell_type": "code",
   "execution_count": 6,
   "metadata": {},
   "outputs": [
    {
     "name": "stderr",
     "output_type": "stream",
     "text": [
      "/home/michal/.miniconda3/envs/cellrank/lib/python3.8/site-packages/pandas/core/arrays/categorical.py:2487: FutureWarning: The `inplace` parameter in pandas.Categorical.remove_unused_categories is deprecated and will be removed in a future version.\n",
      "  res = method(*args, **kwargs)\n"
     ]
    },
    {
     "data": {
      "image/png": "[encoded data removed]",
      "text/plain": [
       "<Figure size 347.76x180 with 6 Axes>"
      ]
     },
     "metadata": {
      "needs_background": "light"
     },
     "output_type": "display_data"
    }
   ],
   "source": [
    "sq.pl.ligrec(res, source_groups=\"10GMP\")"
   ]
  },
  {
   "cell_type": "markdown",
   "metadata": {},
   "source": [
    "### Use all available resources from OmniPath"
   ]
  },
  {
   "cell_type": "code",
   "execution_count": 7,
   "metadata": {},
   "outputs": [
    {
     "name": "stdout",
     "output_type": "stream",
     "text": [
      "WARNING: Removed `1` duplicate gene(s)\n"
     ]
    },
    {
     "data": {
      "application/vnd.jupyter.widget-view+json": {
       "model_id": "307999b182ed4e06bab4dd1ffcbd7d91",
       "version_major": 2,
       "version_minor": 0
      },
      "text/plain": [
       "  0%|          | 0/10000 [00:00<?, ?permutation/s]"
      ]
     },
     "metadata": {},
     "output_type": "display_data"
    },
    {
     "name": "stdout",
     "output_type": "stream",
     "text": [
      "Number of OmniPath interactions (mouse data): 107\n"
     ]
    },
    {
     "data": {
      "text/html": [
       "<div>\n",
       "<style scoped>\n",
       "    .dataframe tbody tr th:only-of-type {\n",
       "        vertical-align: middle;\n",
       "    }\n",
       "\n",
       "    .dataframe tbody tr th {\n",
       "        vertical-align: top;\n",
       "    }\n",
       "\n",
       "    .dataframe thead tr th {\n",
       "        text-align: left;\n",
       "    }\n",
       "\n",
       "    .dataframe thead tr:last-of-type th {\n",
       "        text-align: right;\n",
       "    }\n",
       "</style>\n",
       "<table border=\"1\" class=\"dataframe\">\n",
       "  <thead>\n",
       "    <tr>\n",
       "      <th></th>\n",
       "      <th>cluster_1</th>\n",
       "      <th colspan=\"10\" halign=\"left\">10GMP</th>\n",
       "      <th>...</th>\n",
       "      <th colspan=\"10\" halign=\"left\">9GMP</th>\n",
       "    </tr>\n",
       "    <tr>\n",
       "      <th></th>\n",
       "      <th>cluster_2</th>\n",
       "      <th>10GMP</th>\n",
       "      <th>11DC</th>\n",
       "      <th>12Baso</th>\n",
       "      <th>13Baso</th>\n",
       "      <th>14Mo</th>\n",
       "      <th>15Mo</th>\n",
       "      <th>16Neu</th>\n",
       "      <th>17Neu</th>\n",
       "      <th>18Eos</th>\n",
       "      <th>19Lymph</th>\n",
       "      <th>...</th>\n",
       "      <th>19Lymph</th>\n",
       "      <th>1Ery</th>\n",
       "      <th>2Ery</th>\n",
       "      <th>3Ery</th>\n",
       "      <th>4Ery</th>\n",
       "      <th>5Ery</th>\n",
       "      <th>6Ery</th>\n",
       "      <th>7MEP</th>\n",
       "      <th>8Mk</th>\n",
       "      <th>9GMP</th>\n",
       "    </tr>\n",
       "    <tr>\n",
       "      <th>source</th>\n",
       "      <th>target</th>\n",
       "      <th></th>\n",
       "      <th></th>\n",
       "      <th></th>\n",
       "      <th></th>\n",
       "      <th></th>\n",
       "      <th></th>\n",
       "      <th></th>\n",
       "      <th></th>\n",
       "      <th></th>\n",
       "      <th></th>\n",
       "      <th></th>\n",
       "      <th></th>\n",
       "      <th></th>\n",
       "      <th></th>\n",
       "      <th></th>\n",
       "      <th></th>\n",
       "      <th></th>\n",
       "      <th></th>\n",
       "      <th></th>\n",
       "      <th></th>\n",
       "      <th></th>\n",
       "    </tr>\n",
       "  </thead>\n",
       "  <tbody>\n",
       "    <tr>\n",
       "      <th rowspan=\"2\" valign=\"top\">FYN</th>\n",
       "      <th>THY1</th>\n",
       "      <td>NaN</td>\n",
       "      <td>NaN</td>\n",
       "      <td>NaN</td>\n",
       "      <td>NaN</td>\n",
       "      <td>NaN</td>\n",
       "      <td>NaN</td>\n",
       "      <td>NaN</td>\n",
       "      <td>NaN</td>\n",
       "      <td>NaN</td>\n",
       "      <td>NaN</td>\n",
       "      <td>...</td>\n",
       "      <td>NaN</td>\n",
       "      <td>NaN</td>\n",
       "      <td>NaN</td>\n",
       "      <td>NaN</td>\n",
       "      <td>NaN</td>\n",
       "      <td>NaN</td>\n",
       "      <td>NaN</td>\n",
       "      <td>NaN</td>\n",
       "      <td>NaN</td>\n",
       "      <td>NaN</td>\n",
       "    </tr>\n",
       "    <tr>\n",
       "      <th>ITGB1</th>\n",
       "      <td>0.0060</td>\n",
       "      <td>0.0843</td>\n",
       "      <td>0.7125</td>\n",
       "      <td>0.0068</td>\n",
       "      <td>0.0036</td>\n",
       "      <td>0.0067</td>\n",
       "      <td>0.4110</td>\n",
       "      <td>0.5669</td>\n",
       "      <td>0.3759</td>\n",
       "      <td>NaN</td>\n",
       "      <td>...</td>\n",
       "      <td>NaN</td>\n",
       "      <td>0.0953</td>\n",
       "      <td>0.0039</td>\n",
       "      <td>0.0001</td>\n",
       "      <td>0.0083</td>\n",
       "      <td>0.0944</td>\n",
       "      <td>0.0291</td>\n",
       "      <td>0.1237</td>\n",
       "      <td>0.0018</td>\n",
       "      <td>0.0292</td>\n",
       "    </tr>\n",
       "    <tr>\n",
       "      <th>TGFB1</th>\n",
       "      <th>ITGB1</th>\n",
       "      <td>0.0009</td>\n",
       "      <td>0.0206</td>\n",
       "      <td>0.1831</td>\n",
       "      <td>0.0022</td>\n",
       "      <td>0.0014</td>\n",
       "      <td>0.0010</td>\n",
       "      <td>0.0505</td>\n",
       "      <td>0.2222</td>\n",
       "      <td>0.1867</td>\n",
       "      <td>NaN</td>\n",
       "      <td>...</td>\n",
       "      <td>NaN</td>\n",
       "      <td>0.1474</td>\n",
       "      <td>0.0585</td>\n",
       "      <td>0.0093</td>\n",
       "      <td>0.0590</td>\n",
       "      <td>0.2032</td>\n",
       "      <td>0.1306</td>\n",
       "      <td>0.2321</td>\n",
       "      <td>0.0170</td>\n",
       "      <td>0.0691</td>\n",
       "    </tr>\n",
       "    <tr>\n",
       "      <th>ANGPT1</th>\n",
       "      <th>ITGB1</th>\n",
       "      <td>NaN</td>\n",
       "      <td>NaN</td>\n",
       "      <td>NaN</td>\n",
       "      <td>NaN</td>\n",
       "      <td>NaN</td>\n",
       "      <td>NaN</td>\n",
       "      <td>NaN</td>\n",
       "      <td>NaN</td>\n",
       "      <td>NaN</td>\n",
       "      <td>NaN</td>\n",
       "      <td>...</td>\n",
       "      <td>NaN</td>\n",
       "      <td>0.0744</td>\n",
       "      <td>0.0001</td>\n",
       "      <td>NaN</td>\n",
       "      <td>0.0018</td>\n",
       "      <td>0.0430</td>\n",
       "      <td>0.0104</td>\n",
       "      <td>0.0638</td>\n",
       "      <td>0.0005</td>\n",
       "      <td>0.0130</td>\n",
       "    </tr>\n",
       "    <tr>\n",
       "      <th>VEGFA</th>\n",
       "      <th>ITGB1</th>\n",
       "      <td>NaN</td>\n",
       "      <td>NaN</td>\n",
       "      <td>NaN</td>\n",
       "      <td>NaN</td>\n",
       "      <td>NaN</td>\n",
       "      <td>NaN</td>\n",
       "      <td>NaN</td>\n",
       "      <td>NaN</td>\n",
       "      <td>NaN</td>\n",
       "      <td>NaN</td>\n",
       "      <td>...</td>\n",
       "      <td>NaN</td>\n",
       "      <td>NaN</td>\n",
       "      <td>NaN</td>\n",
       "      <td>NaN</td>\n",
       "      <td>NaN</td>\n",
       "      <td>NaN</td>\n",
       "      <td>NaN</td>\n",
       "      <td>NaN</td>\n",
       "      <td>NaN</td>\n",
       "      <td>NaN</td>\n",
       "    </tr>\n",
       "  </tbody>\n",
       "</table>\n",
       "<p>5 rows × 361 columns</p>\n",
       "</div>"
      ],
      "text/plain": [
       "cluster_1       10GMP                                                          \\\n",
       "cluster_2       10GMP    11DC  12Baso  13Baso    14Mo    15Mo   16Neu   17Neu   \n",
       "source target                                                                   \n",
       "FYN    THY1       NaN     NaN     NaN     NaN     NaN     NaN     NaN     NaN   \n",
       "       ITGB1   0.0060  0.0843  0.7125  0.0068  0.0036  0.0067  0.4110  0.5669   \n",
       "TGFB1  ITGB1   0.0009  0.0206  0.1831  0.0022  0.0014  0.0010  0.0505  0.2222   \n",
       "ANGPT1 ITGB1      NaN     NaN     NaN     NaN     NaN     NaN     NaN     NaN   \n",
       "VEGFA  ITGB1      NaN     NaN     NaN     NaN     NaN     NaN     NaN     NaN   \n",
       "\n",
       "cluster_1                      ...    9GMP                                  \\\n",
       "cluster_2       18Eos 19Lymph  ... 19Lymph    1Ery    2Ery    3Ery    4Ery   \n",
       "source target                  ...                                           \n",
       "FYN    THY1       NaN     NaN  ...     NaN     NaN     NaN     NaN     NaN   \n",
       "       ITGB1   0.3759     NaN  ...     NaN  0.0953  0.0039  0.0001  0.0083   \n",
       "TGFB1  ITGB1   0.1867     NaN  ...     NaN  0.1474  0.0585  0.0093  0.0590   \n",
       "ANGPT1 ITGB1      NaN     NaN  ...     NaN  0.0744  0.0001     NaN  0.0018   \n",
       "VEGFA  ITGB1      NaN     NaN  ...     NaN     NaN     NaN     NaN     NaN   \n",
       "\n",
       "cluster_1                                              \n",
       "cluster_2        5Ery    6Ery    7MEP     8Mk    9GMP  \n",
       "source target                                          \n",
       "FYN    THY1       NaN     NaN     NaN     NaN     NaN  \n",
       "       ITGB1   0.0944  0.0291  0.1237  0.0018  0.0292  \n",
       "TGFB1  ITGB1   0.2032  0.1306  0.2321  0.0170  0.0691  \n",
       "ANGPT1 ITGB1   0.0430  0.0104  0.0638  0.0005  0.0130  \n",
       "VEGFA  ITGB1      NaN     NaN     NaN     NaN     NaN  \n",
       "\n",
       "[5 rows x 361 columns]"
      ]
     },
     "execution_count": 7,
     "metadata": {},
     "output_type": "execute_result"
    }
   ],
   "source": [
    "res = sq.gr.ligrec(adata, \"paul15_clusters\",\n",
    "                   fdr_method=None, copy=True,\n",
    "                   threshold=0.1, seed=0, n_perms=10000, n_jobs=1)\n",
    "df = res.pvalues\n",
    "print(\"Number of OmniPath interactions (mouse data):\", len(df))\n",
    "\n",
    "df.head()"
   ]
  },
  {
   "cell_type": "code",
   "execution_count": 8,
   "metadata": {},
   "outputs": [
    {
     "name": "stderr",
     "output_type": "stream",
     "text": [
      "/home/michal/.miniconda3/envs/cellrank/lib/python3.8/site-packages/pandas/core/arrays/categorical.py:2487: FutureWarning: The `inplace` parameter in pandas.Categorical.remove_unused_categories is deprecated and will be removed in a future version.\n",
      "  res = method(*args, **kwargs)\n"
     ]
    },
    {
     "data": {
      "image/png": "[encoded data removed]",
      "text/plain": [
       "<Figure size 614.16x878.4 with 6 Axes>"
      ]
     },
     "metadata": {
      "needs_background": "light"
     },
     "output_type": "display_data"
    }
   ],
   "source": [
    "sq.pl.ligrec(res, source_groups=\"10GMP\")"
   ]
  },
  {
   "cell_type": "markdown",
   "metadata": {},
   "source": [
    "# Load the human data"
   ]
  },
  {
   "cell_type": "code",
   "execution_count": 9,
   "metadata": {},
   "outputs": [
    {
     "data": {
      "text/plain": [
       "AnnData object with n_obs × n_vars = 2638 × 1838\n",
       "    obs: 'n_genes', 'percent_mito', 'n_counts', 'louvain'\n",
       "    var: 'n_cells'\n",
       "    uns: 'draw_graph', 'louvain', 'louvain_colors', 'neighbors', 'pca', 'rank_genes_groups'\n",
       "    obsm: 'X_pca', 'X_tsne', 'X_umap', 'X_draw_graph_fr'\n",
       "    varm: 'PCs'\n",
       "    obsp: 'distances', 'connectivities'"
      ]
     },
     "execution_count": 9,
     "metadata": {},
     "output_type": "execute_result"
    }
   ],
   "source": [
    "adata = sc.datasets.pbmc3k_processed()\n",
    "adata"
   ]
  },
  {
   "cell_type": "markdown",
   "metadata": {},
   "source": [
    "## Run the CellPhoneDB's permutation test"
   ]
  },
  {
   "cell_type": "markdown",
   "metadata": {},
   "source": [
    "### Use only CellPhoneDB as a resource"
   ]
  },
  {
   "cell_type": "code",
   "execution_count": 10,
   "metadata": {},
   "outputs": [
    {
     "data": {
      "application/vnd.jupyter.widget-view+json": {
       "model_id": "24a863a2be1445e9a333f8ad453aa326",
       "version_major": 2,
       "version_minor": 0
      },
      "text/plain": [
       "  0%|          | 0/10000 [00:00<?, ?permutation/s]"
      ]
     },
     "metadata": {},
     "output_type": "display_data"
    },
    {
     "name": "stdout",
     "output_type": "stream",
     "text": [
      "Number of CellPhoneDB interactions (human data): 76\n"
     ]
    },
    {
     "data": {
      "text/html": [
       "<div>\n",
       "<style scoped>\n",
       "    .dataframe tbody tr th:only-of-type {\n",
       "        vertical-align: middle;\n",
       "    }\n",
       "\n",
       "    .dataframe tbody tr th {\n",
       "        vertical-align: top;\n",
       "    }\n",
       "\n",
       "    .dataframe thead tr th {\n",
       "        text-align: left;\n",
       "    }\n",
       "\n",
       "    .dataframe thead tr:last-of-type th {\n",
       "        text-align: right;\n",
       "    }\n",
       "</style>\n",
       "<table border=\"1\" class=\"dataframe\">\n",
       "  <thead>\n",
       "    <tr>\n",
       "      <th></th>\n",
       "      <th>cluster_1</th>\n",
       "      <th colspan=\"8\" halign=\"left\">B cells</th>\n",
       "      <th colspan=\"2\" halign=\"left\">CD14+ Monocytes</th>\n",
       "      <th>...</th>\n",
       "      <th colspan=\"2\" halign=\"left\">Megakaryocytes</th>\n",
       "      <th colspan=\"8\" halign=\"left\">NK cells</th>\n",
       "    </tr>\n",
       "    <tr>\n",
       "      <th></th>\n",
       "      <th>cluster_2</th>\n",
       "      <th>B cells</th>\n",
       "      <th>CD14+ Monocytes</th>\n",
       "      <th>CD4 T cells</th>\n",
       "      <th>CD8 T cells</th>\n",
       "      <th>Dendritic cells</th>\n",
       "      <th>FCGR3A+ Monocytes</th>\n",
       "      <th>Megakaryocytes</th>\n",
       "      <th>NK cells</th>\n",
       "      <th>B cells</th>\n",
       "      <th>CD14+ Monocytes</th>\n",
       "      <th>...</th>\n",
       "      <th>Megakaryocytes</th>\n",
       "      <th>NK cells</th>\n",
       "      <th>B cells</th>\n",
       "      <th>CD14+ Monocytes</th>\n",
       "      <th>CD4 T cells</th>\n",
       "      <th>CD8 T cells</th>\n",
       "      <th>Dendritic cells</th>\n",
       "      <th>FCGR3A+ Monocytes</th>\n",
       "      <th>Megakaryocytes</th>\n",
       "      <th>NK cells</th>\n",
       "    </tr>\n",
       "    <tr>\n",
       "      <th>source</th>\n",
       "      <th>target</th>\n",
       "      <th></th>\n",
       "      <th></th>\n",
       "      <th></th>\n",
       "      <th></th>\n",
       "      <th></th>\n",
       "      <th></th>\n",
       "      <th></th>\n",
       "      <th></th>\n",
       "      <th></th>\n",
       "      <th></th>\n",
       "      <th></th>\n",
       "      <th></th>\n",
       "      <th></th>\n",
       "      <th></th>\n",
       "      <th></th>\n",
       "      <th></th>\n",
       "      <th></th>\n",
       "      <th></th>\n",
       "      <th></th>\n",
       "      <th></th>\n",
       "      <th></th>\n",
       "    </tr>\n",
       "  </thead>\n",
       "  <tbody>\n",
       "    <tr>\n",
       "      <th>DLL1</th>\n",
       "      <th>NOTCH1</th>\n",
       "      <td>NaN</td>\n",
       "      <td>NaN</td>\n",
       "      <td>NaN</td>\n",
       "      <td>NaN</td>\n",
       "      <td>NaN</td>\n",
       "      <td>NaN</td>\n",
       "      <td>NaN</td>\n",
       "      <td>NaN</td>\n",
       "      <td>NaN</td>\n",
       "      <td>NaN</td>\n",
       "      <td>...</td>\n",
       "      <td>NaN</td>\n",
       "      <td>NaN</td>\n",
       "      <td>NaN</td>\n",
       "      <td>NaN</td>\n",
       "      <td>NaN</td>\n",
       "      <td>NaN</td>\n",
       "      <td>NaN</td>\n",
       "      <td>NaN</td>\n",
       "      <td>NaN</td>\n",
       "      <td>NaN</td>\n",
       "    </tr>\n",
       "    <tr>\n",
       "      <th>TNF</th>\n",
       "      <th>NOTCH1</th>\n",
       "      <td>NaN</td>\n",
       "      <td>NaN</td>\n",
       "      <td>NaN</td>\n",
       "      <td>NaN</td>\n",
       "      <td>NaN</td>\n",
       "      <td>NaN</td>\n",
       "      <td>NaN</td>\n",
       "      <td>NaN</td>\n",
       "      <td>NaN</td>\n",
       "      <td>NaN</td>\n",
       "      <td>...</td>\n",
       "      <td>NaN</td>\n",
       "      <td>NaN</td>\n",
       "      <td>NaN</td>\n",
       "      <td>NaN</td>\n",
       "      <td>NaN</td>\n",
       "      <td>NaN</td>\n",
       "      <td>NaN</td>\n",
       "      <td>NaN</td>\n",
       "      <td>NaN</td>\n",
       "      <td>NaN</td>\n",
       "    </tr>\n",
       "    <tr>\n",
       "      <th>DLL3</th>\n",
       "      <th>NOTCH1</th>\n",
       "      <td>NaN</td>\n",
       "      <td>NaN</td>\n",
       "      <td>NaN</td>\n",
       "      <td>NaN</td>\n",
       "      <td>NaN</td>\n",
       "      <td>NaN</td>\n",
       "      <td>NaN</td>\n",
       "      <td>NaN</td>\n",
       "      <td>NaN</td>\n",
       "      <td>NaN</td>\n",
       "      <td>...</td>\n",
       "      <td>NaN</td>\n",
       "      <td>NaN</td>\n",
       "      <td>NaN</td>\n",
       "      <td>NaN</td>\n",
       "      <td>NaN</td>\n",
       "      <td>NaN</td>\n",
       "      <td>NaN</td>\n",
       "      <td>NaN</td>\n",
       "      <td>NaN</td>\n",
       "      <td>NaN</td>\n",
       "    </tr>\n",
       "    <tr>\n",
       "      <th>DLL1</th>\n",
       "      <th>NOTCH2</th>\n",
       "      <td>NaN</td>\n",
       "      <td>NaN</td>\n",
       "      <td>NaN</td>\n",
       "      <td>NaN</td>\n",
       "      <td>NaN</td>\n",
       "      <td>NaN</td>\n",
       "      <td>NaN</td>\n",
       "      <td>NaN</td>\n",
       "      <td>NaN</td>\n",
       "      <td>NaN</td>\n",
       "      <td>...</td>\n",
       "      <td>NaN</td>\n",
       "      <td>NaN</td>\n",
       "      <td>NaN</td>\n",
       "      <td>NaN</td>\n",
       "      <td>NaN</td>\n",
       "      <td>NaN</td>\n",
       "      <td>NaN</td>\n",
       "      <td>NaN</td>\n",
       "      <td>NaN</td>\n",
       "      <td>NaN</td>\n",
       "    </tr>\n",
       "    <tr>\n",
       "      <th>DLL3</th>\n",
       "      <th>NOTCH2</th>\n",
       "      <td>NaN</td>\n",
       "      <td>NaN</td>\n",
       "      <td>NaN</td>\n",
       "      <td>NaN</td>\n",
       "      <td>NaN</td>\n",
       "      <td>NaN</td>\n",
       "      <td>NaN</td>\n",
       "      <td>NaN</td>\n",
       "      <td>NaN</td>\n",
       "      <td>NaN</td>\n",
       "      <td>...</td>\n",
       "      <td>NaN</td>\n",
       "      <td>NaN</td>\n",
       "      <td>NaN</td>\n",
       "      <td>NaN</td>\n",
       "      <td>NaN</td>\n",
       "      <td>NaN</td>\n",
       "      <td>NaN</td>\n",
       "      <td>NaN</td>\n",
       "      <td>NaN</td>\n",
       "      <td>NaN</td>\n",
       "    </tr>\n",
       "  </tbody>\n",
       "</table>\n",
       "<p>5 rows × 64 columns</p>\n",
       "</div>"
      ],
      "text/plain": [
       "cluster_1     B cells                                                          \\\n",
       "cluster_2     B cells CD14+ Monocytes CD4 T cells CD8 T cells Dendritic cells   \n",
       "source target                                                                   \n",
       "DLL1   NOTCH1     NaN             NaN         NaN         NaN             NaN   \n",
       "TNF    NOTCH1     NaN             NaN         NaN         NaN             NaN   \n",
       "DLL3   NOTCH1     NaN             NaN         NaN         NaN             NaN   \n",
       "DLL1   NOTCH2     NaN             NaN         NaN         NaN             NaN   \n",
       "DLL3   NOTCH2     NaN             NaN         NaN         NaN             NaN   \n",
       "\n",
       "cluster_1                                               CD14+ Monocytes  \\\n",
       "cluster_2     FCGR3A+ Monocytes Megakaryocytes NK cells         B cells   \n",
       "source target                                                             \n",
       "DLL1   NOTCH1               NaN            NaN      NaN             NaN   \n",
       "TNF    NOTCH1               NaN            NaN      NaN             NaN   \n",
       "DLL3   NOTCH1               NaN            NaN      NaN             NaN   \n",
       "DLL1   NOTCH2               NaN            NaN      NaN             NaN   \n",
       "DLL3   NOTCH2               NaN            NaN      NaN             NaN   \n",
       "\n",
       "cluster_1                      ... Megakaryocytes          NK cells  \\\n",
       "cluster_2     CD14+ Monocytes  ... Megakaryocytes NK cells  B cells   \n",
       "source target                  ...                                    \n",
       "DLL1   NOTCH1             NaN  ...            NaN      NaN      NaN   \n",
       "TNF    NOTCH1             NaN  ...            NaN      NaN      NaN   \n",
       "DLL3   NOTCH1             NaN  ...            NaN      NaN      NaN   \n",
       "DLL1   NOTCH2             NaN  ...            NaN      NaN      NaN   \n",
       "DLL3   NOTCH2             NaN  ...            NaN      NaN      NaN   \n",
       "\n",
       "cluster_1                                                              \\\n",
       "cluster_2     CD14+ Monocytes CD4 T cells CD8 T cells Dendritic cells   \n",
       "source target                                                           \n",
       "DLL1   NOTCH1             NaN         NaN         NaN             NaN   \n",
       "TNF    NOTCH1             NaN         NaN         NaN             NaN   \n",
       "DLL3   NOTCH1             NaN         NaN         NaN             NaN   \n",
       "DLL1   NOTCH2             NaN         NaN         NaN             NaN   \n",
       "DLL3   NOTCH2             NaN         NaN         NaN             NaN   \n",
       "\n",
       "cluster_1                                                \n",
       "cluster_2     FCGR3A+ Monocytes Megakaryocytes NK cells  \n",
       "source target                                            \n",
       "DLL1   NOTCH1               NaN            NaN      NaN  \n",
       "TNF    NOTCH1               NaN            NaN      NaN  \n",
       "DLL3   NOTCH1               NaN            NaN      NaN  \n",
       "DLL1   NOTCH2               NaN            NaN      NaN  \n",
       "DLL3   NOTCH2               NaN            NaN      NaN  \n",
       "\n",
       "[5 rows x 64 columns]"
      ]
     },
     "execution_count": 10,
     "metadata": {},
     "output_type": "execute_result"
    }
   ],
   "source": [
    "res = sq.gr.ligrec(adata, \"louvain\",\n",
    "                   fdr_method=None, copy=True,\n",
    "                   interactions_params={\"resources\": \"CellPhoneDB\"},\n",
    "                   threshold=0.1, seed=0, n_perms=10000, n_jobs=1)\n",
    "df = res.pvalues\n",
    "print(\"Number of CellPhoneDB interactions (human data):\", len(df))\n",
    "\n",
    "df.head()"
   ]
  },
  {
   "cell_type": "code",
   "execution_count": 11,
   "metadata": {},
   "outputs": [
    {
     "name": "stderr",
     "output_type": "stream",
     "text": [
      "/home/michal/.miniconda3/envs/cellrank/lib/python3.8/site-packages/pandas/core/arrays/categorical.py:2487: FutureWarning: The `inplace` parameter in pandas.Categorical.remove_unused_categories is deprecated and will be removed in a future version.\n",
      "  res = method(*args, **kwargs)\n"
     ]
    },
    {
     "data": {
      "image/png": "[encoded data removed]",
      "text/plain": [
       "<Figure size 321.12x273.6 with 6 Axes>"
      ]
     },
     "metadata": {
      "needs_background": "light"
     },
     "output_type": "display_data"
    }
   ],
   "source": [
    "sq.pl.ligrec(res, source_groups=[\"CD4 T cells\", \"B cells\"], dendrogram=None)"
   ]
  },
  {
   "cell_type": "markdown",
   "metadata": {},
   "source": [
    "### Use all available resources from OmniPath"
   ]
  },
  {
   "cell_type": "code",
   "execution_count": 12,
   "metadata": {},
   "outputs": [
    {
     "data": {
      "application/vnd.jupyter.widget-view+json": {
       "model_id": "dc2830b92eca44418d3c55dae31c61b2",
       "version_major": 2,
       "version_minor": 0
      },
      "text/plain": [
       "  0%|          | 0/10000 [00:00<?, ?permutation/s]"
      ]
     },
     "metadata": {},
     "output_type": "display_data"
    },
    {
     "name": "stdout",
     "output_type": "stream",
     "text": [
      "Number of OmniPath interactions (human data): 510\n"
     ]
    },
    {
     "data": {
      "text/html": [
       "<div>\n",
       "<style scoped>\n",
       "    .dataframe tbody tr th:only-of-type {\n",
       "        vertical-align: middle;\n",
       "    }\n",
       "\n",
       "    .dataframe tbody tr th {\n",
       "        vertical-align: top;\n",
       "    }\n",
       "\n",
       "    .dataframe thead tr th {\n",
       "        text-align: left;\n",
       "    }\n",
       "\n",
       "    .dataframe thead tr:last-of-type th {\n",
       "        text-align: right;\n",
       "    }\n",
       "</style>\n",
       "<table border=\"1\" class=\"dataframe\">\n",
       "  <thead>\n",
       "    <tr>\n",
       "      <th></th>\n",
       "      <th>cluster_1</th>\n",
       "      <th colspan=\"8\" halign=\"left\">B cells</th>\n",
       "      <th colspan=\"2\" halign=\"left\">CD14+ Monocytes</th>\n",
       "      <th>...</th>\n",
       "      <th colspan=\"2\" halign=\"left\">Megakaryocytes</th>\n",
       "      <th colspan=\"8\" halign=\"left\">NK cells</th>\n",
       "    </tr>\n",
       "    <tr>\n",
       "      <th></th>\n",
       "      <th>cluster_2</th>\n",
       "      <th>B cells</th>\n",
       "      <th>CD14+ Monocytes</th>\n",
       "      <th>CD4 T cells</th>\n",
       "      <th>CD8 T cells</th>\n",
       "      <th>Dendritic cells</th>\n",
       "      <th>FCGR3A+ Monocytes</th>\n",
       "      <th>Megakaryocytes</th>\n",
       "      <th>NK cells</th>\n",
       "      <th>B cells</th>\n",
       "      <th>CD14+ Monocytes</th>\n",
       "      <th>...</th>\n",
       "      <th>Megakaryocytes</th>\n",
       "      <th>NK cells</th>\n",
       "      <th>B cells</th>\n",
       "      <th>CD14+ Monocytes</th>\n",
       "      <th>CD4 T cells</th>\n",
       "      <th>CD8 T cells</th>\n",
       "      <th>Dendritic cells</th>\n",
       "      <th>FCGR3A+ Monocytes</th>\n",
       "      <th>Megakaryocytes</th>\n",
       "      <th>NK cells</th>\n",
       "    </tr>\n",
       "    <tr>\n",
       "      <th>source</th>\n",
       "      <th>target</th>\n",
       "      <th></th>\n",
       "      <th></th>\n",
       "      <th></th>\n",
       "      <th></th>\n",
       "      <th></th>\n",
       "      <th></th>\n",
       "      <th></th>\n",
       "      <th></th>\n",
       "      <th></th>\n",
       "      <th></th>\n",
       "      <th></th>\n",
       "      <th></th>\n",
       "      <th></th>\n",
       "      <th></th>\n",
       "      <th></th>\n",
       "      <th></th>\n",
       "      <th></th>\n",
       "      <th></th>\n",
       "      <th></th>\n",
       "      <th></th>\n",
       "      <th></th>\n",
       "    </tr>\n",
       "  </thead>\n",
       "  <tbody>\n",
       "    <tr>\n",
       "      <th>FYN</th>\n",
       "      <th>ITGB1</th>\n",
       "      <td>NaN</td>\n",
       "      <td>NaN</td>\n",
       "      <td>NaN</td>\n",
       "      <td>NaN</td>\n",
       "      <td>NaN</td>\n",
       "      <td>NaN</td>\n",
       "      <td>NaN</td>\n",
       "      <td>NaN</td>\n",
       "      <td>NaN</td>\n",
       "      <td>NaN</td>\n",
       "      <td>...</td>\n",
       "      <td>NaN</td>\n",
       "      <td>NaN</td>\n",
       "      <td>NaN</td>\n",
       "      <td>NaN</td>\n",
       "      <td>NaN</td>\n",
       "      <td>NaN</td>\n",
       "      <td>NaN</td>\n",
       "      <td>NaN</td>\n",
       "      <td>0.0018</td>\n",
       "      <td>NaN</td>\n",
       "    </tr>\n",
       "    <tr>\n",
       "      <th>RAC1</th>\n",
       "      <th>ITGB1</th>\n",
       "      <td>NaN</td>\n",
       "      <td>NaN</td>\n",
       "      <td>NaN</td>\n",
       "      <td>NaN</td>\n",
       "      <td>NaN</td>\n",
       "      <td>NaN</td>\n",
       "      <td>0.9954</td>\n",
       "      <td>NaN</td>\n",
       "      <td>NaN</td>\n",
       "      <td>NaN</td>\n",
       "      <td>...</td>\n",
       "      <td>0.1756</td>\n",
       "      <td>NaN</td>\n",
       "      <td>NaN</td>\n",
       "      <td>NaN</td>\n",
       "      <td>NaN</td>\n",
       "      <td>NaN</td>\n",
       "      <td>NaN</td>\n",
       "      <td>NaN</td>\n",
       "      <td>0.0912</td>\n",
       "      <td>NaN</td>\n",
       "    </tr>\n",
       "    <tr>\n",
       "      <th>HGF</th>\n",
       "      <th>ITGB1</th>\n",
       "      <td>NaN</td>\n",
       "      <td>NaN</td>\n",
       "      <td>NaN</td>\n",
       "      <td>NaN</td>\n",
       "      <td>NaN</td>\n",
       "      <td>NaN</td>\n",
       "      <td>NaN</td>\n",
       "      <td>NaN</td>\n",
       "      <td>NaN</td>\n",
       "      <td>NaN</td>\n",
       "      <td>...</td>\n",
       "      <td>NaN</td>\n",
       "      <td>NaN</td>\n",
       "      <td>NaN</td>\n",
       "      <td>NaN</td>\n",
       "      <td>NaN</td>\n",
       "      <td>NaN</td>\n",
       "      <td>NaN</td>\n",
       "      <td>NaN</td>\n",
       "      <td>NaN</td>\n",
       "      <td>NaN</td>\n",
       "    </tr>\n",
       "    <tr>\n",
       "      <th>TGFB1</th>\n",
       "      <th>ITGB1</th>\n",
       "      <td>NaN</td>\n",
       "      <td>NaN</td>\n",
       "      <td>NaN</td>\n",
       "      <td>NaN</td>\n",
       "      <td>NaN</td>\n",
       "      <td>NaN</td>\n",
       "      <td>NaN</td>\n",
       "      <td>NaN</td>\n",
       "      <td>NaN</td>\n",
       "      <td>NaN</td>\n",
       "      <td>...</td>\n",
       "      <td>NaN</td>\n",
       "      <td>NaN</td>\n",
       "      <td>NaN</td>\n",
       "      <td>NaN</td>\n",
       "      <td>NaN</td>\n",
       "      <td>NaN</td>\n",
       "      <td>NaN</td>\n",
       "      <td>NaN</td>\n",
       "      <td>0.0007</td>\n",
       "      <td>NaN</td>\n",
       "    </tr>\n",
       "    <tr>\n",
       "      <th>TGFB3</th>\n",
       "      <th>ITGB1</th>\n",
       "      <td>NaN</td>\n",
       "      <td>NaN</td>\n",
       "      <td>NaN</td>\n",
       "      <td>NaN</td>\n",
       "      <td>NaN</td>\n",
       "      <td>NaN</td>\n",
       "      <td>NaN</td>\n",
       "      <td>NaN</td>\n",
       "      <td>NaN</td>\n",
       "      <td>NaN</td>\n",
       "      <td>...</td>\n",
       "      <td>NaN</td>\n",
       "      <td>NaN</td>\n",
       "      <td>NaN</td>\n",
       "      <td>NaN</td>\n",
       "      <td>NaN</td>\n",
       "      <td>NaN</td>\n",
       "      <td>NaN</td>\n",
       "      <td>NaN</td>\n",
       "      <td>NaN</td>\n",
       "      <td>NaN</td>\n",
       "    </tr>\n",
       "  </tbody>\n",
       "</table>\n",
       "<p>5 rows × 64 columns</p>\n",
       "</div>"
      ],
      "text/plain": [
       "cluster_1     B cells                                                          \\\n",
       "cluster_2     B cells CD14+ Monocytes CD4 T cells CD8 T cells Dendritic cells   \n",
       "source target                                                                   \n",
       "FYN    ITGB1      NaN             NaN         NaN         NaN             NaN   \n",
       "RAC1   ITGB1      NaN             NaN         NaN         NaN             NaN   \n",
       "HGF    ITGB1      NaN             NaN         NaN         NaN             NaN   \n",
       "TGFB1  ITGB1      NaN             NaN         NaN         NaN             NaN   \n",
       "TGFB3  ITGB1      NaN             NaN         NaN         NaN             NaN   \n",
       "\n",
       "cluster_1                                               CD14+ Monocytes  \\\n",
       "cluster_2     FCGR3A+ Monocytes Megakaryocytes NK cells         B cells   \n",
       "source target                                                             \n",
       "FYN    ITGB1                NaN            NaN      NaN             NaN   \n",
       "RAC1   ITGB1                NaN         0.9954      NaN             NaN   \n",
       "HGF    ITGB1                NaN            NaN      NaN             NaN   \n",
       "TGFB1  ITGB1                NaN            NaN      NaN             NaN   \n",
       "TGFB3  ITGB1                NaN            NaN      NaN             NaN   \n",
       "\n",
       "cluster_1                      ... Megakaryocytes          NK cells  \\\n",
       "cluster_2     CD14+ Monocytes  ... Megakaryocytes NK cells  B cells   \n",
       "source target                  ...                                    \n",
       "FYN    ITGB1              NaN  ...            NaN      NaN      NaN   \n",
       "RAC1   ITGB1              NaN  ...         0.1756      NaN      NaN   \n",
       "HGF    ITGB1              NaN  ...            NaN      NaN      NaN   \n",
       "TGFB1  ITGB1              NaN  ...            NaN      NaN      NaN   \n",
       "TGFB3  ITGB1              NaN  ...            NaN      NaN      NaN   \n",
       "\n",
       "cluster_1                                                              \\\n",
       "cluster_2     CD14+ Monocytes CD4 T cells CD8 T cells Dendritic cells   \n",
       "source target                                                           \n",
       "FYN    ITGB1              NaN         NaN         NaN             NaN   \n",
       "RAC1   ITGB1              NaN         NaN         NaN             NaN   \n",
       "HGF    ITGB1              NaN         NaN         NaN             NaN   \n",
       "TGFB1  ITGB1              NaN         NaN         NaN             NaN   \n",
       "TGFB3  ITGB1              NaN         NaN         NaN             NaN   \n",
       "\n",
       "cluster_1                                                \n",
       "cluster_2     FCGR3A+ Monocytes Megakaryocytes NK cells  \n",
       "source target                                            \n",
       "FYN    ITGB1                NaN         0.0018      NaN  \n",
       "RAC1   ITGB1                NaN         0.0912      NaN  \n",
       "HGF    ITGB1                NaN            NaN      NaN  \n",
       "TGFB1  ITGB1                NaN         0.0007      NaN  \n",
       "TGFB3  ITGB1                NaN            NaN      NaN  \n",
       "\n",
       "[5 rows x 64 columns]"
      ]
     },
     "execution_count": 12,
     "metadata": {},
     "output_type": "execute_result"
    }
   ],
   "source": [
    "res = sq.gr.ligrec(adata, \"louvain\",\n",
    "                   fdr_method=None, copy=True,\n",
    "                   threshold=0.1, seed=0, n_perms=10000, n_jobs=1)\n",
    "df = res.pvalues\n",
    "print(\"Number of OmniPath interactions (human data):\", len(df))\n",
    "\n",
    "df.head()"
   ]
  },
  {
   "cell_type": "code",
   "execution_count": 13,
   "metadata": {},
   "outputs": [
    {
     "name": "stderr",
     "output_type": "stream",
     "text": [
      "/home/michal/.miniconda3/envs/cellrank/lib/python3.8/site-packages/pandas/core/arrays/categorical.py:2487: FutureWarning: The `inplace` parameter in pandas.Categorical.remove_unused_categories is deprecated and will be removed in a future version.\n",
      "  res = method(*args, **kwargs)\n"
     ]
    },
    {
     "data": {
      "image/png": "[encoded data removed]",
      "text/plain": [
       "<Figure size 534.24x1357.2 with 6 Axes>"
      ]
     },
     "metadata": {
      "needs_background": "light"
     },
     "output_type": "display_data"
    }
   ],
   "source": [
    "sq.pl.ligrec(res, source_groups=[\"CD4 T cells\", \"B cells\"])"
   ]
  },
  {
   "cell_type": "markdown",
   "metadata": {},
   "source": [
    "# Conluding remarks"
   ]
  },
  {
   "cell_type": "markdown",
   "metadata": {},
   "source": [
    "Using OmniPath as an interation source yields approx. ~7x more interactions than from CellPhoneDB for the selected human data and ~11x interactions for the seleted mouse data (internally in `squidpy.gr.ligrec`, we map the mouse gene symbols to human simply by uppercasing).\n",
    "\n",
    "In the context of spatial tools, the goal is to use the permutation test from CellPhoneDB to analyze receptor-ligand interaction pairs in clusters that are spatially close."
   ]
  },
  {
   "cell_type": "code",
   "execution_count": 15,
   "metadata": {},
   "outputs": [
    {
     "data": {
      "text/plain": [
       "<AxesSubplot:xlabel='dataset', ylabel='n_interactions'>"
      ]
     },
     "execution_count": 15,
     "metadata": {},
     "output_type": "execute_result"
    },
    {
     "data": {
      "image/png": "[encoded data removed]",
      "text/plain": [
       "<Figure size 240x240 with 1 Axes>"
      ]
     },
     "metadata": {},
     "output_type": "display_data"
    }
   ],
   "source": [
    "import matplotlib.pyplot as plt\n",
    "import seaborn as sns\n",
    "sc.set_figure_params(facecolor=\"white\", figsize=(8, 8))\n",
    "\n",
    "\n",
    "dic = {\n",
    "    \"dataset\" : [\"paul15\",\"pbmc3k\",\"paul15\",\"pbmc3k\"],\n",
    "    \"organism\" : [\"mouse\",\"human\",\"mouse\",\"human\"],\n",
    "    \"n_interactions\" : [9,76,107,510],\n",
    "    \"database\" : [\"cellphonedb\",\"cellphonedb\",\"omnipath\",\"omnipath\"] \n",
    "}\n",
    "df = pd.DataFrame(dic)\n",
    "fix, ax = plt.subplots(1,1,figsize=(3,3))\n",
    "sns.scatterplot(data=df, x=\"dataset\", y=\"n_interactions\",hue=\"database\", s=200)\n",
    "\n"
   ]
  }
 ],
 "metadata": {
  "kernelspec": {
   "display_name": "Python 3",
   "language": "python",
   "name": "python3"
  },
  "language_info": {
   "codemirror_mode": {
    "name": "ipython",
    "version": 3
   },
   "file_extension": ".py",
   "mimetype": "text/x-python",
   "name": "python",
   "nbconvert_exporter": "python",
   "pygments_lexer": "ipython3",
   "version": "3.8.5"
  },
  "varInspector": {
   "cols": {
    "lenName": 16,
    "lenType": 16,
    "lenVar": 40
   },
   "kernels_config": {
    "python": {
     "delete_cmd_postfix": "",
     "delete_cmd_prefix": "del ",
     "library": "var_list.py",
     "varRefreshCmd": "print(var_dic_list())"
    },
    "r": {
     "delete_cmd_postfix": ") ",
     "delete_cmd_prefix": "rm(",
     "library": "var_list.r",
     "varRefreshCmd": "cat(var_dic_list()) "
    }
   },
   "types_to_exclude": [
    "module",
    "function",
    "builtin_function_or_method",
    "instance",
    "_Feature"
   ],
   "window_display": false
  }
 },
 "nbformat": 4,
 "nbformat_minor": 4
}
