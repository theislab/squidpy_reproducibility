{
 "cells": [
  {
   "cell_type": "code",
   "execution_count": 1,
   "metadata": {},
   "outputs": [
    {
     "name": "stderr",
     "output_type": "stream",
     "text": [
      "/Users/hannah.spitzer/opt/miniconda3/envs/squidpy/lib/python3.8/site-packages/napari/__init__.py:44: UserWarning: \n",
      "    napari was tested with QT library `>=5.12.3`.\n",
      "    The version installed is 5.9.7. Please report any issues with this\n",
      "    specific QT version at https://github.com/Napari/napari/issues.\n",
      "    \n",
      "  warn(message=warn_message)\n"
     ]
    }
   ],
   "source": [
    "import squidpy as sq\n",
    "import scanpy as sc\n",
    "import skimage\n",
    "import numpy as np\n",
    "import os\n",
    "import matplotlib.pyplot as plt\n",
    "import pandas as pd\n",
    "import seaborn as sns\n",
    "import time"
   ]
  },
  {
   "cell_type": "code",
   "execution_count": 20,
   "metadata": {},
   "outputs": [],
   "source": [
    "# load data\n",
    "img = sq.datasets.visium_hne_image_crop()\n",
    "adata = sq.datasets.visium_hne_adata_crop()"
   ]
  },
  {
   "cell_type": "code",
   "execution_count": 41,
   "metadata": {},
   "outputs": [],
   "source": [
    "# define workflow\n",
    "def time_image_workflow(img, adata, n_jobs=1):\n",
    "    start = time.time()\n",
    "    #sq.im.process(img, method=\"smooth\", sigma=2)\n",
    "    sq.im.segment(img, layer=\"image\", method=\"watershed\", thresh=None, n_jobs=n_jobs, size=2000)\n",
    "    sq.im.calculate_image_features(adata,img,layer=\"image\",key_added='features', \n",
    "                               features=['summary', 'histogram'],\n",
    "                               n_jobs=n_jobs, \n",
    "                               spot_scale=1, \n",
    "                               scale=1.0, \n",
    "                               mask_circle=True)\n",
    "    end = time.time()\n",
    "    return end - start"
   ]
  },
  {
   "cell_type": "code",
   "execution_count": 46,
   "metadata": {},
   "outputs": [],
   "source": [
    "res = []"
   ]
  },
  {
   "cell_type": "code",
   "execution_count": 47,
   "metadata": {},
   "outputs": [
    {
     "data": {
      "application/vnd.jupyter.widget-view+json": {
       "model_id": "77d9ae43df574b4eb4ce0ad94e753ba2",
       "version_major": 2,
       "version_minor": 0
      },
      "text/plain": [
       "HBox(children=(HTML(value=''), FloatProgress(value=0.0, max=16.0), HTML(value='')))"
      ]
     },
     "metadata": {},
     "output_type": "display_data"
    },
    {
     "name": "stdout",
     "output_type": "stream",
     "text": [
      "\n"
     ]
    },
    {
     "data": {
      "application/vnd.jupyter.widget-view+json": {
       "model_id": "b0ee6cb911e74d4da13cf5b659da09b3",
       "version_major": 2,
       "version_minor": 0
      },
      "text/plain": [
       "HBox(children=(HTML(value=''), FloatProgress(value=0.0, max=704.0), HTML(value='')))"
      ]
     },
     "metadata": {},
     "output_type": "display_data"
    },
    {
     "name": "stdout",
     "output_type": "stream",
     "text": [
      "\n"
     ]
    },
    {
     "data": {
      "application/vnd.jupyter.widget-view+json": {
       "model_id": "ed4bd4b3b38d46afb5754dc98f99115a",
       "version_major": 2,
       "version_minor": 0
      },
      "text/plain": [
       "HBox(children=(HTML(value=''), FloatProgress(value=0.0, max=16.0), HTML(value='')))"
      ]
     },
     "metadata": {},
     "output_type": "display_data"
    },
    {
     "name": "stdout",
     "output_type": "stream",
     "text": [
      "\n"
     ]
    },
    {
     "data": {
      "application/vnd.jupyter.widget-view+json": {
       "model_id": "22580eface144cce849ab6e88835911a",
       "version_major": 2,
       "version_minor": 0
      },
      "text/plain": [
       "HBox(children=(HTML(value=''), FloatProgress(value=0.0, max=704.0), HTML(value='')))"
      ]
     },
     "metadata": {},
     "output_type": "display_data"
    },
    {
     "name": "stdout",
     "output_type": "stream",
     "text": [
      "\n"
     ]
    },
    {
     "data": {
      "application/vnd.jupyter.widget-view+json": {
       "model_id": "8d4475a692844a1f9c2f7716a790a29f",
       "version_major": 2,
       "version_minor": 0
      },
      "text/plain": [
       "HBox(children=(HTML(value=''), FloatProgress(value=0.0, max=16.0), HTML(value='')))"
      ]
     },
     "metadata": {},
     "output_type": "display_data"
    },
    {
     "name": "stdout",
     "output_type": "stream",
     "text": [
      "\n"
     ]
    },
    {
     "data": {
      "application/vnd.jupyter.widget-view+json": {
       "model_id": "3b3ebede08e84959981350ca7c26b853",
       "version_major": 2,
       "version_minor": 0
      },
      "text/plain": [
       "HBox(children=(HTML(value=''), FloatProgress(value=0.0, max=704.0), HTML(value='')))"
      ]
     },
     "metadata": {},
     "output_type": "display_data"
    },
    {
     "name": "stdout",
     "output_type": "stream",
     "text": [
      "\n"
     ]
    },
    {
     "data": {
      "application/vnd.jupyter.widget-view+json": {
       "model_id": "c7a73a9692cc427c80012d2f7ad50e97",
       "version_major": 2,
       "version_minor": 0
      },
      "text/plain": [
       "HBox(children=(HTML(value=''), FloatProgress(value=0.0, max=16.0), HTML(value='')))"
      ]
     },
     "metadata": {},
     "output_type": "display_data"
    },
    {
     "name": "stdout",
     "output_type": "stream",
     "text": [
      "\n"
     ]
    },
    {
     "data": {
      "application/vnd.jupyter.widget-view+json": {
       "model_id": "4acca1c84a80471b8b651d6736727a1a",
       "version_major": 2,
       "version_minor": 0
      },
      "text/plain": [
       "HBox(children=(HTML(value=''), FloatProgress(value=0.0, max=704.0), HTML(value='')))"
      ]
     },
     "metadata": {},
     "output_type": "display_data"
    },
    {
     "name": "stdout",
     "output_type": "stream",
     "text": [
      "\n"
     ]
    },
    {
     "data": {
      "application/vnd.jupyter.widget-view+json": {
       "model_id": "05ab6c228db244caa9ccc512c62c9ade",
       "version_major": 2,
       "version_minor": 0
      },
      "text/plain": [
       "HBox(children=(HTML(value=''), FloatProgress(value=0.0, max=16.0), HTML(value='')))"
      ]
     },
     "metadata": {},
     "output_type": "display_data"
    },
    {
     "name": "stdout",
     "output_type": "stream",
     "text": [
      "\n"
     ]
    },
    {
     "data": {
      "application/vnd.jupyter.widget-view+json": {
       "model_id": "5574b1d6c1e64a32998b116a6566c0bd",
       "version_major": 2,
       "version_minor": 0
      },
      "text/plain": [
       "HBox(children=(HTML(value=''), FloatProgress(value=0.0, max=704.0), HTML(value='')))"
      ]
     },
     "metadata": {},
     "output_type": "display_data"
    },
    {
     "name": "stdout",
     "output_type": "stream",
     "text": [
      "\n"
     ]
    },
    {
     "data": {
      "application/vnd.jupyter.widget-view+json": {
       "model_id": "ef2b281222b14e2f83455717630866b8",
       "version_major": 2,
       "version_minor": 0
      },
      "text/plain": [
       "HBox(children=(HTML(value=''), FloatProgress(value=0.0, max=16.0), HTML(value='')))"
      ]
     },
     "metadata": {},
     "output_type": "display_data"
    },
    {
     "name": "stdout",
     "output_type": "stream",
     "text": [
      "\n"
     ]
    },
    {
     "data": {
      "application/vnd.jupyter.widget-view+json": {
       "model_id": "3cce3a5261eb4247bcc5f9acfb2c54a5",
       "version_major": 2,
       "version_minor": 0
      },
      "text/plain": [
       "HBox(children=(HTML(value=''), FloatProgress(value=0.0, max=704.0), HTML(value='')))"
      ]
     },
     "metadata": {},
     "output_type": "display_data"
    },
    {
     "name": "stdout",
     "output_type": "stream",
     "text": [
      "\n"
     ]
    },
    {
     "data": {
      "application/vnd.jupyter.widget-view+json": {
       "model_id": "4b0c80490c044f20bfb4aab2e86c200a",
       "version_major": 2,
       "version_minor": 0
      },
      "text/plain": [
       "HBox(children=(HTML(value=''), FloatProgress(value=0.0, max=16.0), HTML(value='')))"
      ]
     },
     "metadata": {},
     "output_type": "display_data"
    },
    {
     "name": "stdout",
     "output_type": "stream",
     "text": [
      "\n"
     ]
    },
    {
     "data": {
      "application/vnd.jupyter.widget-view+json": {
       "model_id": "a18d4deece464d40ba91180ecfbe3cc6",
       "version_major": 2,
       "version_minor": 0
      },
      "text/plain": [
       "HBox(children=(HTML(value=''), FloatProgress(value=0.0, max=704.0), HTML(value='')))"
      ]
     },
     "metadata": {},
     "output_type": "display_data"
    },
    {
     "name": "stdout",
     "output_type": "stream",
     "text": [
      "\n"
     ]
    },
    {
     "data": {
      "application/vnd.jupyter.widget-view+json": {
       "model_id": "c28123e1e3e648dfabf97f2248ea0102",
       "version_major": 2,
       "version_minor": 0
      },
      "text/plain": [
       "HBox(children=(HTML(value=''), FloatProgress(value=0.0, max=16.0), HTML(value='')))"
      ]
     },
     "metadata": {},
     "output_type": "display_data"
    },
    {
     "name": "stdout",
     "output_type": "stream",
     "text": [
      "\n"
     ]
    },
    {
     "data": {
      "application/vnd.jupyter.widget-view+json": {
       "model_id": "ccf51d74c29d43229e4de37f50dc3930",
       "version_major": 2,
       "version_minor": 0
      },
      "text/plain": [
       "HBox(children=(HTML(value=''), FloatProgress(value=0.0, max=704.0), HTML(value='')))"
      ]
     },
     "metadata": {},
     "output_type": "display_data"
    },
    {
     "name": "stdout",
     "output_type": "stream",
     "text": [
      "\n"
     ]
    },
    {
     "data": {
      "application/vnd.jupyter.widget-view+json": {
       "model_id": "3562a8f4b8794312bc807a2ef6219e3a",
       "version_major": 2,
       "version_minor": 0
      },
      "text/plain": [
       "HBox(children=(HTML(value=''), FloatProgress(value=0.0, max=16.0), HTML(value='')))"
      ]
     },
     "metadata": {},
     "output_type": "display_data"
    },
    {
     "name": "stdout",
     "output_type": "stream",
     "text": [
      "\n"
     ]
    },
    {
     "data": {
      "application/vnd.jupyter.widget-view+json": {
       "model_id": "c72f4c05b90d47d2b212ea46d796ecdd",
       "version_major": 2,
       "version_minor": 0
      },
      "text/plain": [
       "HBox(children=(HTML(value=''), FloatProgress(value=0.0, max=704.0), HTML(value='')))"
      ]
     },
     "metadata": {},
     "output_type": "display_data"
    },
    {
     "name": "stdout",
     "output_type": "stream",
     "text": [
      "\n"
     ]
    },
    {
     "data": {
      "application/vnd.jupyter.widget-view+json": {
       "model_id": "31b4c1841d444a42a8e290d9e464d9be",
       "version_major": 2,
       "version_minor": 0
      },
      "text/plain": [
       "HBox(children=(HTML(value=''), FloatProgress(value=0.0, max=16.0), HTML(value='')))"
      ]
     },
     "metadata": {},
     "output_type": "display_data"
    },
    {
     "name": "stdout",
     "output_type": "stream",
     "text": [
      "\n"
     ]
    },
    {
     "data": {
      "application/vnd.jupyter.widget-view+json": {
       "model_id": "d9bbc23997834d0284f7b8f199e78087",
       "version_major": 2,
       "version_minor": 0
      },
      "text/plain": [
       "HBox(children=(HTML(value=''), FloatProgress(value=0.0, max=704.0), HTML(value='')))"
      ]
     },
     "metadata": {},
     "output_type": "display_data"
    },
    {
     "name": "stdout",
     "output_type": "stream",
     "text": [
      "\n"
     ]
    },
    {
     "data": {
      "application/vnd.jupyter.widget-view+json": {
       "model_id": "8356e93623b64e5185d1386b2360d2c6",
       "version_major": 2,
       "version_minor": 0
      },
      "text/plain": [
       "HBox(children=(HTML(value=''), FloatProgress(value=0.0, max=16.0), HTML(value='')))"
      ]
     },
     "metadata": {},
     "output_type": "display_data"
    },
    {
     "name": "stdout",
     "output_type": "stream",
     "text": [
      "\n"
     ]
    },
    {
     "data": {
      "application/vnd.jupyter.widget-view+json": {
       "model_id": "92a79c9235a54550a70e6428a8124a15",
       "version_major": 2,
       "version_minor": 0
      },
      "text/plain": [
       "HBox(children=(HTML(value=''), FloatProgress(value=0.0, max=704.0), HTML(value='')))"
      ]
     },
     "metadata": {},
     "output_type": "display_data"
    },
    {
     "name": "stdout",
     "output_type": "stream",
     "text": [
      "\n"
     ]
    },
    {
     "data": {
      "application/vnd.jupyter.widget-view+json": {
       "model_id": "f6341836fd3c4068a0bd35cd30c722da",
       "version_major": 2,
       "version_minor": 0
      },
      "text/plain": [
       "HBox(children=(HTML(value=''), FloatProgress(value=0.0, max=16.0), HTML(value='')))"
      ]
     },
     "metadata": {},
     "output_type": "display_data"
    },
    {
     "name": "stdout",
     "output_type": "stream",
     "text": [
      "\n"
     ]
    },
    {
     "data": {
      "application/vnd.jupyter.widget-view+json": {
       "model_id": "a46be95314554543abf0e48448b72762",
       "version_major": 2,
       "version_minor": 0
      },
      "text/plain": [
       "HBox(children=(HTML(value=''), FloatProgress(value=0.0, max=704.0), HTML(value='')))"
      ]
     },
     "metadata": {},
     "output_type": "display_data"
    },
    {
     "name": "stdout",
     "output_type": "stream",
     "text": [
      "\n"
     ]
    }
   ],
   "source": [
    "# calculate execution time for different datasets\n",
    "\n",
    "dataset = 'fluo_crop'\n",
    "img = sq.datasets.visium_fluo_image_crop()\n",
    "adata = sq.datasets.visium_fluo_adata_crop()\n",
    "for run in range(3):\n",
    "    for n_jobs in [1,2,3,4]:\n",
    "        duration = time_image_workflow(img, adata, n_jobs=n_jobs)\n",
    "        res_dict = {\n",
    "            'dataset': dataset,\n",
    "            'n_pixels': img['image'].size,\n",
    "            'shape': str(img['image'].shape),\n",
    "            'n_jobs': n_jobs,\n",
    "            'run': run,\n",
    "            'time': duration,\n",
    "        }\n",
    "        res.append(res_dict)"
   ]
  },
  {
   "cell_type": "code",
   "execution_count": 48,
   "metadata": {},
   "outputs": [
    {
     "data": {
      "application/vnd.jupyter.widget-view+json": {
       "model_id": "02d5f239bb754bc783af97a6ed9c57af",
       "version_major": 2,
       "version_minor": 0
      },
      "text/plain": [
       "HBox(children=(HTML(value=''), FloatProgress(value=0.0, max=4.0), HTML(value='')))"
      ]
     },
     "metadata": {},
     "output_type": "display_data"
    },
    {
     "name": "stdout",
     "output_type": "stream",
     "text": [
      "\n"
     ]
    },
    {
     "data": {
      "application/vnd.jupyter.widget-view+json": {
       "model_id": "1b727ce24b1a430983005b9dc9470211",
       "version_major": 2,
       "version_minor": 0
      },
      "text/plain": [
       "HBox(children=(HTML(value=''), FloatProgress(value=0.0, max=684.0), HTML(value='')))"
      ]
     },
     "metadata": {},
     "output_type": "display_data"
    },
    {
     "name": "stdout",
     "output_type": "stream",
     "text": [
      "\n"
     ]
    },
    {
     "data": {
      "application/vnd.jupyter.widget-view+json": {
       "model_id": "06bf7ed3d30d4d5db87c7cd1f57da01c",
       "version_major": 2,
       "version_minor": 0
      },
      "text/plain": [
       "HBox(children=(HTML(value=''), FloatProgress(value=0.0, max=4.0), HTML(value='')))"
      ]
     },
     "metadata": {},
     "output_type": "display_data"
    },
    {
     "name": "stdout",
     "output_type": "stream",
     "text": [
      "\n"
     ]
    },
    {
     "data": {
      "application/vnd.jupyter.widget-view+json": {
       "model_id": "6d32cb5f6f1a407588d10778fdc3125b",
       "version_major": 2,
       "version_minor": 0
      },
      "text/plain": [
       "HBox(children=(HTML(value=''), FloatProgress(value=0.0, max=684.0), HTML(value='')))"
      ]
     },
     "metadata": {},
     "output_type": "display_data"
    },
    {
     "name": "stdout",
     "output_type": "stream",
     "text": [
      "\n"
     ]
    },
    {
     "data": {
      "application/vnd.jupyter.widget-view+json": {
       "model_id": "3a998a11e01d4dc0921289b3381fdad7",
       "version_major": 2,
       "version_minor": 0
      },
      "text/plain": [
       "HBox(children=(HTML(value=''), FloatProgress(value=0.0, max=4.0), HTML(value='')))"
      ]
     },
     "metadata": {},
     "output_type": "display_data"
    },
    {
     "name": "stdout",
     "output_type": "stream",
     "text": [
      "\n"
     ]
    },
    {
     "data": {
      "application/vnd.jupyter.widget-view+json": {
       "model_id": "98fc749309c74947a41b01048d122085",
       "version_major": 2,
       "version_minor": 0
      },
      "text/plain": [
       "HBox(children=(HTML(value=''), FloatProgress(value=0.0, max=684.0), HTML(value='')))"
      ]
     },
     "metadata": {},
     "output_type": "display_data"
    },
    {
     "name": "stdout",
     "output_type": "stream",
     "text": [
      "\n"
     ]
    },
    {
     "data": {
      "application/vnd.jupyter.widget-view+json": {
       "model_id": "91cfdbaa96f143d0a6c867aae4e048ed",
       "version_major": 2,
       "version_minor": 0
      },
      "text/plain": [
       "HBox(children=(HTML(value=''), FloatProgress(value=0.0, max=4.0), HTML(value='')))"
      ]
     },
     "metadata": {},
     "output_type": "display_data"
    },
    {
     "name": "stdout",
     "output_type": "stream",
     "text": [
      "\n"
     ]
    },
    {
     "data": {
      "application/vnd.jupyter.widget-view+json": {
       "model_id": "ac40356c5383443b9fe01f06d7cec014",
       "version_major": 2,
       "version_minor": 0
      },
      "text/plain": [
       "HBox(children=(HTML(value=''), FloatProgress(value=0.0, max=684.0), HTML(value='')))"
      ]
     },
     "metadata": {},
     "output_type": "display_data"
    },
    {
     "name": "stdout",
     "output_type": "stream",
     "text": [
      "\n"
     ]
    },
    {
     "data": {
      "application/vnd.jupyter.widget-view+json": {
       "model_id": "46184c7165704a6085b10f49f32d57b5",
       "version_major": 2,
       "version_minor": 0
      },
      "text/plain": [
       "HBox(children=(HTML(value=''), FloatProgress(value=0.0, max=4.0), HTML(value='')))"
      ]
     },
     "metadata": {},
     "output_type": "display_data"
    },
    {
     "name": "stdout",
     "output_type": "stream",
     "text": [
      "\n"
     ]
    },
    {
     "data": {
      "application/vnd.jupyter.widget-view+json": {
       "model_id": "96e5160e3fe146a0b889ca621de48209",
       "version_major": 2,
       "version_minor": 0
      },
      "text/plain": [
       "HBox(children=(HTML(value=''), FloatProgress(value=0.0, max=684.0), HTML(value='')))"
      ]
     },
     "metadata": {},
     "output_type": "display_data"
    },
    {
     "name": "stdout",
     "output_type": "stream",
     "text": [
      "\n"
     ]
    },
    {
     "data": {
      "application/vnd.jupyter.widget-view+json": {
       "model_id": "58e9b78d9cac466bb8b3d2caed1e2b51",
       "version_major": 2,
       "version_minor": 0
      },
      "text/plain": [
       "HBox(children=(HTML(value=''), FloatProgress(value=0.0, max=4.0), HTML(value='')))"
      ]
     },
     "metadata": {},
     "output_type": "display_data"
    },
    {
     "name": "stdout",
     "output_type": "stream",
     "text": [
      "\n"
     ]
    },
    {
     "data": {
      "application/vnd.jupyter.widget-view+json": {
       "model_id": "757c410a650d4fc8a3adc4210128f746",
       "version_major": 2,
       "version_minor": 0
      },
      "text/plain": [
       "HBox(children=(HTML(value=''), FloatProgress(value=0.0, max=684.0), HTML(value='')))"
      ]
     },
     "metadata": {},
     "output_type": "display_data"
    },
    {
     "name": "stdout",
     "output_type": "stream",
     "text": [
      "\n"
     ]
    },
    {
     "data": {
      "application/vnd.jupyter.widget-view+json": {
       "model_id": "80ff1c0deee74efeb274deaeab12d02a",
       "version_major": 2,
       "version_minor": 0
      },
      "text/plain": [
       "HBox(children=(HTML(value=''), FloatProgress(value=0.0, max=4.0), HTML(value='')))"
      ]
     },
     "metadata": {},
     "output_type": "display_data"
    },
    {
     "name": "stdout",
     "output_type": "stream",
     "text": [
      "\n"
     ]
    },
    {
     "data": {
      "application/vnd.jupyter.widget-view+json": {
       "model_id": "d5dbb6b03da345e987bed752c63689c1",
       "version_major": 2,
       "version_minor": 0
      },
      "text/plain": [
       "HBox(children=(HTML(value=''), FloatProgress(value=0.0, max=684.0), HTML(value='')))"
      ]
     },
     "metadata": {},
     "output_type": "display_data"
    },
    {
     "name": "stdout",
     "output_type": "stream",
     "text": [
      "\n"
     ]
    },
    {
     "data": {
      "application/vnd.jupyter.widget-view+json": {
       "model_id": "ed6f1884ab714a19ba9fe8256472aa46",
       "version_major": 2,
       "version_minor": 0
      },
      "text/plain": [
       "HBox(children=(HTML(value=''), FloatProgress(value=0.0, max=4.0), HTML(value='')))"
      ]
     },
     "metadata": {},
     "output_type": "display_data"
    },
    {
     "name": "stdout",
     "output_type": "stream",
     "text": [
      "\n"
     ]
    },
    {
     "data": {
      "application/vnd.jupyter.widget-view+json": {
       "model_id": "3c31827f3e9e465e941faf535190557b",
       "version_major": 2,
       "version_minor": 0
      },
      "text/plain": [
       "HBox(children=(HTML(value=''), FloatProgress(value=0.0, max=684.0), HTML(value='')))"
      ]
     },
     "metadata": {},
     "output_type": "display_data"
    },
    {
     "name": "stdout",
     "output_type": "stream",
     "text": [
      "\n"
     ]
    },
    {
     "data": {
      "application/vnd.jupyter.widget-view+json": {
       "model_id": "8defaf0c12ef436a98eb2776d3519280",
       "version_major": 2,
       "version_minor": 0
      },
      "text/plain": [
       "HBox(children=(HTML(value=''), FloatProgress(value=0.0, max=4.0), HTML(value='')))"
      ]
     },
     "metadata": {},
     "output_type": "display_data"
    },
    {
     "name": "stdout",
     "output_type": "stream",
     "text": [
      "\n"
     ]
    },
    {
     "data": {
      "application/vnd.jupyter.widget-view+json": {
       "model_id": "a7413b8f0ab943789f255e641efc51e6",
       "version_major": 2,
       "version_minor": 0
      },
      "text/plain": [
       "HBox(children=(HTML(value=''), FloatProgress(value=0.0, max=684.0), HTML(value='')))"
      ]
     },
     "metadata": {},
     "output_type": "display_data"
    },
    {
     "name": "stdout",
     "output_type": "stream",
     "text": [
      "\n"
     ]
    },
    {
     "data": {
      "application/vnd.jupyter.widget-view+json": {
       "model_id": "0c2b33ac016746c58190709bedb365f4",
       "version_major": 2,
       "version_minor": 0
      },
      "text/plain": [
       "HBox(children=(HTML(value=''), FloatProgress(value=0.0, max=4.0), HTML(value='')))"
      ]
     },
     "metadata": {},
     "output_type": "display_data"
    },
    {
     "name": "stdout",
     "output_type": "stream",
     "text": [
      "\n"
     ]
    },
    {
     "data": {
      "application/vnd.jupyter.widget-view+json": {
       "model_id": "80b50676ba7f48669f42382cc2052eb6",
       "version_major": 2,
       "version_minor": 0
      },
      "text/plain": [
       "HBox(children=(HTML(value=''), FloatProgress(value=0.0, max=684.0), HTML(value='')))"
      ]
     },
     "metadata": {},
     "output_type": "display_data"
    },
    {
     "name": "stdout",
     "output_type": "stream",
     "text": [
      "\n"
     ]
    },
    {
     "data": {
      "application/vnd.jupyter.widget-view+json": {
       "model_id": "a4c1b28ccd774cb994823008dbbc169b",
       "version_major": 2,
       "version_minor": 0
      },
      "text/plain": [
       "HBox(children=(HTML(value=''), FloatProgress(value=0.0, max=4.0), HTML(value='')))"
      ]
     },
     "metadata": {},
     "output_type": "display_data"
    },
    {
     "name": "stdout",
     "output_type": "stream",
     "text": [
      "\n"
     ]
    },
    {
     "data": {
      "application/vnd.jupyter.widget-view+json": {
       "model_id": "a8e3ef22fad84025a726601af1c1e515",
       "version_major": 2,
       "version_minor": 0
      },
      "text/plain": [
       "HBox(children=(HTML(value=''), FloatProgress(value=0.0, max=684.0), HTML(value='')))"
      ]
     },
     "metadata": {},
     "output_type": "display_data"
    },
    {
     "name": "stdout",
     "output_type": "stream",
     "text": [
      "\n"
     ]
    },
    {
     "data": {
      "application/vnd.jupyter.widget-view+json": {
       "model_id": "2c41a77663414140b180bd66e5c996a9",
       "version_major": 2,
       "version_minor": 0
      },
      "text/plain": [
       "HBox(children=(HTML(value=''), FloatProgress(value=0.0, max=4.0), HTML(value='')))"
      ]
     },
     "metadata": {},
     "output_type": "display_data"
    },
    {
     "name": "stdout",
     "output_type": "stream",
     "text": [
      "\n"
     ]
    },
    {
     "data": {
      "application/vnd.jupyter.widget-view+json": {
       "model_id": "66a0e450315b4fd98a2f76b87ba3a19a",
       "version_major": 2,
       "version_minor": 0
      },
      "text/plain": [
       "HBox(children=(HTML(value=''), FloatProgress(value=0.0, max=684.0), HTML(value='')))"
      ]
     },
     "metadata": {},
     "output_type": "display_data"
    },
    {
     "name": "stdout",
     "output_type": "stream",
     "text": [
      "\n"
     ]
    }
   ],
   "source": [
    "dataset = 'hne_crop'\n",
    "img = sq.datasets.visium_hne_image_crop()\n",
    "adata = sq.datasets.visium_hne_adata_crop()\n",
    "for run in range(3):\n",
    "    for n_jobs in [1,2,3,4]:\n",
    "        duration = time_image_workflow(img, adata, n_jobs=n_jobs)\n",
    "        res_dict = {\n",
    "            'dataset': dataset,\n",
    "            'n_pixels': img['image'].size,\n",
    "            'shape': str(img['image'].shape),\n",
    "            'n_jobs': n_jobs,\n",
    "            'run': run,\n",
    "            'time': duration,\n",
    "        }\n",
    "        res.append(res_dict)"
   ]
  },
  {
   "cell_type": "code",
   "execution_count": 49,
   "metadata": {},
   "outputs": [
    {
     "data": {
      "application/vnd.jupyter.widget-view+json": {
       "model_id": "0ea545c49cc04261a742dffa2481969c",
       "version_major": 2,
       "version_minor": 0
      },
      "text/plain": [
       "HBox(children=(HTML(value=''), FloatProgress(value=0.0, max=36.0), HTML(value='')))"
      ]
     },
     "metadata": {},
     "output_type": "display_data"
    },
    {
     "name": "stdout",
     "output_type": "stream",
     "text": [
      "\n"
     ]
    },
    {
     "data": {
      "application/vnd.jupyter.widget-view+json": {
       "model_id": "c068d649c2fb429bb52a1d304ad52f21",
       "version_major": 2,
       "version_minor": 0
      },
      "text/plain": [
       "HBox(children=(HTML(value=''), FloatProgress(value=0.0, max=2688.0), HTML(value='')))"
      ]
     },
     "metadata": {},
     "output_type": "display_data"
    },
    {
     "name": "stdout",
     "output_type": "stream",
     "text": [
      "\n"
     ]
    },
    {
     "data": {
      "application/vnd.jupyter.widget-view+json": {
       "model_id": "55cc7e0fcd4f4c6a8a690c15da1c8585",
       "version_major": 2,
       "version_minor": 0
      },
      "text/plain": [
       "HBox(children=(HTML(value=''), FloatProgress(value=0.0, max=36.0), HTML(value='')))"
      ]
     },
     "metadata": {},
     "output_type": "display_data"
    },
    {
     "name": "stdout",
     "output_type": "stream",
     "text": [
      "\n"
     ]
    },
    {
     "data": {
      "application/vnd.jupyter.widget-view+json": {
       "model_id": "567c0e20704e4170a9c4da02386f9fd4",
       "version_major": 2,
       "version_minor": 0
      },
      "text/plain": [
       "HBox(children=(HTML(value=''), FloatProgress(value=0.0, max=2688.0), HTML(value='')))"
      ]
     },
     "metadata": {},
     "output_type": "display_data"
    },
    {
     "name": "stdout",
     "output_type": "stream",
     "text": [
      "\n"
     ]
    },
    {
     "data": {
      "application/vnd.jupyter.widget-view+json": {
       "model_id": "bab6accfb53b44c79e8910cf2cb9b1ce",
       "version_major": 2,
       "version_minor": 0
      },
      "text/plain": [
       "HBox(children=(HTML(value=''), FloatProgress(value=0.0, max=36.0), HTML(value='')))"
      ]
     },
     "metadata": {},
     "output_type": "display_data"
    },
    {
     "name": "stdout",
     "output_type": "stream",
     "text": [
      "\n"
     ]
    },
    {
     "data": {
      "application/vnd.jupyter.widget-view+json": {
       "model_id": "9b165510dd2d4377bdc69e0e69b05719",
       "version_major": 2,
       "version_minor": 0
      },
      "text/plain": [
       "HBox(children=(HTML(value=''), FloatProgress(value=0.0, max=2688.0), HTML(value='')))"
      ]
     },
     "metadata": {},
     "output_type": "display_data"
    },
    {
     "name": "stdout",
     "output_type": "stream",
     "text": [
      "\n"
     ]
    },
    {
     "data": {
      "application/vnd.jupyter.widget-view+json": {
       "model_id": "c161f3ece9df450396ccff56917e636b",
       "version_major": 2,
       "version_minor": 0
      },
      "text/plain": [
       "HBox(children=(HTML(value=''), FloatProgress(value=0.0, max=36.0), HTML(value='')))"
      ]
     },
     "metadata": {},
     "output_type": "display_data"
    },
    {
     "name": "stdout",
     "output_type": "stream",
     "text": [
      "\n"
     ]
    },
    {
     "data": {
      "application/vnd.jupyter.widget-view+json": {
       "model_id": "1b5f505915aa4a8cbc05b7735420b174",
       "version_major": 2,
       "version_minor": 0
      },
      "text/plain": [
       "HBox(children=(HTML(value=''), FloatProgress(value=0.0, max=2688.0), HTML(value='')))"
      ]
     },
     "metadata": {},
     "output_type": "display_data"
    },
    {
     "name": "stdout",
     "output_type": "stream",
     "text": [
      "\n"
     ]
    },
    {
     "data": {
      "application/vnd.jupyter.widget-view+json": {
       "model_id": "fc10c07957234a1b9e43c64cc8627e56",
       "version_major": 2,
       "version_minor": 0
      },
      "text/plain": [
       "HBox(children=(HTML(value=''), FloatProgress(value=0.0, max=36.0), HTML(value='')))"
      ]
     },
     "metadata": {},
     "output_type": "display_data"
    },
    {
     "name": "stdout",
     "output_type": "stream",
     "text": [
      "\n"
     ]
    },
    {
     "data": {
      "application/vnd.jupyter.widget-view+json": {
       "model_id": "4b4c2939e9fe43ab92df9bda340993da",
       "version_major": 2,
       "version_minor": 0
      },
      "text/plain": [
       "HBox(children=(HTML(value=''), FloatProgress(value=0.0, max=2688.0), HTML(value='')))"
      ]
     },
     "metadata": {},
     "output_type": "display_data"
    },
    {
     "name": "stdout",
     "output_type": "stream",
     "text": [
      "\n"
     ]
    },
    {
     "data": {
      "application/vnd.jupyter.widget-view+json": {
       "model_id": "c7c0b3ccad204d7abdda76b7243d6e7c",
       "version_major": 2,
       "version_minor": 0
      },
      "text/plain": [
       "HBox(children=(HTML(value=''), FloatProgress(value=0.0, max=36.0), HTML(value='')))"
      ]
     },
     "metadata": {},
     "output_type": "display_data"
    },
    {
     "name": "stdout",
     "output_type": "stream",
     "text": [
      "\n"
     ]
    },
    {
     "data": {
      "application/vnd.jupyter.widget-view+json": {
       "model_id": "87df0c382a3148cfa82f538d947fe865",
       "version_major": 2,
       "version_minor": 0
      },
      "text/plain": [
       "HBox(children=(HTML(value=''), FloatProgress(value=0.0, max=2688.0), HTML(value='')))"
      ]
     },
     "metadata": {},
     "output_type": "display_data"
    },
    {
     "name": "stdout",
     "output_type": "stream",
     "text": [
      "\n"
     ]
    },
    {
     "data": {
      "application/vnd.jupyter.widget-view+json": {
       "model_id": "5926795ce6db4b24b84cab34ddaee5f2",
       "version_major": 2,
       "version_minor": 0
      },
      "text/plain": [
       "HBox(children=(HTML(value=''), FloatProgress(value=0.0, max=36.0), HTML(value='')))"
      ]
     },
     "metadata": {},
     "output_type": "display_data"
    },
    {
     "name": "stdout",
     "output_type": "stream",
     "text": [
      "\n"
     ]
    },
    {
     "data": {
      "application/vnd.jupyter.widget-view+json": {
       "model_id": "0796004b895b4303bf98b7890a8fd843",
       "version_major": 2,
       "version_minor": 0
      },
      "text/plain": [
       "HBox(children=(HTML(value=''), FloatProgress(value=0.0, max=2688.0), HTML(value='')))"
      ]
     },
     "metadata": {},
     "output_type": "display_data"
    },
    {
     "name": "stdout",
     "output_type": "stream",
     "text": [
      "\n"
     ]
    },
    {
     "data": {
      "application/vnd.jupyter.widget-view+json": {
       "model_id": "f69646320df149a6b7749362117e842c",
       "version_major": 2,
       "version_minor": 0
      },
      "text/plain": [
       "HBox(children=(HTML(value=''), FloatProgress(value=0.0, max=36.0), HTML(value='')))"
      ]
     },
     "metadata": {},
     "output_type": "display_data"
    },
    {
     "name": "stdout",
     "output_type": "stream",
     "text": [
      "\n"
     ]
    },
    {
     "data": {
      "application/vnd.jupyter.widget-view+json": {
       "model_id": "80bce8c78122469cb4dd63baf8522aa9",
       "version_major": 2,
       "version_minor": 0
      },
      "text/plain": [
       "HBox(children=(HTML(value=''), FloatProgress(value=0.0, max=2688.0), HTML(value='')))"
      ]
     },
     "metadata": {},
     "output_type": "display_data"
    },
    {
     "name": "stdout",
     "output_type": "stream",
     "text": [
      "\n"
     ]
    },
    {
     "data": {
      "application/vnd.jupyter.widget-view+json": {
       "model_id": "1d5a57de8fa142eba70808760b14d544",
       "version_major": 2,
       "version_minor": 0
      },
      "text/plain": [
       "HBox(children=(HTML(value=''), FloatProgress(value=0.0, max=36.0), HTML(value='')))"
      ]
     },
     "metadata": {},
     "output_type": "display_data"
    },
    {
     "name": "stdout",
     "output_type": "stream",
     "text": [
      "\n"
     ]
    },
    {
     "data": {
      "application/vnd.jupyter.widget-view+json": {
       "model_id": "36503ce9a48f4f13b4baf66cf7cfe87e",
       "version_major": 2,
       "version_minor": 0
      },
      "text/plain": [
       "HBox(children=(HTML(value=''), FloatProgress(value=0.0, max=2688.0), HTML(value='')))"
      ]
     },
     "metadata": {},
     "output_type": "display_data"
    },
    {
     "name": "stdout",
     "output_type": "stream",
     "text": [
      "\n"
     ]
    },
    {
     "data": {
      "application/vnd.jupyter.widget-view+json": {
       "model_id": "1c8b382de33149ea9ae0f7f05d7392c0",
       "version_major": 2,
       "version_minor": 0
      },
      "text/plain": [
       "HBox(children=(HTML(value=''), FloatProgress(value=0.0, max=36.0), HTML(value='')))"
      ]
     },
     "metadata": {},
     "output_type": "display_data"
    },
    {
     "name": "stdout",
     "output_type": "stream",
     "text": [
      "\n"
     ]
    },
    {
     "data": {
      "application/vnd.jupyter.widget-view+json": {
       "model_id": "32f58c9d5b3a49acb2862c591665a372",
       "version_major": 2,
       "version_minor": 0
      },
      "text/plain": [
       "HBox(children=(HTML(value=''), FloatProgress(value=0.0, max=2688.0), HTML(value='')))"
      ]
     },
     "metadata": {},
     "output_type": "display_data"
    },
    {
     "name": "stdout",
     "output_type": "stream",
     "text": [
      "\n"
     ]
    },
    {
     "data": {
      "application/vnd.jupyter.widget-view+json": {
       "model_id": "d22a932025124b47808e3cfb1d7c698d",
       "version_major": 2,
       "version_minor": 0
      },
      "text/plain": [
       "HBox(children=(HTML(value=''), FloatProgress(value=0.0, max=36.0), HTML(value='')))"
      ]
     },
     "metadata": {},
     "output_type": "display_data"
    },
    {
     "name": "stdout",
     "output_type": "stream",
     "text": [
      "\n"
     ]
    },
    {
     "data": {
      "application/vnd.jupyter.widget-view+json": {
       "model_id": "9b274c06181749f7b19f224ed0a57ade",
       "version_major": 2,
       "version_minor": 0
      },
      "text/plain": [
       "HBox(children=(HTML(value=''), FloatProgress(value=0.0, max=2688.0), HTML(value='')))"
      ]
     },
     "metadata": {},
     "output_type": "display_data"
    },
    {
     "name": "stdout",
     "output_type": "stream",
     "text": [
      "\n"
     ]
    },
    {
     "data": {
      "application/vnd.jupyter.widget-view+json": {
       "model_id": "4dd865a8181c4e81a97e751dddfee154",
       "version_major": 2,
       "version_minor": 0
      },
      "text/plain": [
       "HBox(children=(HTML(value=''), FloatProgress(value=0.0, max=36.0), HTML(value='')))"
      ]
     },
     "metadata": {},
     "output_type": "display_data"
    },
    {
     "name": "stdout",
     "output_type": "stream",
     "text": [
      "\n"
     ]
    },
    {
     "data": {
      "application/vnd.jupyter.widget-view+json": {
       "model_id": "dd9808ab718e4dfd879658e82ee7b939",
       "version_major": 2,
       "version_minor": 0
      },
      "text/plain": [
       "HBox(children=(HTML(value=''), FloatProgress(value=0.0, max=2688.0), HTML(value='')))"
      ]
     },
     "metadata": {},
     "output_type": "display_data"
    },
    {
     "name": "stdout",
     "output_type": "stream",
     "text": [
      "\n"
     ]
    }
   ],
   "source": [
    "dataset = 'hne'\n",
    "img = sq.datasets.visium_hne_image()\n",
    "adata = sq.datasets.visium_hne_adata()\n",
    "for run in range(3):\n",
    "    for n_jobs in [1,2,3,4]:\n",
    "        duration = time_image_workflow(img, adata, n_jobs=n_jobs)\n",
    "        res_dict = {\n",
    "            'dataset': dataset,\n",
    "            'n_pixels': img['image'].size,\n",
    "            'shape': str(img['image'].shape),\n",
    "            'n_jobs': n_jobs,\n",
    "            'run': run,\n",
    "            'time': duration,\n",
    "        }\n",
    "        res.append(res_dict)"
   ]
  },
  {
   "cell_type": "code",
   "execution_count": 50,
   "metadata": {},
   "outputs": [],
   "source": [
    "df = pd.DataFrame(res)"
   ]
  },
  {
   "cell_type": "code",
   "execution_count": 54,
   "metadata": {},
   "outputs": [
    {
     "data": {
      "text/html": [
       "<div>\n",
       "<style scoped>\n",
       "    .dataframe tbody tr th:only-of-type {\n",
       "        vertical-align: middle;\n",
       "    }\n",
       "\n",
       "    .dataframe tbody tr th {\n",
       "        vertical-align: top;\n",
       "    }\n",
       "\n",
       "    .dataframe thead th {\n",
       "        text-align: right;\n",
       "    }\n",
       "</style>\n",
       "<table border=\"1\" class=\"dataframe\">\n",
       "  <thead>\n",
       "    <tr style=\"text-align: right;\">\n",
       "      <th></th>\n",
       "      <th>dataset</th>\n",
       "      <th>n_pixels</th>\n",
       "      <th>shape</th>\n",
       "      <th>n_jobs</th>\n",
       "      <th>run</th>\n",
       "      <th>time</th>\n",
       "    </tr>\n",
       "  </thead>\n",
       "  <tbody>\n",
       "    <tr>\n",
       "      <th>0</th>\n",
       "      <td>fluo_crop</td>\n",
       "      <td>158645952</td>\n",
       "      <td>(7272, 7272, 3)</td>\n",
       "      <td>1</td>\n",
       "      <td>0</td>\n",
       "      <td>44.377279</td>\n",
       "    </tr>\n",
       "    <tr>\n",
       "      <th>1</th>\n",
       "      <td>fluo_crop</td>\n",
       "      <td>158645952</td>\n",
       "      <td>(7272, 7272, 3)</td>\n",
       "      <td>2</td>\n",
       "      <td>0</td>\n",
       "      <td>37.543131</td>\n",
       "    </tr>\n",
       "    <tr>\n",
       "      <th>2</th>\n",
       "      <td>fluo_crop</td>\n",
       "      <td>158645952</td>\n",
       "      <td>(7272, 7272, 3)</td>\n",
       "      <td>3</td>\n",
       "      <td>0</td>\n",
       "      <td>28.578280</td>\n",
       "    </tr>\n",
       "    <tr>\n",
       "      <th>3</th>\n",
       "      <td>fluo_crop</td>\n",
       "      <td>158645952</td>\n",
       "      <td>(7272, 7272, 3)</td>\n",
       "      <td>4</td>\n",
       "      <td>0</td>\n",
       "      <td>20.971453</td>\n",
       "    </tr>\n",
       "    <tr>\n",
       "      <th>4</th>\n",
       "      <td>fluo_crop</td>\n",
       "      <td>158645952</td>\n",
       "      <td>(7272, 7272, 3)</td>\n",
       "      <td>1</td>\n",
       "      <td>1</td>\n",
       "      <td>34.850302</td>\n",
       "    </tr>\n",
       "    <tr>\n",
       "      <th>5</th>\n",
       "      <td>fluo_crop</td>\n",
       "      <td>158645952</td>\n",
       "      <td>(7272, 7272, 3)</td>\n",
       "      <td>2</td>\n",
       "      <td>1</td>\n",
       "      <td>31.588291</td>\n",
       "    </tr>\n",
       "    <tr>\n",
       "      <th>6</th>\n",
       "      <td>fluo_crop</td>\n",
       "      <td>158645952</td>\n",
       "      <td>(7272, 7272, 3)</td>\n",
       "      <td>3</td>\n",
       "      <td>1</td>\n",
       "      <td>29.627136</td>\n",
       "    </tr>\n",
       "    <tr>\n",
       "      <th>7</th>\n",
       "      <td>fluo_crop</td>\n",
       "      <td>158645952</td>\n",
       "      <td>(7272, 7272, 3)</td>\n",
       "      <td>4</td>\n",
       "      <td>1</td>\n",
       "      <td>24.723751</td>\n",
       "    </tr>\n",
       "    <tr>\n",
       "      <th>8</th>\n",
       "      <td>fluo_crop</td>\n",
       "      <td>158645952</td>\n",
       "      <td>(7272, 7272, 3)</td>\n",
       "      <td>1</td>\n",
       "      <td>2</td>\n",
       "      <td>35.376295</td>\n",
       "    </tr>\n",
       "    <tr>\n",
       "      <th>9</th>\n",
       "      <td>fluo_crop</td>\n",
       "      <td>158645952</td>\n",
       "      <td>(7272, 7272, 3)</td>\n",
       "      <td>2</td>\n",
       "      <td>2</td>\n",
       "      <td>32.446921</td>\n",
       "    </tr>\n",
       "    <tr>\n",
       "      <th>10</th>\n",
       "      <td>fluo_crop</td>\n",
       "      <td>158645952</td>\n",
       "      <td>(7272, 7272, 3)</td>\n",
       "      <td>3</td>\n",
       "      <td>2</td>\n",
       "      <td>29.028469</td>\n",
       "    </tr>\n",
       "    <tr>\n",
       "      <th>11</th>\n",
       "      <td>fluo_crop</td>\n",
       "      <td>158645952</td>\n",
       "      <td>(7272, 7272, 3)</td>\n",
       "      <td>4</td>\n",
       "      <td>2</td>\n",
       "      <td>21.515589</td>\n",
       "    </tr>\n",
       "    <tr>\n",
       "      <th>12</th>\n",
       "      <td>hne_crop</td>\n",
       "      <td>37319187</td>\n",
       "      <td>(3527, 3527, 3)</td>\n",
       "      <td>1</td>\n",
       "      <td>0</td>\n",
       "      <td>26.630289</td>\n",
       "    </tr>\n",
       "    <tr>\n",
       "      <th>13</th>\n",
       "      <td>hne_crop</td>\n",
       "      <td>37319187</td>\n",
       "      <td>(3527, 3527, 3)</td>\n",
       "      <td>2</td>\n",
       "      <td>0</td>\n",
       "      <td>26.314659</td>\n",
       "    </tr>\n",
       "    <tr>\n",
       "      <th>14</th>\n",
       "      <td>hne_crop</td>\n",
       "      <td>37319187</td>\n",
       "      <td>(3527, 3527, 3)</td>\n",
       "      <td>3</td>\n",
       "      <td>0</td>\n",
       "      <td>24.631138</td>\n",
       "    </tr>\n",
       "    <tr>\n",
       "      <th>15</th>\n",
       "      <td>hne_crop</td>\n",
       "      <td>37319187</td>\n",
       "      <td>(3527, 3527, 3)</td>\n",
       "      <td>4</td>\n",
       "      <td>0</td>\n",
       "      <td>17.014362</td>\n",
       "    </tr>\n",
       "    <tr>\n",
       "      <th>16</th>\n",
       "      <td>hne_crop</td>\n",
       "      <td>37319187</td>\n",
       "      <td>(3527, 3527, 3)</td>\n",
       "      <td>1</td>\n",
       "      <td>1</td>\n",
       "      <td>26.311584</td>\n",
       "    </tr>\n",
       "    <tr>\n",
       "      <th>17</th>\n",
       "      <td>hne_crop</td>\n",
       "      <td>37319187</td>\n",
       "      <td>(3527, 3527, 3)</td>\n",
       "      <td>2</td>\n",
       "      <td>1</td>\n",
       "      <td>25.241286</td>\n",
       "    </tr>\n",
       "    <tr>\n",
       "      <th>18</th>\n",
       "      <td>hne_crop</td>\n",
       "      <td>37319187</td>\n",
       "      <td>(3527, 3527, 3)</td>\n",
       "      <td>3</td>\n",
       "      <td>1</td>\n",
       "      <td>24.622313</td>\n",
       "    </tr>\n",
       "    <tr>\n",
       "      <th>19</th>\n",
       "      <td>hne_crop</td>\n",
       "      <td>37319187</td>\n",
       "      <td>(3527, 3527, 3)</td>\n",
       "      <td>4</td>\n",
       "      <td>1</td>\n",
       "      <td>19.511575</td>\n",
       "    </tr>\n",
       "    <tr>\n",
       "      <th>20</th>\n",
       "      <td>hne_crop</td>\n",
       "      <td>37319187</td>\n",
       "      <td>(3527, 3527, 3)</td>\n",
       "      <td>1</td>\n",
       "      <td>2</td>\n",
       "      <td>26.986051</td>\n",
       "    </tr>\n",
       "    <tr>\n",
       "      <th>21</th>\n",
       "      <td>hne_crop</td>\n",
       "      <td>37319187</td>\n",
       "      <td>(3527, 3527, 3)</td>\n",
       "      <td>2</td>\n",
       "      <td>2</td>\n",
       "      <td>26.460159</td>\n",
       "    </tr>\n",
       "    <tr>\n",
       "      <th>22</th>\n",
       "      <td>hne_crop</td>\n",
       "      <td>37319187</td>\n",
       "      <td>(3527, 3527, 3)</td>\n",
       "      <td>3</td>\n",
       "      <td>2</td>\n",
       "      <td>25.476504</td>\n",
       "    </tr>\n",
       "    <tr>\n",
       "      <th>23</th>\n",
       "      <td>hne_crop</td>\n",
       "      <td>37319187</td>\n",
       "      <td>(3527, 3527, 3)</td>\n",
       "      <td>4</td>\n",
       "      <td>2</td>\n",
       "      <td>17.887968</td>\n",
       "    </tr>\n",
       "    <tr>\n",
       "      <th>24</th>\n",
       "      <td>hne</td>\n",
       "      <td>398244861</td>\n",
       "      <td>(11757, 11291, 3)</td>\n",
       "      <td>1</td>\n",
       "      <td>0</td>\n",
       "      <td>110.833001</td>\n",
       "    </tr>\n",
       "    <tr>\n",
       "      <th>25</th>\n",
       "      <td>hne</td>\n",
       "      <td>398244861</td>\n",
       "      <td>(11757, 11291, 3)</td>\n",
       "      <td>2</td>\n",
       "      <td>0</td>\n",
       "      <td>77.076896</td>\n",
       "    </tr>\n",
       "    <tr>\n",
       "      <th>26</th>\n",
       "      <td>hne</td>\n",
       "      <td>398244861</td>\n",
       "      <td>(11757, 11291, 3)</td>\n",
       "      <td>3</td>\n",
       "      <td>0</td>\n",
       "      <td>58.789710</td>\n",
       "    </tr>\n",
       "    <tr>\n",
       "      <th>27</th>\n",
       "      <td>hne</td>\n",
       "      <td>398244861</td>\n",
       "      <td>(11757, 11291, 3)</td>\n",
       "      <td>4</td>\n",
       "      <td>0</td>\n",
       "      <td>51.093133</td>\n",
       "    </tr>\n",
       "    <tr>\n",
       "      <th>28</th>\n",
       "      <td>hne</td>\n",
       "      <td>398244861</td>\n",
       "      <td>(11757, 11291, 3)</td>\n",
       "      <td>1</td>\n",
       "      <td>1</td>\n",
       "      <td>113.248822</td>\n",
       "    </tr>\n",
       "    <tr>\n",
       "      <th>29</th>\n",
       "      <td>hne</td>\n",
       "      <td>398244861</td>\n",
       "      <td>(11757, 11291, 3)</td>\n",
       "      <td>2</td>\n",
       "      <td>1</td>\n",
       "      <td>76.428300</td>\n",
       "    </tr>\n",
       "    <tr>\n",
       "      <th>30</th>\n",
       "      <td>hne</td>\n",
       "      <td>398244861</td>\n",
       "      <td>(11757, 11291, 3)</td>\n",
       "      <td>3</td>\n",
       "      <td>1</td>\n",
       "      <td>62.335452</td>\n",
       "    </tr>\n",
       "    <tr>\n",
       "      <th>31</th>\n",
       "      <td>hne</td>\n",
       "      <td>398244861</td>\n",
       "      <td>(11757, 11291, 3)</td>\n",
       "      <td>4</td>\n",
       "      <td>1</td>\n",
       "      <td>51.817216</td>\n",
       "    </tr>\n",
       "    <tr>\n",
       "      <th>32</th>\n",
       "      <td>hne</td>\n",
       "      <td>398244861</td>\n",
       "      <td>(11757, 11291, 3)</td>\n",
       "      <td>1</td>\n",
       "      <td>2</td>\n",
       "      <td>109.352448</td>\n",
       "    </tr>\n",
       "    <tr>\n",
       "      <th>33</th>\n",
       "      <td>hne</td>\n",
       "      <td>398244861</td>\n",
       "      <td>(11757, 11291, 3)</td>\n",
       "      <td>2</td>\n",
       "      <td>2</td>\n",
       "      <td>80.737792</td>\n",
       "    </tr>\n",
       "    <tr>\n",
       "      <th>34</th>\n",
       "      <td>hne</td>\n",
       "      <td>398244861</td>\n",
       "      <td>(11757, 11291, 3)</td>\n",
       "      <td>3</td>\n",
       "      <td>2</td>\n",
       "      <td>60.146321</td>\n",
       "    </tr>\n",
       "    <tr>\n",
       "      <th>35</th>\n",
       "      <td>hne</td>\n",
       "      <td>398244861</td>\n",
       "      <td>(11757, 11291, 3)</td>\n",
       "      <td>4</td>\n",
       "      <td>2</td>\n",
       "      <td>55.937314</td>\n",
       "    </tr>\n",
       "  </tbody>\n",
       "</table>\n",
       "</div>"
      ],
      "text/plain": [
       "      dataset   n_pixels              shape  n_jobs  run        time\n",
       "0   fluo_crop  158645952    (7272, 7272, 3)       1    0   44.377279\n",
       "1   fluo_crop  158645952    (7272, 7272, 3)       2    0   37.543131\n",
       "2   fluo_crop  158645952    (7272, 7272, 3)       3    0   28.578280\n",
       "3   fluo_crop  158645952    (7272, 7272, 3)       4    0   20.971453\n",
       "4   fluo_crop  158645952    (7272, 7272, 3)       1    1   34.850302\n",
       "5   fluo_crop  158645952    (7272, 7272, 3)       2    1   31.588291\n",
       "6   fluo_crop  158645952    (7272, 7272, 3)       3    1   29.627136\n",
       "7   fluo_crop  158645952    (7272, 7272, 3)       4    1   24.723751\n",
       "8   fluo_crop  158645952    (7272, 7272, 3)       1    2   35.376295\n",
       "9   fluo_crop  158645952    (7272, 7272, 3)       2    2   32.446921\n",
       "10  fluo_crop  158645952    (7272, 7272, 3)       3    2   29.028469\n",
       "11  fluo_crop  158645952    (7272, 7272, 3)       4    2   21.515589\n",
       "12   hne_crop   37319187    (3527, 3527, 3)       1    0   26.630289\n",
       "13   hne_crop   37319187    (3527, 3527, 3)       2    0   26.314659\n",
       "14   hne_crop   37319187    (3527, 3527, 3)       3    0   24.631138\n",
       "15   hne_crop   37319187    (3527, 3527, 3)       4    0   17.014362\n",
       "16   hne_crop   37319187    (3527, 3527, 3)       1    1   26.311584\n",
       "17   hne_crop   37319187    (3527, 3527, 3)       2    1   25.241286\n",
       "18   hne_crop   37319187    (3527, 3527, 3)       3    1   24.622313\n",
       "19   hne_crop   37319187    (3527, 3527, 3)       4    1   19.511575\n",
       "20   hne_crop   37319187    (3527, 3527, 3)       1    2   26.986051\n",
       "21   hne_crop   37319187    (3527, 3527, 3)       2    2   26.460159\n",
       "22   hne_crop   37319187    (3527, 3527, 3)       3    2   25.476504\n",
       "23   hne_crop   37319187    (3527, 3527, 3)       4    2   17.887968\n",
       "24        hne  398244861  (11757, 11291, 3)       1    0  110.833001\n",
       "25        hne  398244861  (11757, 11291, 3)       2    0   77.076896\n",
       "26        hne  398244861  (11757, 11291, 3)       3    0   58.789710\n",
       "27        hne  398244861  (11757, 11291, 3)       4    0   51.093133\n",
       "28        hne  398244861  (11757, 11291, 3)       1    1  113.248822\n",
       "29        hne  398244861  (11757, 11291, 3)       2    1   76.428300\n",
       "30        hne  398244861  (11757, 11291, 3)       3    1   62.335452\n",
       "31        hne  398244861  (11757, 11291, 3)       4    1   51.817216\n",
       "32        hne  398244861  (11757, 11291, 3)       1    2  109.352448\n",
       "33        hne  398244861  (11757, 11291, 3)       2    2   80.737792\n",
       "34        hne  398244861  (11757, 11291, 3)       3    2   60.146321\n",
       "35        hne  398244861  (11757, 11291, 3)       4    2   55.937314"
      ]
     },
     "execution_count": 54,
     "metadata": {},
     "output_type": "execute_result"
    }
   ],
   "source": [
    "df"
   ]
  },
  {
   "cell_type": "code",
   "execution_count": 51,
   "metadata": {},
   "outputs": [],
   "source": [
    "df.to_csv('figures/feature_extraction_benchmark.csv')"
   ]
  },
  {
   "cell_type": "markdown",
   "metadata": {},
   "source": [
    "# Make figure"
   ]
  },
  {
   "cell_type": "code",
   "execution_count": 3,
   "metadata": {
    "collapsed": true,
    "jupyter": {
     "outputs_hidden": true
    }
   },
   "outputs": [
    {
     "data": {
      "text/html": [
       "<div>\n",
       "<style scoped>\n",
       "    .dataframe tbody tr th:only-of-type {\n",
       "        vertical-align: middle;\n",
       "    }\n",
       "\n",
       "    .dataframe tbody tr th {\n",
       "        vertical-align: top;\n",
       "    }\n",
       "\n",
       "    .dataframe thead th {\n",
       "        text-align: right;\n",
       "    }\n",
       "</style>\n",
       "<table border=\"1\" class=\"dataframe\">\n",
       "  <thead>\n",
       "    <tr style=\"text-align: right;\">\n",
       "      <th></th>\n",
       "      <th>dataset</th>\n",
       "      <th>n_pixels</th>\n",
       "      <th>shape</th>\n",
       "      <th>n_jobs</th>\n",
       "      <th>run</th>\n",
       "      <th>time</th>\n",
       "    </tr>\n",
       "  </thead>\n",
       "  <tbody>\n",
       "    <tr>\n",
       "      <th>0</th>\n",
       "      <td>fluo_crop</td>\n",
       "      <td>158645952</td>\n",
       "      <td>(7272, 7272, 3)</td>\n",
       "      <td>1</td>\n",
       "      <td>0</td>\n",
       "      <td>44.377279</td>\n",
       "    </tr>\n",
       "    <tr>\n",
       "      <th>1</th>\n",
       "      <td>fluo_crop</td>\n",
       "      <td>158645952</td>\n",
       "      <td>(7272, 7272, 3)</td>\n",
       "      <td>2</td>\n",
       "      <td>0</td>\n",
       "      <td>37.543131</td>\n",
       "    </tr>\n",
       "    <tr>\n",
       "      <th>2</th>\n",
       "      <td>fluo_crop</td>\n",
       "      <td>158645952</td>\n",
       "      <td>(7272, 7272, 3)</td>\n",
       "      <td>3</td>\n",
       "      <td>0</td>\n",
       "      <td>28.578280</td>\n",
       "    </tr>\n",
       "    <tr>\n",
       "      <th>3</th>\n",
       "      <td>fluo_crop</td>\n",
       "      <td>158645952</td>\n",
       "      <td>(7272, 7272, 3)</td>\n",
       "      <td>4</td>\n",
       "      <td>0</td>\n",
       "      <td>20.971453</td>\n",
       "    </tr>\n",
       "    <tr>\n",
       "      <th>4</th>\n",
       "      <td>fluo_crop</td>\n",
       "      <td>158645952</td>\n",
       "      <td>(7272, 7272, 3)</td>\n",
       "      <td>1</td>\n",
       "      <td>1</td>\n",
       "      <td>34.850302</td>\n",
       "    </tr>\n",
       "    <tr>\n",
       "      <th>5</th>\n",
       "      <td>fluo_crop</td>\n",
       "      <td>158645952</td>\n",
       "      <td>(7272, 7272, 3)</td>\n",
       "      <td>2</td>\n",
       "      <td>1</td>\n",
       "      <td>31.588291</td>\n",
       "    </tr>\n",
       "    <tr>\n",
       "      <th>6</th>\n",
       "      <td>fluo_crop</td>\n",
       "      <td>158645952</td>\n",
       "      <td>(7272, 7272, 3)</td>\n",
       "      <td>3</td>\n",
       "      <td>1</td>\n",
       "      <td>29.627136</td>\n",
       "    </tr>\n",
       "    <tr>\n",
       "      <th>7</th>\n",
       "      <td>fluo_crop</td>\n",
       "      <td>158645952</td>\n",
       "      <td>(7272, 7272, 3)</td>\n",
       "      <td>4</td>\n",
       "      <td>1</td>\n",
       "      <td>24.723751</td>\n",
       "    </tr>\n",
       "    <tr>\n",
       "      <th>8</th>\n",
       "      <td>fluo_crop</td>\n",
       "      <td>158645952</td>\n",
       "      <td>(7272, 7272, 3)</td>\n",
       "      <td>1</td>\n",
       "      <td>2</td>\n",
       "      <td>35.376295</td>\n",
       "    </tr>\n",
       "    <tr>\n",
       "      <th>9</th>\n",
       "      <td>fluo_crop</td>\n",
       "      <td>158645952</td>\n",
       "      <td>(7272, 7272, 3)</td>\n",
       "      <td>2</td>\n",
       "      <td>2</td>\n",
       "      <td>32.446921</td>\n",
       "    </tr>\n",
       "    <tr>\n",
       "      <th>10</th>\n",
       "      <td>fluo_crop</td>\n",
       "      <td>158645952</td>\n",
       "      <td>(7272, 7272, 3)</td>\n",
       "      <td>3</td>\n",
       "      <td>2</td>\n",
       "      <td>29.028469</td>\n",
       "    </tr>\n",
       "    <tr>\n",
       "      <th>11</th>\n",
       "      <td>fluo_crop</td>\n",
       "      <td>158645952</td>\n",
       "      <td>(7272, 7272, 3)</td>\n",
       "      <td>4</td>\n",
       "      <td>2</td>\n",
       "      <td>21.515589</td>\n",
       "    </tr>\n",
       "    <tr>\n",
       "      <th>12</th>\n",
       "      <td>hne_crop</td>\n",
       "      <td>37319187</td>\n",
       "      <td>(3527, 3527, 3)</td>\n",
       "      <td>1</td>\n",
       "      <td>0</td>\n",
       "      <td>26.630289</td>\n",
       "    </tr>\n",
       "    <tr>\n",
       "      <th>13</th>\n",
       "      <td>hne_crop</td>\n",
       "      <td>37319187</td>\n",
       "      <td>(3527, 3527, 3)</td>\n",
       "      <td>2</td>\n",
       "      <td>0</td>\n",
       "      <td>26.314659</td>\n",
       "    </tr>\n",
       "    <tr>\n",
       "      <th>14</th>\n",
       "      <td>hne_crop</td>\n",
       "      <td>37319187</td>\n",
       "      <td>(3527, 3527, 3)</td>\n",
       "      <td>3</td>\n",
       "      <td>0</td>\n",
       "      <td>24.631138</td>\n",
       "    </tr>\n",
       "    <tr>\n",
       "      <th>15</th>\n",
       "      <td>hne_crop</td>\n",
       "      <td>37319187</td>\n",
       "      <td>(3527, 3527, 3)</td>\n",
       "      <td>4</td>\n",
       "      <td>0</td>\n",
       "      <td>17.014362</td>\n",
       "    </tr>\n",
       "    <tr>\n",
       "      <th>16</th>\n",
       "      <td>hne_crop</td>\n",
       "      <td>37319187</td>\n",
       "      <td>(3527, 3527, 3)</td>\n",
       "      <td>1</td>\n",
       "      <td>1</td>\n",
       "      <td>26.311584</td>\n",
       "    </tr>\n",
       "    <tr>\n",
       "      <th>17</th>\n",
       "      <td>hne_crop</td>\n",
       "      <td>37319187</td>\n",
       "      <td>(3527, 3527, 3)</td>\n",
       "      <td>2</td>\n",
       "      <td>1</td>\n",
       "      <td>25.241286</td>\n",
       "    </tr>\n",
       "    <tr>\n",
       "      <th>18</th>\n",
       "      <td>hne_crop</td>\n",
       "      <td>37319187</td>\n",
       "      <td>(3527, 3527, 3)</td>\n",
       "      <td>3</td>\n",
       "      <td>1</td>\n",
       "      <td>24.622313</td>\n",
       "    </tr>\n",
       "    <tr>\n",
       "      <th>19</th>\n",
       "      <td>hne_crop</td>\n",
       "      <td>37319187</td>\n",
       "      <td>(3527, 3527, 3)</td>\n",
       "      <td>4</td>\n",
       "      <td>1</td>\n",
       "      <td>19.511575</td>\n",
       "    </tr>\n",
       "    <tr>\n",
       "      <th>20</th>\n",
       "      <td>hne_crop</td>\n",
       "      <td>37319187</td>\n",
       "      <td>(3527, 3527, 3)</td>\n",
       "      <td>1</td>\n",
       "      <td>2</td>\n",
       "      <td>26.986051</td>\n",
       "    </tr>\n",
       "    <tr>\n",
       "      <th>21</th>\n",
       "      <td>hne_crop</td>\n",
       "      <td>37319187</td>\n",
       "      <td>(3527, 3527, 3)</td>\n",
       "      <td>2</td>\n",
       "      <td>2</td>\n",
       "      <td>26.460159</td>\n",
       "    </tr>\n",
       "    <tr>\n",
       "      <th>22</th>\n",
       "      <td>hne_crop</td>\n",
       "      <td>37319187</td>\n",
       "      <td>(3527, 3527, 3)</td>\n",
       "      <td>3</td>\n",
       "      <td>2</td>\n",
       "      <td>25.476504</td>\n",
       "    </tr>\n",
       "    <tr>\n",
       "      <th>23</th>\n",
       "      <td>hne_crop</td>\n",
       "      <td>37319187</td>\n",
       "      <td>(3527, 3527, 3)</td>\n",
       "      <td>4</td>\n",
       "      <td>2</td>\n",
       "      <td>17.887968</td>\n",
       "    </tr>\n",
       "    <tr>\n",
       "      <th>24</th>\n",
       "      <td>hne</td>\n",
       "      <td>398244861</td>\n",
       "      <td>(11757, 11291, 3)</td>\n",
       "      <td>1</td>\n",
       "      <td>0</td>\n",
       "      <td>110.833001</td>\n",
       "    </tr>\n",
       "    <tr>\n",
       "      <th>25</th>\n",
       "      <td>hne</td>\n",
       "      <td>398244861</td>\n",
       "      <td>(11757, 11291, 3)</td>\n",
       "      <td>2</td>\n",
       "      <td>0</td>\n",
       "      <td>77.076896</td>\n",
       "    </tr>\n",
       "    <tr>\n",
       "      <th>26</th>\n",
       "      <td>hne</td>\n",
       "      <td>398244861</td>\n",
       "      <td>(11757, 11291, 3)</td>\n",
       "      <td>3</td>\n",
       "      <td>0</td>\n",
       "      <td>58.789710</td>\n",
       "    </tr>\n",
       "    <tr>\n",
       "      <th>27</th>\n",
       "      <td>hne</td>\n",
       "      <td>398244861</td>\n",
       "      <td>(11757, 11291, 3)</td>\n",
       "      <td>4</td>\n",
       "      <td>0</td>\n",
       "      <td>51.093133</td>\n",
       "    </tr>\n",
       "    <tr>\n",
       "      <th>28</th>\n",
       "      <td>hne</td>\n",
       "      <td>398244861</td>\n",
       "      <td>(11757, 11291, 3)</td>\n",
       "      <td>1</td>\n",
       "      <td>1</td>\n",
       "      <td>113.248822</td>\n",
       "    </tr>\n",
       "    <tr>\n",
       "      <th>29</th>\n",
       "      <td>hne</td>\n",
       "      <td>398244861</td>\n",
       "      <td>(11757, 11291, 3)</td>\n",
       "      <td>2</td>\n",
       "      <td>1</td>\n",
       "      <td>76.428300</td>\n",
       "    </tr>\n",
       "    <tr>\n",
       "      <th>30</th>\n",
       "      <td>hne</td>\n",
       "      <td>398244861</td>\n",
       "      <td>(11757, 11291, 3)</td>\n",
       "      <td>3</td>\n",
       "      <td>1</td>\n",
       "      <td>62.335452</td>\n",
       "    </tr>\n",
       "    <tr>\n",
       "      <th>31</th>\n",
       "      <td>hne</td>\n",
       "      <td>398244861</td>\n",
       "      <td>(11757, 11291, 3)</td>\n",
       "      <td>4</td>\n",
       "      <td>1</td>\n",
       "      <td>51.817216</td>\n",
       "    </tr>\n",
       "    <tr>\n",
       "      <th>32</th>\n",
       "      <td>hne</td>\n",
       "      <td>398244861</td>\n",
       "      <td>(11757, 11291, 3)</td>\n",
       "      <td>1</td>\n",
       "      <td>2</td>\n",
       "      <td>109.352448</td>\n",
       "    </tr>\n",
       "    <tr>\n",
       "      <th>33</th>\n",
       "      <td>hne</td>\n",
       "      <td>398244861</td>\n",
       "      <td>(11757, 11291, 3)</td>\n",
       "      <td>2</td>\n",
       "      <td>2</td>\n",
       "      <td>80.737792</td>\n",
       "    </tr>\n",
       "    <tr>\n",
       "      <th>34</th>\n",
       "      <td>hne</td>\n",
       "      <td>398244861</td>\n",
       "      <td>(11757, 11291, 3)</td>\n",
       "      <td>3</td>\n",
       "      <td>2</td>\n",
       "      <td>60.146321</td>\n",
       "    </tr>\n",
       "    <tr>\n",
       "      <th>35</th>\n",
       "      <td>hne</td>\n",
       "      <td>398244861</td>\n",
       "      <td>(11757, 11291, 3)</td>\n",
       "      <td>4</td>\n",
       "      <td>2</td>\n",
       "      <td>55.937314</td>\n",
       "    </tr>\n",
       "  </tbody>\n",
       "</table>\n",
       "</div>"
      ],
      "text/plain": [
       "      dataset   n_pixels              shape  n_jobs  run        time\n",
       "0   fluo_crop  158645952    (7272, 7272, 3)       1    0   44.377279\n",
       "1   fluo_crop  158645952    (7272, 7272, 3)       2    0   37.543131\n",
       "2   fluo_crop  158645952    (7272, 7272, 3)       3    0   28.578280\n",
       "3   fluo_crop  158645952    (7272, 7272, 3)       4    0   20.971453\n",
       "4   fluo_crop  158645952    (7272, 7272, 3)       1    1   34.850302\n",
       "5   fluo_crop  158645952    (7272, 7272, 3)       2    1   31.588291\n",
       "6   fluo_crop  158645952    (7272, 7272, 3)       3    1   29.627136\n",
       "7   fluo_crop  158645952    (7272, 7272, 3)       4    1   24.723751\n",
       "8   fluo_crop  158645952    (7272, 7272, 3)       1    2   35.376295\n",
       "9   fluo_crop  158645952    (7272, 7272, 3)       2    2   32.446921\n",
       "10  fluo_crop  158645952    (7272, 7272, 3)       3    2   29.028469\n",
       "11  fluo_crop  158645952    (7272, 7272, 3)       4    2   21.515589\n",
       "12   hne_crop   37319187    (3527, 3527, 3)       1    0   26.630289\n",
       "13   hne_crop   37319187    (3527, 3527, 3)       2    0   26.314659\n",
       "14   hne_crop   37319187    (3527, 3527, 3)       3    0   24.631138\n",
       "15   hne_crop   37319187    (3527, 3527, 3)       4    0   17.014362\n",
       "16   hne_crop   37319187    (3527, 3527, 3)       1    1   26.311584\n",
       "17   hne_crop   37319187    (3527, 3527, 3)       2    1   25.241286\n",
       "18   hne_crop   37319187    (3527, 3527, 3)       3    1   24.622313\n",
       "19   hne_crop   37319187    (3527, 3527, 3)       4    1   19.511575\n",
       "20   hne_crop   37319187    (3527, 3527, 3)       1    2   26.986051\n",
       "21   hne_crop   37319187    (3527, 3527, 3)       2    2   26.460159\n",
       "22   hne_crop   37319187    (3527, 3527, 3)       3    2   25.476504\n",
       "23   hne_crop   37319187    (3527, 3527, 3)       4    2   17.887968\n",
       "24        hne  398244861  (11757, 11291, 3)       1    0  110.833001\n",
       "25        hne  398244861  (11757, 11291, 3)       2    0   77.076896\n",
       "26        hne  398244861  (11757, 11291, 3)       3    0   58.789710\n",
       "27        hne  398244861  (11757, 11291, 3)       4    0   51.093133\n",
       "28        hne  398244861  (11757, 11291, 3)       1    1  113.248822\n",
       "29        hne  398244861  (11757, 11291, 3)       2    1   76.428300\n",
       "30        hne  398244861  (11757, 11291, 3)       3    1   62.335452\n",
       "31        hne  398244861  (11757, 11291, 3)       4    1   51.817216\n",
       "32        hne  398244861  (11757, 11291, 3)       1    2  109.352448\n",
       "33        hne  398244861  (11757, 11291, 3)       2    2   80.737792\n",
       "34        hne  398244861  (11757, 11291, 3)       3    2   60.146321\n",
       "35        hne  398244861  (11757, 11291, 3)       4    2   55.937314"
      ]
     },
     "execution_count": 3,
     "metadata": {},
     "output_type": "execute_result"
    }
   ],
   "source": [
    "df = pd.read_csv('figures/feature_extraction_benchmark.csv', index_col=0)\n",
    "df"
   ]
  },
  {
   "cell_type": "code",
   "execution_count": 4,
   "metadata": {},
   "outputs": [],
   "source": [
    "df_grouped = df.groupby(['dataset','n_jobs']).mean().reset_index(drop=False)"
   ]
  },
  {
   "cell_type": "code",
   "execution_count": 5,
   "metadata": {},
   "outputs": [
    {
     "data": {
      "text/html": [
       "<div>\n",
       "<style scoped>\n",
       "    .dataframe tbody tr th:only-of-type {\n",
       "        vertical-align: middle;\n",
       "    }\n",
       "\n",
       "    .dataframe tbody tr th {\n",
       "        vertical-align: top;\n",
       "    }\n",
       "\n",
       "    .dataframe thead th {\n",
       "        text-align: right;\n",
       "    }\n",
       "</style>\n",
       "<table border=\"1\" class=\"dataframe\">\n",
       "  <thead>\n",
       "    <tr style=\"text-align: right;\">\n",
       "      <th></th>\n",
       "      <th>dataset</th>\n",
       "      <th>n_jobs</th>\n",
       "      <th>n_pixels</th>\n",
       "      <th>run</th>\n",
       "      <th>time</th>\n",
       "    </tr>\n",
       "  </thead>\n",
       "  <tbody>\n",
       "    <tr>\n",
       "      <th>0</th>\n",
       "      <td>fluo_crop</td>\n",
       "      <td>1</td>\n",
       "      <td>158645952</td>\n",
       "      <td>1</td>\n",
       "      <td>38.201292</td>\n",
       "    </tr>\n",
       "    <tr>\n",
       "      <th>1</th>\n",
       "      <td>fluo_crop</td>\n",
       "      <td>2</td>\n",
       "      <td>158645952</td>\n",
       "      <td>1</td>\n",
       "      <td>33.859448</td>\n",
       "    </tr>\n",
       "    <tr>\n",
       "      <th>2</th>\n",
       "      <td>fluo_crop</td>\n",
       "      <td>3</td>\n",
       "      <td>158645952</td>\n",
       "      <td>1</td>\n",
       "      <td>29.077962</td>\n",
       "    </tr>\n",
       "    <tr>\n",
       "      <th>3</th>\n",
       "      <td>fluo_crop</td>\n",
       "      <td>4</td>\n",
       "      <td>158645952</td>\n",
       "      <td>1</td>\n",
       "      <td>22.403598</td>\n",
       "    </tr>\n",
       "    <tr>\n",
       "      <th>4</th>\n",
       "      <td>hne</td>\n",
       "      <td>1</td>\n",
       "      <td>398244861</td>\n",
       "      <td>1</td>\n",
       "      <td>111.144757</td>\n",
       "    </tr>\n",
       "    <tr>\n",
       "      <th>5</th>\n",
       "      <td>hne</td>\n",
       "      <td>2</td>\n",
       "      <td>398244861</td>\n",
       "      <td>1</td>\n",
       "      <td>78.080996</td>\n",
       "    </tr>\n",
       "    <tr>\n",
       "      <th>6</th>\n",
       "      <td>hne</td>\n",
       "      <td>3</td>\n",
       "      <td>398244861</td>\n",
       "      <td>1</td>\n",
       "      <td>60.423828</td>\n",
       "    </tr>\n",
       "    <tr>\n",
       "      <th>7</th>\n",
       "      <td>hne</td>\n",
       "      <td>4</td>\n",
       "      <td>398244861</td>\n",
       "      <td>1</td>\n",
       "      <td>52.949221</td>\n",
       "    </tr>\n",
       "    <tr>\n",
       "      <th>8</th>\n",
       "      <td>hne_crop</td>\n",
       "      <td>1</td>\n",
       "      <td>37319187</td>\n",
       "      <td>1</td>\n",
       "      <td>26.642641</td>\n",
       "    </tr>\n",
       "    <tr>\n",
       "      <th>9</th>\n",
       "      <td>hne_crop</td>\n",
       "      <td>2</td>\n",
       "      <td>37319187</td>\n",
       "      <td>1</td>\n",
       "      <td>26.005368</td>\n",
       "    </tr>\n",
       "    <tr>\n",
       "      <th>10</th>\n",
       "      <td>hne_crop</td>\n",
       "      <td>3</td>\n",
       "      <td>37319187</td>\n",
       "      <td>1</td>\n",
       "      <td>24.909985</td>\n",
       "    </tr>\n",
       "    <tr>\n",
       "      <th>11</th>\n",
       "      <td>hne_crop</td>\n",
       "      <td>4</td>\n",
       "      <td>37319187</td>\n",
       "      <td>1</td>\n",
       "      <td>18.137968</td>\n",
       "    </tr>\n",
       "  </tbody>\n",
       "</table>\n",
       "</div>"
      ],
      "text/plain": [
       "      dataset  n_jobs   n_pixels  run        time\n",
       "0   fluo_crop       1  158645952    1   38.201292\n",
       "1   fluo_crop       2  158645952    1   33.859448\n",
       "2   fluo_crop       3  158645952    1   29.077962\n",
       "3   fluo_crop       4  158645952    1   22.403598\n",
       "4         hne       1  398244861    1  111.144757\n",
       "5         hne       2  398244861    1   78.080996\n",
       "6         hne       3  398244861    1   60.423828\n",
       "7         hne       4  398244861    1   52.949221\n",
       "8    hne_crop       1   37319187    1   26.642641\n",
       "9    hne_crop       2   37319187    1   26.005368\n",
       "10   hne_crop       3   37319187    1   24.909985\n",
       "11   hne_crop       4   37319187    1   18.137968"
      ]
     },
     "execution_count": 5,
     "metadata": {},
     "output_type": "execute_result"
    }
   ],
   "source": [
    "df_grouped"
   ]
  },
  {
   "cell_type": "code",
   "execution_count": 6,
   "metadata": {},
   "outputs": [],
   "source": [
    "df_grouped.loc[df_grouped['dataset'] == 'fluo_crop', 'dataset'] = 'fluo small ($16\\cdot10^7$ px)'\n",
    "df_grouped.loc[df_grouped['dataset'] == 'hne', 'dataset'] = 'H&E large ($40\\cdot10^7$ px)'\n",
    "df_grouped.loc[df_grouped['dataset'] == 'hne_crop', 'dataset'] = 'H&E small ($4\\cdot10^7$ px)'"
   ]
  },
  {
   "cell_type": "code",
   "execution_count": 7,
   "metadata": {},
   "outputs": [
    {
     "data": {
      "image/png": "[encoded data removed]",
      "text/plain": [
       "<Figure size 900x540 with 1 Axes>"
      ]
     },
     "metadata": {
      "needs_background": "light"
     },
     "output_type": "display_data"
    }
   ],
   "source": [
    "fig, ax = plt.subplots(1,1, figsize=(5,3), dpi=180, tight_layout=True)\n",
    "sns.lineplot(data=df_grouped, hue='dataset', x='n_jobs', y='time', marker='o', ax=ax)\n",
    "ax.set_xticks([1,2,3,4])\n",
    "ax.set_ylabel(\"runtime [s]\")\n",
    "ax.set_xlabel(\"#tasks\")\n",
    "ax.get_legend().set_title(None)\n",
    "plt.grid()\n",
    "_ = ax.set_title(\"runtime of feature extraction workflow\")\n",
    "plt.savefig('figures/benchmark_image.png')"
   ]
  },
  {
   "cell_type": "code",
   "execution_count": null,
   "metadata": {},
   "outputs": [],
   "source": []
  }
 ],
 "metadata": {
  "kernelspec": {
   "display_name": "Python 3",
   "language": "python",
   "name": "python3"
  },
  "language_info": {
   "codemirror_mode": {
    "name": "ipython",
    "version": 3
   },
   "file_extension": ".py",
   "mimetype": "text/x-python",
   "name": "python",
   "nbconvert_exporter": "python",
   "pygments_lexer": "ipython3",
   "version": "3.8.6"
  }
 },
 "nbformat": 4,
 "nbformat_minor": 4
}
