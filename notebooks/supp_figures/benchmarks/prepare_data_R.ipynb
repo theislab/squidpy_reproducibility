{
 "cells": [
  {
   "cell_type": "code",
   "execution_count": 1,
   "metadata": {},
   "outputs": [
    {
     "name": "stdout",
     "output_type": "stream",
     "text": [
      "scanpy==1.8.0.dev78+gc488909a anndata==0.7.5 umap==0.4.6 numpy==1.20.1 scipy==1.6.0 pandas==1.2.3 scikit-learn==0.24.2 statsmodels==0.12.2 python-igraph==0.8.3 leidenalg==0.8.3\n"
     ]
    }
   ],
   "source": [
    "import scanpy as sc\n",
    "import squidpy as sq\n",
    "import matplotlib.pyplot as plt\n",
    "import seaborn as sns\n",
    "import pandas as pd\n",
    "import numpy as np\n",
    "from anndata import AnnData\n",
    "from squidpy.pl._utils import save_fig\n",
    "from time import process_time\n",
    "\n",
    "sc.logging.print_header()\n",
    "sc.set_figure_params(facecolor=\"white\", figsize=(8, 8))\n",
    "sc.settings.verbosity = 3\n",
    "sc.settings.dpi = 300\n",
    "sq.__version__\n",
    "sc.settings.figdir = \"./figures\"\n",
    "\n",
    "%load_ext autoreload\n",
    "%autoreload 2\n",
    "%load_ext lab_black"
   ]
  },
  {
   "cell_type": "code",
   "execution_count": 2,
   "metadata": {},
   "outputs": [
    {
     "name": "stderr",
     "output_type": "stream",
     "text": [
      "Variable names are not unique. To make them unique, call `.var_names_make_unique`.\n"
     ]
    }
   ],
   "source": [
    "adata_visium = sq.datasets.visium_fluo_adata()\n",
    "adata_slideseq = sq.datasets.slideseqv2()\n",
    "adata_seqfish = sq.datasets.seqfish()\n",
    "adata_fouri = sq.datasets.four_i()\n",
    "adata_imc = sq.datasets.imc()\n",
    "adata_merfish = sq.datasets.merfish()\n",
    "adata_mibitof = sq.datasets.mibitof()"
   ]
  },
  {
   "cell_type": "code",
   "execution_count": 3,
   "metadata": {},
   "outputs": [
    {
     "name": "stderr",
     "output_type": "stream",
     "text": [
      "/Users/giovanni.palla/miniconda3/envs/spatial/lib/python3.8/site-packages/pandas/core/arrays/categorical.py:2487: FutureWarning: The `inplace` parameter in pandas.Categorical.remove_unused_categories is deprecated and will be removed in a future version.\n",
      "  res = method(*args, **kwargs)\n"
     ]
    }
   ],
   "source": [
    "adata_mibitof = adata_mibitof[adata_mibitof.obs.batch == \"0\"].copy()\n",
    "adata_merfish = adata_merfish[adata_merfish.obs.batch == \"0\"].copy()"
   ]
  },
  {
   "cell_type": "code",
   "execution_count": 5,
   "metadata": {},
   "outputs": [
    {
     "data": {
      "text/plain": [
       "AnnData object with n_obs × n_vars = 6509 × 161\n",
       "    obs: 'Cell_ID', 'Animal_ID', 'Animal_sex', 'Behavior', 'Bregma', 'Centroid_X', 'Centroid_Y', 'Cell_class', 'Neuron_cluster_ID', 'batch'\n",
       "    uns: 'Cell_class_colors'\n",
       "    obsm: 'spatial', 'spatial3d'"
      ]
     },
     "execution_count": 5,
     "metadata": {},
     "output_type": "execute_result"
    }
   ],
   "source": [
    "adata_merfish"
   ]
  },
  {
   "cell_type": "code",
   "execution_count": 6,
   "metadata": {},
   "outputs": [],
   "source": [
    "from scipy import sparse\n",
    "\n",
    "adata_visium.uns = {}\n",
    "adata_fouri.uns = {}\n",
    "adata_slideseq.uns = {}\n",
    "adata_fouri_r = AnnData(\n",
    "    sparse.csr_matrix(np.empty(adata_fouri.shape)),\n",
    "    obs=adata_fouri.obs[[\"cluster\"]].copy(),\n",
    ")\n",
    "adata_fouri_r.obsm[\"spatial\"] = adata_fouri.obsm[\"spatial\"]\n",
    "adata_seqfish.obs[\"cluster\"] = adata_seqfish.obs.celltype_mapped_refined\n",
    "adata_imc.obs[\"cluster\"] = adata_imc.obs[\"cell type\"]\n",
    "adata_slideseq.obs[\"cluster\"] = adata_slideseq.obs[\"cluster\"]\n",
    "adata_merfish.obs[\"cluster\"] = adata_merfish.obs[\"Cell_class\"]\n",
    "adata_mibitof.obs[\"cluster\"] = adata_mibitof.obs[\"Cluster\"]"
   ]
  },
  {
   "cell_type": "code",
   "execution_count": 7,
   "metadata": {},
   "outputs": [],
   "source": [
    "adata_visium.write(\"/Users/giovanni.palla/.cache/squidpy/visium_R.h5ad\")\n",
    "adata_fouri_r.write(\"/Users/giovanni.palla/.cache/squidpy/fouri_R.h5ad\")\n",
    "adata_imc.write(\"/Users/giovanni.palla/.cache/squidpy/imc_R.h5ad\")\n",
    "adata_seqfish.write(\"/Users/giovanni.palla/.cache/squidpy/seqfish_R.h5ad\")\n",
    "adata_slideseq.write(\"/Users/giovanni.palla/.cache/squidpy/slideseq_R.h5ad\")\n",
    "adata_merfish.write(\"/Users/giovanni.palla/.cache/squidpy/merfish_R.h5ad\")\n",
    "adata_mibitof.write(\"/Users/giovanni.palla/.cache/squidpy/mibitof_R.h5ad\")"
   ]
  },
  {
   "cell_type": "code",
   "execution_count": null,
   "metadata": {},
   "outputs": [],
   "source": [
    "library(zellkonverter)\n",
    "library(Giotto)\n",
    "library(microbenchmark)\n",
    "\n",
    "sce_seqfish  <- readH5AD(\"/Users/giovanni.palla/.cache/squidpy/seqfish_R.h5ad\")\n",
    "sce_imc  <- readH5AD(\"/Users/giovanni.palla/.cache/squidpy/imc_R.h5ad\")\n",
    "sce_visium  <- readH5AD(\"/Users/giovanni.palla/.cache/squidpy/visium_R.h5ad\")\n",
    "sce_4i  <- readH5AD(\"/Users/giovanni.palla/.cache/squidpy/fouri_R.h5ad\")\n",
    "\n",
    "data_list <- c(sce_seqfish,sce_imc , sce_visium) #, sce_4i)\n",
    "id_list <- c(\"seqfish\",\"imc\",\"visium\") #,\"4i\")\n",
    "\n",
    "result <- mapply(bench_graph, data_list, id_list, SIMPLIFY=F)\n",
    "\n",
    "bench_graph <- function(sce, id){\n",
    "  print(id)\n",
    "  return(id)\n",
    "}\n",
    "\n",
    "for (d in c(c(sce_visium, sce_imc), c(\"visium\",\"imc\"))){\n",
    "  print(d)\n",
    "  sce <- data[0]\n",
    "  dataset_id <- data[1]\n",
    "  print(dataset_id)\n",
    "}\n",
    "\n",
    "gobject_seqfish <- createGiottoObject(raw_exprs = sce@assays@data$X, \n",
    "                                      spatial_locs = sce@int_colData$reducedDims$spatial,\n",
    "                                      cell_metadata = sce@colData$`cell type`)\n",
    "\n",
    "results_network <- microbenchmark(\n",
    "  net_delaunay = createSpatialNetwork(gobject,name = \"spatial_network\",method = 'Delaunay',),\n",
    "  net_knn  = createSpatialNetwork(gobject,name = \"spatial_network\",method = 'kNN',),\n",
    "  unit = \"s\",\n",
    "  times = 10)\n",
    "\n",
    "gobject <- createSpatialNetwork(gobject,\n",
    "                                name = \"spatial_network\",\n",
    "                                method = 'Delaunay',)\n",
    "\n",
    "results_nhood <- microbenchmark(\n",
    "  cellproxy = cellProximityEnrichment(\n",
    "    gobject,\n",
    "    cluster_column = 'V1',\n",
    "    spatial_network_name = 'spatial_network',\n",
    "    adjust_method = 'fdr',\n",
    "    number_of_simulations = 1000\n",
    "  ),\n",
    "  unit = \"s\",\n",
    "  times = 10)\n",
    "\n",
    "df <- rbind(summary(results_network),summary(results_nhoo))\n",
    "df$dataset = \"dataset\"\n"
   ]
  }
 ],
 "metadata": {
  "kernelspec": {
   "display_name": "Python 3",
   "language": "python",
   "name": "python3"
  },
  "language_info": {
   "codemirror_mode": {
    "name": "ipython",
    "version": 3
   },
   "file_extension": ".py",
   "mimetype": "text/x-python",
   "name": "python",
   "nbconvert_exporter": "python",
   "pygments_lexer": "ipython3",
   "version": "3.8.6"
  }
 },
 "nbformat": 4,
 "nbformat_minor": 4
}
