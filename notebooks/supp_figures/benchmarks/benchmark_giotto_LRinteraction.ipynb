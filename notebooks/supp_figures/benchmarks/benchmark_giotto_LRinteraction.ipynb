{
 "cells": [
  {
   "cell_type": "code",
   "execution_count": 1,
   "metadata": {},
   "outputs": [
    {
     "name": "stdout",
     "output_type": "stream",
     "text": [
      "scanpy==1.8.0.dev78+gc488909a anndata==0.7.5 umap==0.4.6 numpy==1.20.1 scipy==1.6.0 pandas==1.2.3 scikit-learn==0.24.2 statsmodels==0.12.2 python-igraph==0.8.3 leidenalg==0.8.3\n"
     ]
    }
   ],
   "source": [
    "import scanpy as sc\n",
    "import squidpy as sq\n",
    "import matplotlib.pyplot as plt\n",
    "import seaborn as sns\n",
    "import pandas as pd\n",
    "import numpy as np\n",
    "from anndata import AnnData\n",
    "from squidpy.pl._utils import save_fig\n",
    "from time import process_time\n",
    "\n",
    "sc.logging.print_header()\n",
    "sc.set_figure_params(facecolor=\"white\", figsize=(8, 8))\n",
    "sc.settings.verbosity = 3\n",
    "sc.settings.dpi = 300\n",
    "sq.__version__\n",
    "sc.settings.figdir = \"./figures\"\n",
    "\n",
    "%load_ext autoreload\n",
    "%autoreload 2\n",
    "%load_ext lab_black"
   ]
  },
  {
   "cell_type": "code",
   "execution_count": 2,
   "metadata": {},
   "outputs": [],
   "source": [
    "adata_visium = sq.datasets.visium_fluo_adata()"
   ]
  },
  {
   "cell_type": "code",
   "execution_count": 3,
   "metadata": {},
   "outputs": [],
   "source": [
    "ligand = pd.read_csv(\"./ligand_mouse_giotto.csv.gz\")\n",
    "receptor = pd.read_csv(\"./receptor_mouse_giotto.csv.gz\")"
   ]
  },
  {
   "cell_type": "code",
   "execution_count": 4,
   "metadata": {},
   "outputs": [
    {
     "data": {
      "text/html": [
       "<div>\n",
       "<style scoped>\n",
       "    .dataframe tbody tr th:only-of-type {\n",
       "        vertical-align: middle;\n",
       "    }\n",
       "\n",
       "    .dataframe tbody tr th {\n",
       "        vertical-align: top;\n",
       "    }\n",
       "\n",
       "    .dataframe thead th {\n",
       "        text-align: right;\n",
       "    }\n",
       "</style>\n",
       "<table border=\"1\" class=\"dataframe\">\n",
       "  <thead>\n",
       "    <tr style=\"text-align: right;\">\n",
       "      <th></th>\n",
       "      <th>select_receptors</th>\n",
       "    </tr>\n",
       "  </thead>\n",
       "  <tbody>\n",
       "    <tr>\n",
       "      <th>0</th>\n",
       "      <td>Lrp1</td>\n",
       "    </tr>\n",
       "    <tr>\n",
       "      <th>1</th>\n",
       "      <td>Itga9</td>\n",
       "    </tr>\n",
       "    <tr>\n",
       "      <th>2</th>\n",
       "      <td>Itgb1</td>\n",
       "    </tr>\n",
       "    <tr>\n",
       "      <th>3</th>\n",
       "      <td>Sdc4</td>\n",
       "    </tr>\n",
       "    <tr>\n",
       "      <th>4</th>\n",
       "      <td>Itga5</td>\n",
       "    </tr>\n",
       "    <tr>\n",
       "      <th>...</th>\n",
       "      <td>...</td>\n",
       "    </tr>\n",
       "    <tr>\n",
       "      <th>554</th>\n",
       "      <td>Fzd5</td>\n",
       "    </tr>\n",
       "    <tr>\n",
       "      <th>555</th>\n",
       "      <td>Fzd1</td>\n",
       "    </tr>\n",
       "    <tr>\n",
       "      <th>556</th>\n",
       "      <td>Fzd10</td>\n",
       "    </tr>\n",
       "    <tr>\n",
       "      <th>557</th>\n",
       "      <td>Lrp5</td>\n",
       "    </tr>\n",
       "    <tr>\n",
       "      <th>558</th>\n",
       "      <td>Mertk</td>\n",
       "    </tr>\n",
       "  </tbody>\n",
       "</table>\n",
       "<p>559 rows × 1 columns</p>\n",
       "</div>"
      ],
      "text/plain": [
       "    select_receptors\n",
       "0               Lrp1\n",
       "1              Itga9\n",
       "2              Itgb1\n",
       "3               Sdc4\n",
       "4              Itga5\n",
       "..               ...\n",
       "554             Fzd5\n",
       "555             Fzd1\n",
       "556            Fzd10\n",
       "557             Lrp5\n",
       "558            Mertk\n",
       "\n",
       "[559 rows x 1 columns]"
      ]
     },
     "execution_count": 4,
     "metadata": {},
     "output_type": "execute_result"
    }
   ],
   "source": [
    "receptor"
   ]
  },
  {
   "cell_type": "code",
   "execution_count": 6,
   "metadata": {},
   "outputs": [
    {
     "name": "stderr",
     "output_type": "stream",
     "text": [
      "Running `100` permutations on `559` interactions and `225` cluster combinations using `1` core(s)\n"
     ]
    },
    {
     "data": {
      "application/vnd.jupyter.widget-view+json": {
       "model_id": "68dedc77a36c4385a3a9ef478b979db8",
       "version_major": 2,
       "version_minor": 0
      },
      "text/plain": [
       "  0%|          | 0/100 [00:00<?, ?permutation/s]"
      ]
     },
     "metadata": {},
     "output_type": "display_data"
    },
    {
     "name": "stderr",
     "output_type": "stream",
     "text": [
      "Adding `adata.uns['cluster_ligrec']`\n",
      "Finish (0:00:09)\n",
      "Running `200` permutations on `559` interactions and `225` cluster combinations using `1` core(s)\n"
     ]
    },
    {
     "data": {
      "application/vnd.jupyter.widget-view+json": {
       "model_id": "321b772154bb4e33871f725cd6734df0",
       "version_major": 2,
       "version_minor": 0
      },
      "text/plain": [
       "  0%|          | 0/200 [00:00<?, ?permutation/s]"
      ]
     },
     "metadata": {},
     "output_type": "display_data"
    },
    {
     "name": "stderr",
     "output_type": "stream",
     "text": [
      "Adding `adata.uns['cluster_ligrec']`\n",
      "Finish (0:00:09)\n",
      "Running `500` permutations on `559` interactions and `225` cluster combinations using `1` core(s)\n"
     ]
    },
    {
     "data": {
      "application/vnd.jupyter.widget-view+json": {
       "model_id": "0a3eab22112b41cb8ea10cba47a56cfa",
       "version_major": 2,
       "version_minor": 0
      },
      "text/plain": [
       "  0%|          | 0/500 [00:00<?, ?permutation/s]"
      ]
     },
     "metadata": {},
     "output_type": "display_data"
    },
    {
     "name": "stderr",
     "output_type": "stream",
     "text": [
      "Adding `adata.uns['cluster_ligrec']`\n",
      "Finish (0:00:10)\n",
      "Running `1000` permutations on `559` interactions and `225` cluster combinations using `1` core(s)\n"
     ]
    },
    {
     "data": {
      "application/vnd.jupyter.widget-view+json": {
       "model_id": "7274495ffb344acea6ee8333c99e6f62",
       "version_major": 2,
       "version_minor": 0
      },
      "text/plain": [
       "  0%|          | 0/1000 [00:00<?, ?permutation/s]"
      ]
     },
     "metadata": {},
     "output_type": "display_data"
    },
    {
     "name": "stderr",
     "output_type": "stream",
     "text": [
      "Adding `adata.uns['cluster_ligrec']`\n",
      "Finish (0:00:11)\n"
     ]
    }
   ],
   "source": [
    "dic_list = []\n",
    "for it in [100, 200, 500, 1000]:\n",
    "    start_t = process_time()\n",
    "    sq.gr.ligrec(\n",
    "        adata_visium,\n",
    "        cluster_key=\"cluster\",\n",
    "        interactions={\n",
    "            \"source\": ligand.select_ligands.values,\n",
    "            \"target\": receptor.select_receptors.values,\n",
    "        },\n",
    "        n_perms=it,\n",
    "    )\n",
    "    duration = process_time() - start_t\n",
    "    dic_list.append(\n",
    "        {\n",
    "            \"time\": duration,\n",
    "            \"n_obs\": adata_visium.shape[0],\n",
    "            \"n_genes\": adata_visium.shape[1],\n",
    "            \"n_cluster\": adata_visium.obs[\"cluster\"].cat.categories.shape[0],\n",
    "            \"iterations\": it,\n",
    "        }\n",
    "    )"
   ]
  },
  {
   "cell_type": "code",
   "execution_count": 14,
   "metadata": {},
   "outputs": [
    {
     "data": {
      "text/html": [
       "<div>\n",
       "<style scoped>\n",
       "    .dataframe tbody tr th:only-of-type {\n",
       "        vertical-align: middle;\n",
       "    }\n",
       "\n",
       "    .dataframe tbody tr th {\n",
       "        vertical-align: top;\n",
       "    }\n",
       "\n",
       "    .dataframe thead th {\n",
       "        text-align: right;\n",
       "    }\n",
       "</style>\n",
       "<table border=\"1\" class=\"dataframe\">\n",
       "  <thead>\n",
       "    <tr style=\"text-align: right;\">\n",
       "      <th></th>\n",
       "      <th>time</th>\n",
       "      <th>n_obs</th>\n",
       "      <th>n_genes</th>\n",
       "      <th>n_cluster</th>\n",
       "      <th>iterations</th>\n",
       "      <th>tool</th>\n",
       "    </tr>\n",
       "  </thead>\n",
       "  <tbody>\n",
       "    <tr>\n",
       "      <th>0</th>\n",
       "      <td>5.160996</td>\n",
       "      <td>2800</td>\n",
       "      <td>16562</td>\n",
       "      <td>15</td>\n",
       "      <td>100</td>\n",
       "      <td>squidpy</td>\n",
       "    </tr>\n",
       "    <tr>\n",
       "      <th>1</th>\n",
       "      <td>5.351492</td>\n",
       "      <td>2800</td>\n",
       "      <td>16562</td>\n",
       "      <td>15</td>\n",
       "      <td>200</td>\n",
       "      <td>squidpy</td>\n",
       "    </tr>\n",
       "    <tr>\n",
       "      <th>2</th>\n",
       "      <td>5.917403</td>\n",
       "      <td>2800</td>\n",
       "      <td>16562</td>\n",
       "      <td>15</td>\n",
       "      <td>500</td>\n",
       "      <td>squidpy</td>\n",
       "    </tr>\n",
       "    <tr>\n",
       "      <th>3</th>\n",
       "      <td>6.752532</td>\n",
       "      <td>2800</td>\n",
       "      <td>16562</td>\n",
       "      <td>15</td>\n",
       "      <td>1000</td>\n",
       "      <td>squidpy</td>\n",
       "    </tr>\n",
       "  </tbody>\n",
       "</table>\n",
       "</div>"
      ],
      "text/plain": [
       "       time  n_obs  n_genes  n_cluster  iterations     tool\n",
       "0  5.160996   2800    16562         15         100  squidpy\n",
       "1  5.351492   2800    16562         15         200  squidpy\n",
       "2  5.917403   2800    16562         15         500  squidpy\n",
       "3  6.752532   2800    16562         15        1000  squidpy"
      ]
     },
     "execution_count": 14,
     "metadata": {},
     "output_type": "execute_result"
    }
   ],
   "source": [
    "squidpy_res = pd.DataFrame(dic_list)\n",
    "squidpy_res[\"tool\"] = \"squidpy\"\n",
    "squidpy_res"
   ]
  },
  {
   "cell_type": "code",
   "execution_count": 21,
   "metadata": {},
   "outputs": [
    {
     "data": {
      "text/html": [
       "<div>\n",
       "<style scoped>\n",
       "    .dataframe tbody tr th:only-of-type {\n",
       "        vertical-align: middle;\n",
       "    }\n",
       "\n",
       "    .dataframe tbody tr th {\n",
       "        vertical-align: top;\n",
       "    }\n",
       "\n",
       "    .dataframe thead th {\n",
       "        text-align: right;\n",
       "    }\n",
       "</style>\n",
       "<table border=\"1\" class=\"dataframe\">\n",
       "  <thead>\n",
       "    <tr style=\"text-align: right;\">\n",
       "      <th></th>\n",
       "      <th>time</th>\n",
       "      <th>iterations</th>\n",
       "      <th>tool</th>\n",
       "    </tr>\n",
       "  </thead>\n",
       "  <tbody>\n",
       "    <tr>\n",
       "      <th>1</th>\n",
       "      <td>198.833179</td>\n",
       "      <td>100</td>\n",
       "      <td>giotto</td>\n",
       "    </tr>\n",
       "    <tr>\n",
       "      <th>2</th>\n",
       "      <td>388.838261</td>\n",
       "      <td>200</td>\n",
       "      <td>giotto</td>\n",
       "    </tr>\n",
       "    <tr>\n",
       "      <th>3</th>\n",
       "      <td>969.785029</td>\n",
       "      <td>500</td>\n",
       "      <td>giotto</td>\n",
       "    </tr>\n",
       "    <tr>\n",
       "      <th>4</th>\n",
       "      <td>1963.141762</td>\n",
       "      <td>1000</td>\n",
       "      <td>giotto</td>\n",
       "    </tr>\n",
       "  </tbody>\n",
       "</table>\n",
       "</div>"
      ],
      "text/plain": [
       "          time  iterations    tool\n",
       "1   198.833179         100  giotto\n",
       "2   388.838261         200  giotto\n",
       "3   969.785029         500  giotto\n",
       "4  1963.141762        1000  giotto"
      ]
     },
     "execution_count": 21,
     "metadata": {},
     "output_type": "execute_result"
    }
   ],
   "source": [
    "giotto_res = pd.read_csv(\"./benchmark_giotto_ligrec.csv\", index_col=0)\n",
    "giotto_res.rename(columns={\"mean\": \"time\"}, inplace=True)\n",
    "giotto_res = giotto_res[[\"time\", \"iterations\"]].copy()\n",
    "giotto_res[\"tool\"] = \"giotto\"\n",
    "giotto_res"
   ]
  },
  {
   "cell_type": "code",
   "execution_count": 32,
   "metadata": {},
   "outputs": [
    {
     "data": {
      "text/html": [
       "<div>\n",
       "<style scoped>\n",
       "    .dataframe tbody tr th:only-of-type {\n",
       "        vertical-align: middle;\n",
       "    }\n",
       "\n",
       "    .dataframe tbody tr th {\n",
       "        vertical-align: top;\n",
       "    }\n",
       "\n",
       "    .dataframe thead th {\n",
       "        text-align: right;\n",
       "    }\n",
       "</style>\n",
       "<table border=\"1\" class=\"dataframe\">\n",
       "  <thead>\n",
       "    <tr style=\"text-align: right;\">\n",
       "      <th></th>\n",
       "      <th>time</th>\n",
       "      <th>n_obs</th>\n",
       "      <th>n_genes</th>\n",
       "      <th>n_cluster</th>\n",
       "      <th>iterations</th>\n",
       "      <th>tool</th>\n",
       "      <th>log_time</th>\n",
       "    </tr>\n",
       "  </thead>\n",
       "  <tbody>\n",
       "    <tr>\n",
       "      <th>0</th>\n",
       "      <td>5.160996</td>\n",
       "      <td>2800.0</td>\n",
       "      <td>16562.0</td>\n",
       "      <td>15.0</td>\n",
       "      <td>100</td>\n",
       "      <td>squidpy</td>\n",
       "      <td>0.789651</td>\n",
       "    </tr>\n",
       "    <tr>\n",
       "      <th>1</th>\n",
       "      <td>5.351492</td>\n",
       "      <td>2800.0</td>\n",
       "      <td>16562.0</td>\n",
       "      <td>15.0</td>\n",
       "      <td>200</td>\n",
       "      <td>squidpy</td>\n",
       "      <td>0.802876</td>\n",
       "    </tr>\n",
       "    <tr>\n",
       "      <th>2</th>\n",
       "      <td>5.917403</td>\n",
       "      <td>2800.0</td>\n",
       "      <td>16562.0</td>\n",
       "      <td>15.0</td>\n",
       "      <td>500</td>\n",
       "      <td>squidpy</td>\n",
       "      <td>0.839943</td>\n",
       "    </tr>\n",
       "    <tr>\n",
       "      <th>3</th>\n",
       "      <td>6.752532</td>\n",
       "      <td>2800.0</td>\n",
       "      <td>16562.0</td>\n",
       "      <td>15.0</td>\n",
       "      <td>1000</td>\n",
       "      <td>squidpy</td>\n",
       "      <td>0.889444</td>\n",
       "    </tr>\n",
       "    <tr>\n",
       "      <th>1</th>\n",
       "      <td>198.833179</td>\n",
       "      <td>NaN</td>\n",
       "      <td>NaN</td>\n",
       "      <td>NaN</td>\n",
       "      <td>100</td>\n",
       "      <td>giotto</td>\n",
       "      <td>2.300668</td>\n",
       "    </tr>\n",
       "    <tr>\n",
       "      <th>2</th>\n",
       "      <td>388.838261</td>\n",
       "      <td>NaN</td>\n",
       "      <td>NaN</td>\n",
       "      <td>NaN</td>\n",
       "      <td>200</td>\n",
       "      <td>giotto</td>\n",
       "      <td>2.590884</td>\n",
       "    </tr>\n",
       "    <tr>\n",
       "      <th>3</th>\n",
       "      <td>969.785029</td>\n",
       "      <td>NaN</td>\n",
       "      <td>NaN</td>\n",
       "      <td>NaN</td>\n",
       "      <td>500</td>\n",
       "      <td>giotto</td>\n",
       "      <td>2.987123</td>\n",
       "    </tr>\n",
       "    <tr>\n",
       "      <th>4</th>\n",
       "      <td>1963.141762</td>\n",
       "      <td>NaN</td>\n",
       "      <td>NaN</td>\n",
       "      <td>NaN</td>\n",
       "      <td>1000</td>\n",
       "      <td>giotto</td>\n",
       "      <td>3.293173</td>\n",
       "    </tr>\n",
       "  </tbody>\n",
       "</table>\n",
       "</div>"
      ],
      "text/plain": [
       "          time   n_obs  n_genes  n_cluster  iterations     tool  log_time\n",
       "0     5.160996  2800.0  16562.0       15.0         100  squidpy  0.789651\n",
       "1     5.351492  2800.0  16562.0       15.0         200  squidpy  0.802876\n",
       "2     5.917403  2800.0  16562.0       15.0         500  squidpy  0.839943\n",
       "3     6.752532  2800.0  16562.0       15.0        1000  squidpy  0.889444\n",
       "1   198.833179     NaN      NaN        NaN         100   giotto  2.300668\n",
       "2   388.838261     NaN      NaN        NaN         200   giotto  2.590884\n",
       "3   969.785029     NaN      NaN        NaN         500   giotto  2.987123\n",
       "4  1963.141762     NaN      NaN        NaN        1000   giotto  3.293173"
      ]
     },
     "execution_count": 32,
     "metadata": {},
     "output_type": "execute_result"
    }
   ],
   "source": [
    "final_df = pd.concat([squidpy_res, giotto_res], axis=0)\n",
    "final_df[\"log_time\"] = np.log10(1 + final_df[\"time\"].values)\n",
    "final_df"
   ]
  },
  {
   "cell_type": "code",
   "execution_count": 36,
   "metadata": {},
   "outputs": [
    {
     "data": {
      "text/plain": [
       "array([   5.160996  , 1963.14176232])"
      ]
     },
     "execution_count": 36,
     "metadata": {},
     "output_type": "execute_result"
    }
   ],
   "source": [
    "data[\"time\"].values[[0, 7]]"
   ]
  },
  {
   "cell_type": "code",
   "execution_count": 39,
   "metadata": {},
   "outputs": [
    {
     "data": {
      "image/png": "[encoded data removed]",
      "text/plain": [
       "<Figure size 900x540 with 1 Axes>"
      ]
     },
     "metadata": {},
     "output_type": "display_data"
    }
   ],
   "source": [
    "fig, ax = plt.subplots(tight_layout=True, dpi=180, figsize=(5, 3))\n",
    "data = final_df\n",
    "sns.scatterplot(data=data, x=\"iterations\", y=\"log_time\", style=\"tool\", s=100, ax=ax)\n",
    "plt.xticks(data.iterations, data.iterations, rotation=90)\n",
    "plt.yticks(\n",
    "    np.round(data.log_time.values[[0, 4, 7]], 2),\n",
    "    np.round(data[\"time\"].values[[0, 4, 7]], 2),\n",
    ")\n",
    "ax.set_ylabel(\"runtime (s)\")\n",
    "ax.set_xlabel(\"#permutations\")\n",
    "ax.legend(loc=\"center left\", bbox_to_anchor=(1, 0.5))\n",
    "_ = ax.set_title(\"comparisons of runtimes\")"
   ]
  }
 ],
 "metadata": {
  "kernelspec": {
   "display_name": "Python 3",
   "language": "python",
   "name": "python3"
  },
  "language_info": {
   "codemirror_mode": {
    "name": "ipython",
    "version": 3
   },
   "file_extension": ".py",
   "mimetype": "text/x-python",
   "name": "python",
   "nbconvert_exporter": "python",
   "pygments_lexer": "ipython3",
   "version": "3.8.6"
  }
 },
 "nbformat": 4,
 "nbformat_minor": 4
}
