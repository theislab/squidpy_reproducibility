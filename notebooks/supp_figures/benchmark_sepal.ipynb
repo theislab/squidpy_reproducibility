{
 "cells": [
  {
   "cell_type": "code",
   "execution_count": 1,
   "metadata": {},
   "outputs": [
    {
     "name": "stdout",
     "output_type": "stream",
     "text": [
      "scanpy==1.8.0.dev78+gc488909a anndata==0.7.5 umap==0.4.6 numpy==1.20.1 scipy==1.6.0 pandas==1.2.3 scikit-learn==0.24.2 statsmodels==0.12.2 python-igraph==0.8.3 leidenalg==0.8.3\n"
     ]
    }
   ],
   "source": [
    "import scanpy as sc\n",
    "import squidpy as sq\n",
    "import matplotlib.pyplot as plt\n",
    "import seaborn as sns\n",
    "import pandas as pd\n",
    "import numpy as np\n",
    "from anndata import AnnData\n",
    "import sepal\n",
    "import sepal.datasets as d\n",
    "import sepal.models as m\n",
    "import sepal.utils as ut\n",
    "\n",
    "from squidpy.pl._utils import save_fig\n",
    "from time import process_time\n",
    "\n",
    "sc.logging.print_header()\n",
    "sc.set_figure_params(facecolor=\"white\", figsize=(8, 8))\n",
    "sc.settings.verbosity = 3\n",
    "sc.settings.dpi = 300\n",
    "sq.__version__\n",
    "sc.settings.figdir = \"./figures\"\n",
    "\n",
    "%load_ext autoreload\n",
    "%autoreload 2\n",
    "%load_ext lab_black"
   ]
  },
  {
   "cell_type": "code",
   "execution_count": 2,
   "metadata": {},
   "outputs": [],
   "source": [
    "pth = \"./../reproducibility/data/image-based.tsv\"\n",
    "raw_data = d.RawData(\n",
    "    pth,\n",
    ")\n",
    "raw_data.cnt = ut.filter_genes(raw_data.cnt, min_expr=10, min_occur=5)\n",
    "data = m.ST1K(raw_data, eps=0.1)"
   ]
  },
  {
   "cell_type": "code",
   "execution_count": 3,
   "metadata": {},
   "outputs": [],
   "source": [
    "ncnt = raw_data.cnt.values\n",
    "ncnt = ut.normalize_expression(ncnt, c=2)\n",
    "colMax = np.max(np.abs(ncnt), axis=0).reshape(1, -1)\n",
    "ncnt = np.divide(ncnt, colMax, where=colMax > 0)\n",
    "ncnt = ncnt.astype(float)"
   ]
  },
  {
   "cell_type": "code",
   "execution_count": 4,
   "metadata": {},
   "outputs": [],
   "source": [
    "coords = [i.split(\"x\") for i in raw_data.cnt.index.values]\n",
    "spatial = np.stack(coords).astype(int)"
   ]
  },
  {
   "cell_type": "code",
   "execution_count": 5,
   "metadata": {},
   "outputs": [
    {
     "name": "stderr",
     "output_type": "stream",
     "text": [
      "Creating graph using `grid` coordinates and `None` transform\n",
      "Adding `adata.obsp['spatial_connectivities']`\n",
      "       `adata.obsp['spatial_distances']`\n",
      "       `adata.uns['spatial_neighbors']`\n",
      "Finish (0:00:00)\n"
     ]
    }
   ],
   "source": [
    "adata = AnnData(\n",
    "    ncnt,\n",
    ")\n",
    "adata.obs.index = raw_data.cnt.index\n",
    "adata.var.index = raw_data.cnt.columns\n",
    "adata.obsm[\"spatial\"] = spatial\n",
    "sq.gr.spatial_neighbors(adata, coord_type=\"grid\", neigh_grid=4)"
   ]
  },
  {
   "cell_type": "code",
   "execution_count": 6,
   "metadata": {},
   "outputs": [
    {
     "name": "stderr",
     "output_type": "stream",
     "text": [
      "  3%|▎         | 3/100 [00:00<00:04, 22.31it/s]"
     ]
    },
    {
     "name": "stdout",
     "output_type": "stream",
     "text": [
      "[INFO] : Using 1 workers\n",
      "[INFO] : Saturated Spots : 784\n"
     ]
    },
    {
     "name": "stderr",
     "output_type": "stream",
     "text": [
      "100%|██████████| 100/100 [00:04<00:00, 22.99it/s]\n",
      "Calculating sepal score for `100` genes using `1` core(s)\n"
     ]
    },
    {
     "data": {
      "application/vnd.jupyter.widget-view+json": {
       "model_id": "dda7a49b718644e9831ef877e44b86ff",
       "version_major": 2,
       "version_minor": 0
      },
      "text/plain": [
       "  0%|          | 0/100 [00:00<?, ?/s]"
      ]
     },
     "metadata": {},
     "output_type": "display_data"
    },
    {
     "name": "stderr",
     "output_type": "stream",
     "text": [
      "Adding `adata.uns['sepal_score']`\n",
      "Finish (0:00:12)\n",
      "  3%|▎         | 3/100 [00:00<00:04, 22.25it/s]"
     ]
    },
    {
     "name": "stdout",
     "output_type": "stream",
     "text": [
      "[INFO] : Using 1 workers\n",
      "[INFO] : Saturated Spots : 784\n"
     ]
    },
    {
     "name": "stderr",
     "output_type": "stream",
     "text": [
      "100%|██████████| 100/100 [00:04<00:00, 23.20it/s]\n",
      "Calculating sepal score for `100` genes using `1` core(s)\n"
     ]
    },
    {
     "data": {
      "application/vnd.jupyter.widget-view+json": {
       "model_id": "49bc60f6b70244edbef7eec2d0ef7c19",
       "version_major": 2,
       "version_minor": 0
      },
      "text/plain": [
       "  0%|          | 0/100 [00:00<?, ?/s]"
      ]
     },
     "metadata": {},
     "output_type": "display_data"
    },
    {
     "name": "stderr",
     "output_type": "stream",
     "text": [
      "Adding `adata.uns['sepal_score']`\n",
      "Finish (0:00:10)\n",
      "  3%|▎         | 3/100 [00:00<00:03, 24.47it/s]"
     ]
    },
    {
     "name": "stdout",
     "output_type": "stream",
     "text": [
      "[INFO] : Using 1 workers\n",
      "[INFO] : Saturated Spots : 784\n"
     ]
    },
    {
     "name": "stderr",
     "output_type": "stream",
     "text": [
      "100%|██████████| 100/100 [00:04<00:00, 23.48it/s]\n",
      "Calculating sepal score for `100` genes using `1` core(s)\n"
     ]
    },
    {
     "data": {
      "application/vnd.jupyter.widget-view+json": {
       "model_id": "8574281a954e47db9bf0c90974f6f394",
       "version_major": 2,
       "version_minor": 0
      },
      "text/plain": [
       "  0%|          | 0/100 [00:00<?, ?/s]"
      ]
     },
     "metadata": {},
     "output_type": "display_data"
    },
    {
     "name": "stderr",
     "output_type": "stream",
     "text": [
      "Adding `adata.uns['sepal_score']`\n",
      "Finish (0:00:10)\n",
      "  3%|▎         | 3/100 [00:00<00:04, 23.92it/s]"
     ]
    },
    {
     "name": "stdout",
     "output_type": "stream",
     "text": [
      "[INFO] : Using 1 workers\n",
      "[INFO] : Saturated Spots : 784\n"
     ]
    },
    {
     "name": "stderr",
     "output_type": "stream",
     "text": [
      "100%|██████████| 100/100 [00:04<00:00, 22.83it/s]\n",
      "Calculating sepal score for `100` genes using `1` core(s)\n"
     ]
    },
    {
     "data": {
      "application/vnd.jupyter.widget-view+json": {
       "model_id": "afc43c5812a249bc96b445131a2a9c36",
       "version_major": 2,
       "version_minor": 0
      },
      "text/plain": [
       "  0%|          | 0/100 [00:00<?, ?/s]"
      ]
     },
     "metadata": {},
     "output_type": "display_data"
    },
    {
     "name": "stderr",
     "output_type": "stream",
     "text": [
      "Adding `adata.uns['sepal_score']`\n",
      "Finish (0:00:11)\n",
      "  0%|          | 0/100 [00:00<?, ?it/s]"
     ]
    },
    {
     "name": "stdout",
     "output_type": "stream",
     "text": [
      "[INFO] : Using 1 workers\n",
      "[INFO] : Saturated Spots : 784\n"
     ]
    },
    {
     "name": "stderr",
     "output_type": "stream",
     "text": [
      "100%|██████████| 100/100 [00:04<00:00, 21.78it/s]\n",
      "Calculating sepal score for `100` genes using `1` core(s)\n"
     ]
    },
    {
     "data": {
      "application/vnd.jupyter.widget-view+json": {
       "model_id": "083ffb497bee43859fa26607fe252315",
       "version_major": 2,
       "version_minor": 0
      },
      "text/plain": [
       "  0%|          | 0/100 [00:00<?, ?/s]"
      ]
     },
     "metadata": {},
     "output_type": "display_data"
    },
    {
     "name": "stderr",
     "output_type": "stream",
     "text": [
      "Adding `adata.uns['sepal_score']`\n",
      "Finish (0:00:10)\n"
     ]
    }
   ],
   "source": [
    "dic_list = []\n",
    "for i in np.arange(5):\n",
    "    start_t = process_time()\n",
    "    m.propagate(data, normalize=True, scale=False, num_workers=1)\n",
    "    duration_original = process_time() - start_t\n",
    "    start_t = process_time()\n",
    "    sq.gr.sepal(adata, max_neighs=4, n_jobs=1)\n",
    "    duration_squidpy = process_time() - start_t\n",
    "    dic_list.append(\n",
    "        {\n",
    "            \"dataset\": \"synthetic\",\n",
    "            \"time_original\": duration_original,\n",
    "            \"time_squidpy\": duration_squidpy,\n",
    "            \"n_obs\": adata.shape[0],\n",
    "            \"genes\": adata.shape[1],\n",
    "            \"idx\": i,\n",
    "        }\n",
    "    )"
   ]
  },
  {
   "cell_type": "code",
   "execution_count": 7,
   "metadata": {},
   "outputs": [],
   "source": [
    "pth = \"./../reproducibility/data/melanoma.tsv.gz\"\n",
    "raw_data = d.RawData(\n",
    "    pth,\n",
    ")\n",
    "raw_data.cnt = ut.filter_genes(raw_data.cnt, min_expr=10, min_occur=5)\n",
    "data = m.ST1K(raw_data, eps=0.1)"
   ]
  },
  {
   "cell_type": "code",
   "execution_count": 8,
   "metadata": {},
   "outputs": [],
   "source": [
    "ncnt = raw_data.cnt.values\n",
    "ncnt = ut.normalize_expression(ncnt, c=2)\n",
    "colMax = np.max(np.abs(ncnt), axis=0).reshape(1, -1)\n",
    "ncnt = np.divide(ncnt, colMax, where=colMax > 0)\n",
    "ncnt = ncnt.astype(float)"
   ]
  },
  {
   "cell_type": "code",
   "execution_count": 9,
   "metadata": {},
   "outputs": [],
   "source": [
    "coords = [i.split(\"x\") for i in raw_data.cnt.index.values]\n",
    "spatial = np.stack(coords).astype(int)"
   ]
  },
  {
   "cell_type": "code",
   "execution_count": 10,
   "metadata": {},
   "outputs": [
    {
     "name": "stderr",
     "output_type": "stream",
     "text": [
      "Creating graph using `grid` coordinates and `None` transform\n",
      "Adding `adata.obsp['spatial_connectivities']`\n",
      "       `adata.obsp['spatial_distances']`\n",
      "       `adata.uns['spatial_neighbors']`\n",
      "Finish (0:00:00)\n"
     ]
    }
   ],
   "source": [
    "adata = AnnData(\n",
    "    ncnt,\n",
    ")\n",
    "adata.obs.index = raw_data.cnt.index\n",
    "adata.var.index = raw_data.cnt.columns\n",
    "adata.obsm[\"spatial\"] = spatial\n",
    "sq.gr.spatial_neighbors(adata, coord_type=\"grid\", neigh_grid=4)"
   ]
  },
  {
   "cell_type": "code",
   "execution_count": 11,
   "metadata": {},
   "outputs": [
    {
     "name": "stderr",
     "output_type": "stream",
     "text": [
      "  0%|          | 0/9956 [00:00<?, ?it/s]"
     ]
    },
    {
     "name": "stdout",
     "output_type": "stream",
     "text": [
      "[INFO] : Using 8 workers\n",
      "[INFO] : Saturated Spots : 203\n"
     ]
    },
    {
     "name": "stderr",
     "output_type": "stream",
     "text": [
      "100%|██████████| 9956/9956 [01:13<00:00, 134.79it/s]\n",
      "Calculating sepal score for `9956` genes using `8` core(s)\n"
     ]
    },
    {
     "data": {
      "application/vnd.jupyter.widget-view+json": {
       "model_id": "05e4e298337947d1960117c1510e0e5f",
       "version_major": 2,
       "version_minor": 0
      },
      "text/plain": [
       "  0%|          | 0/9956 [00:00<?, ?/s]"
      ]
     },
     "metadata": {},
     "output_type": "display_data"
    },
    {
     "name": "stderr",
     "output_type": "stream",
     "text": [
      "Adding `adata.uns['sepal_score']`\n",
      "Finish (0:00:56)\n",
      "  0%|          | 0/9956 [00:00<?, ?it/s]"
     ]
    },
    {
     "name": "stdout",
     "output_type": "stream",
     "text": [
      "[INFO] : Using 8 workers\n",
      "[INFO] : Saturated Spots : 203\n"
     ]
    },
    {
     "name": "stderr",
     "output_type": "stream",
     "text": [
      "100%|██████████| 9956/9956 [01:15<00:00, 131.67it/s]\n",
      "Calculating sepal score for `9956` genes using `8` core(s)\n"
     ]
    },
    {
     "data": {
      "application/vnd.jupyter.widget-view+json": {
       "model_id": "5b06cec5bce346b5a3fbe0b8b50a67ef",
       "version_major": 2,
       "version_minor": 0
      },
      "text/plain": [
       "  0%|          | 0/9956 [00:00<?, ?/s]"
      ]
     },
     "metadata": {},
     "output_type": "display_data"
    },
    {
     "name": "stderr",
     "output_type": "stream",
     "text": [
      "Adding `adata.uns['sepal_score']`\n",
      "Finish (0:00:40)\n",
      "  0%|          | 32/9956 [00:00<00:35, 277.47it/s]"
     ]
    },
    {
     "name": "stdout",
     "output_type": "stream",
     "text": [
      "[INFO] : Using 8 workers\n",
      "[INFO] : Saturated Spots : 203\n"
     ]
    },
    {
     "name": "stderr",
     "output_type": "stream",
     "text": [
      "100%|██████████| 9956/9956 [01:10<00:00, 140.71it/s]\n",
      "Calculating sepal score for `9956` genes using `8` core(s)\n"
     ]
    },
    {
     "data": {
      "application/vnd.jupyter.widget-view+json": {
       "model_id": "45e0cad296c5434f8ba81591d5ccf37a",
       "version_major": 2,
       "version_minor": 0
      },
      "text/plain": [
       "  0%|          | 0/9956 [00:00<?, ?/s]"
      ]
     },
     "metadata": {},
     "output_type": "display_data"
    },
    {
     "name": "stderr",
     "output_type": "stream",
     "text": [
      "Adding `adata.uns['sepal_score']`\n",
      "Finish (0:00:39)\n",
      "  0%|          | 32/9956 [00:00<00:37, 267.83it/s]"
     ]
    },
    {
     "name": "stdout",
     "output_type": "stream",
     "text": [
      "[INFO] : Using 8 workers\n",
      "[INFO] : Saturated Spots : 203\n"
     ]
    },
    {
     "name": "stderr",
     "output_type": "stream",
     "text": [
      "100%|██████████| 9956/9956 [01:20<00:00, 124.02it/s]\n",
      "Calculating sepal score for `9956` genes using `8` core(s)\n"
     ]
    },
    {
     "data": {
      "application/vnd.jupyter.widget-view+json": {
       "model_id": "4049713ad33a4c8187ddbdd29ebd42b5",
       "version_major": 2,
       "version_minor": 0
      },
      "text/plain": [
       "  0%|          | 0/9956 [00:00<?, ?/s]"
      ]
     },
     "metadata": {},
     "output_type": "display_data"
    },
    {
     "name": "stderr",
     "output_type": "stream",
     "text": [
      "Adding `adata.uns['sepal_score']`\n",
      "Finish (0:00:41)\n",
      "  0%|          | 0/9956 [00:00<?, ?it/s]"
     ]
    },
    {
     "name": "stdout",
     "output_type": "stream",
     "text": [
      "[INFO] : Using 8 workers\n",
      "[INFO] : Saturated Spots : 203\n"
     ]
    },
    {
     "name": "stderr",
     "output_type": "stream",
     "text": [
      "100%|██████████| 9956/9956 [01:18<00:00, 127.22it/s]\n",
      "Calculating sepal score for `9956` genes using `8` core(s)\n"
     ]
    },
    {
     "data": {
      "application/vnd.jupyter.widget-view+json": {
       "model_id": "61b17859e6f24a0b80bc223e6dcd8ed6",
       "version_major": 2,
       "version_minor": 0
      },
      "text/plain": [
       "  0%|          | 0/9956 [00:00<?, ?/s]"
      ]
     },
     "metadata": {},
     "output_type": "display_data"
    },
    {
     "name": "stderr",
     "output_type": "stream",
     "text": [
      "Adding `adata.uns['sepal_score']`\n",
      "Finish (0:00:46)\n"
     ]
    }
   ],
   "source": [
    "for i in np.arange(5):\n",
    "    start_t = process_time()\n",
    "    m.propagate(data, normalize=True, scale=False, num_workers=8)\n",
    "    duration_original = process_time() - start_t\n",
    "    start_t = process_time()\n",
    "    sq.gr.sepal(adata, max_neighs=4, n_jobs=8)\n",
    "    duration_squidpy = process_time() - start_t\n",
    "    dic_list.append(\n",
    "        {\n",
    "            \"dataset\": \"melanoma\",\n",
    "            \"time_original\": duration_original,\n",
    "            \"time_squidpy\": duration_squidpy,\n",
    "            \"n_obs\": adata.shape[0],\n",
    "            \"genes\": adata.shape[1],\n",
    "            \"idx\": i,\n",
    "        }\n",
    "    )"
   ]
  },
  {
   "cell_type": "code",
   "execution_count": 25,
   "metadata": {},
   "outputs": [
    {
     "data": {
      "text/html": [
       "<div>\n",
       "<style scoped>\n",
       "    .dataframe tbody tr th:only-of-type {\n",
       "        vertical-align: middle;\n",
       "    }\n",
       "\n",
       "    .dataframe tbody tr th {\n",
       "        vertical-align: top;\n",
       "    }\n",
       "\n",
       "    .dataframe thead th {\n",
       "        text-align: right;\n",
       "    }\n",
       "</style>\n",
       "<table border=\"1\" class=\"dataframe\">\n",
       "  <thead>\n",
       "    <tr style=\"text-align: right;\">\n",
       "      <th></th>\n",
       "      <th>dataset</th>\n",
       "      <th>method</th>\n",
       "      <th>mean</th>\n",
       "      <th>genes</th>\n",
       "      <th>log_mean</th>\n",
       "      <th>log_genes</th>\n",
       "    </tr>\n",
       "  </thead>\n",
       "  <tbody>\n",
       "    <tr>\n",
       "      <th>0</th>\n",
       "      <td>melanoma</td>\n",
       "      <td>original</td>\n",
       "      <td>16.921187</td>\n",
       "      <td>9956</td>\n",
       "      <td>1.253367</td>\n",
       "      <td>3.998129</td>\n",
       "    </tr>\n",
       "    <tr>\n",
       "      <th>1</th>\n",
       "      <td>melanoma</td>\n",
       "      <td>squidpy</td>\n",
       "      <td>1.632767</td>\n",
       "      <td>9956</td>\n",
       "      <td>0.420412</td>\n",
       "      <td>3.998129</td>\n",
       "    </tr>\n",
       "    <tr>\n",
       "      <th>2</th>\n",
       "      <td>synthetic</td>\n",
       "      <td>original</td>\n",
       "      <td>4.434351</td>\n",
       "      <td>100</td>\n",
       "      <td>0.735148</td>\n",
       "      <td>2.004321</td>\n",
       "    </tr>\n",
       "    <tr>\n",
       "      <th>3</th>\n",
       "      <td>synthetic</td>\n",
       "      <td>squidpy</td>\n",
       "      <td>6.465838</td>\n",
       "      <td>100</td>\n",
       "      <td>0.873079</td>\n",
       "      <td>2.004321</td>\n",
       "    </tr>\n",
       "  </tbody>\n",
       "</table>\n",
       "</div>"
      ],
      "text/plain": [
       "     dataset    method       mean  genes  log_mean  log_genes\n",
       "0   melanoma  original  16.921187   9956  1.253367   3.998129\n",
       "1   melanoma   squidpy   1.632767   9956  0.420412   3.998129\n",
       "2  synthetic  original   4.434351    100  0.735148   2.004321\n",
       "3  synthetic   squidpy   6.465838    100  0.873079   2.004321"
      ]
     },
     "execution_count": 25,
     "metadata": {},
     "output_type": "execute_result"
    }
   ],
   "source": [
    "df = pd.DataFrame(dic_list)\n",
    "df = df.groupby([\"dataset\", \"genes\"]).mean()\n",
    "df.reset_index(drop=False, inplace=True)\n",
    "df = df[[\"dataset\", \"time_original\", \"time_squidpy\", \"genes\"]].copy()\n",
    "df.rename(\n",
    "    columns={\"time_original\": \"original\", \"time_squidpy\": \"squidpy\"}, inplace=True\n",
    ")\n",
    "df = df.melt(\n",
    "    id_vars=\"dataset\",\n",
    "    value_vars=[\"original\", \"squidpy\"],\n",
    "    value_name=\"mean\",\n",
    "    var_name=\"method\",\n",
    ")\n",
    "\n",
    "obs_df = pd.DataFrame(dic_list)\n",
    "obs_df = obs_df[[\"genes\", \"dataset\"]].copy()\n",
    "obs_df.drop_duplicates(inplace=True)\n",
    "obs_df.reset_index(inplace=True, drop=True)\n",
    "\n",
    "final_df = df.merge(obs_df, on=\"dataset\")\n",
    "final_df[\"log_mean\"] = np.log10(1 + final_df[\"mean\"].values)\n",
    "final_df[\"log_genes\"] = np.log10(1 + final_df[\"genes\"].values)\n",
    "final_df"
   ]
  },
  {
   "cell_type": "code",
   "execution_count": 28,
   "metadata": {},
   "outputs": [
    {
     "data": {
      "image/png": "[encoded data removed]",
      "text/plain": [
       "<Figure size 900x540 with 1 Axes>"
      ]
     },
     "metadata": {},
     "output_type": "display_data"
    }
   ],
   "source": [
    "fig, ax = plt.subplots(tight_layout=True, dpi=180, figsize=(5, 3))\n",
    "data = final_df\n",
    "sns.scatterplot(\n",
    "    data=data, x=\"genes\", y=\"log_mean\", hue=\"method\", style=\"dataset\", s=100, ax=ax\n",
    ")\n",
    "plt.xticks(data.genes.values, data.genes.values, rotation=90)\n",
    "plt.yticks(\n",
    "    np.round(data.log_mean.values[[0, 1]], 2),\n",
    "    np.round(data[\"mean\"].values[[0, 1]], 2),\n",
    ")\n",
    "ax.set_ylabel(\"runtime (s)\")\n",
    "ax.set_xlabel(\"#genes\")\n",
    "ax.legend(loc=\"center left\", bbox_to_anchor=(1, 0.5))\n",
    "_ = ax.set_title(\"comparisons of runtimes\")"
   ]
  }
 ],
 "metadata": {
  "kernelspec": {
   "display_name": "Python 3",
   "language": "python",
   "name": "python3"
  },
  "language_info": {
   "codemirror_mode": {
    "name": "ipython",
    "version": 3
   },
   "file_extension": ".py",
   "mimetype": "text/x-python",
   "name": "python",
   "nbconvert_exporter": "python",
   "pygments_lexer": "ipython3",
   "version": "3.8.6"
  }
 },
 "nbformat": 4,
 "nbformat_minor": 4
}
