{
 "cells": [
  {
   "cell_type": "code",
   "execution_count": 1,
   "metadata": {},
   "outputs": [
    {
     "name": "stdout",
     "output_type": "stream",
     "text": [
      "scanpy==1.7.0rc2.dev1+g2a123065 anndata==0.7.4 umap==0.4.6 numpy==1.19.4 scipy==1.5.2 pandas==1.1.4 scikit-learn==0.23.2 statsmodels==0.12.1 python-igraph==0.8.3 leidenalg==0.8.2\n"
     ]
    }
   ],
   "source": [
    "import scanpy as sc\n",
    "import squidpy as sq\n",
    "import matplotlib.pyplot as plt\n",
    "import seaborn as sns\n",
    "import pandas as pd\n",
    "import numpy as np\n",
    "from anndata import AnnData\n",
    "from squidpy.pl._utils import save_fig\n",
    "from time import process_time\n",
    "\n",
    "sc.logging.print_header()\n",
    "sc.set_figure_params(facecolor=\"white\", figsize=(8, 8))\n",
    "sc.settings.verbosity = 3\n",
    "sc.settings.dpi = 300\n",
    "sq.__version__\n",
    "sc.settings.figdir = \"./figures\"\n",
    "\n",
    "%load_ext autoreload\n",
    "%autoreload 2\n",
    "%load_ext lab_black"
   ]
  },
  {
   "cell_type": "code",
   "execution_count": 2,
   "metadata": {},
   "outputs": [
    {
     "name": "stderr",
     "output_type": "stream",
     "text": [
      "Variable names are not unique. To make them unique, call `.var_names_make_unique`.\n"
     ]
    }
   ],
   "source": [
    "adata_visium = sq.datasets.visium_fluo_adata()\n",
    "adata_seqfish = sq.datasets.seqfish()\n",
    "adata_fouri = sq.datasets.four_i()\n",
    "adata_imc = sq.datasets.imc()"
   ]
  },
  {
   "cell_type": "code",
   "execution_count": 3,
   "metadata": {},
   "outputs": [],
   "source": [
    "from scipy import sparse\n",
    "\n",
    "adata_visium.uns = {}\n",
    "adata_fouri.uns = {}\n",
    "adata_fouri_r = AnnData(\n",
    "    sparse.csr_matrix(np.empty(adata_fouri.shape)),\n",
    "    obs=adata_fouri.obs[[\"cluster\"]].copy(),\n",
    ")\n",
    "adata_fouri_r.obsm[\"spatial\"] = adata_fouri.obsm[\"spatial\"]\n",
    "adata_seqfish.obs[\"cluster\"] = adata_seqfish.obs.celltype_mapped_refined\n",
    "adata_imc.obs[\"cluster\"] = adata_imc.obs[\"cell type\"]"
   ]
  },
  {
   "cell_type": "code",
   "execution_count": 4,
   "metadata": {},
   "outputs": [
    {
     "name": "stderr",
     "output_type": "stream",
     "text": [
      "/Users/giovanni.palla/miniconda3/envs/spatial/lib/python3.8/site-packages/anndata/_core/anndata.py:1192: FutureWarning: is_categorical is deprecated and will be removed in a future version.  Use is_categorical_dtype instead\n",
      "  if is_string_dtype(df[key]) and not is_categorical(df[key])\n"
     ]
    }
   ],
   "source": [
    "adata_visium.write(\"/Users/giovanni.palla/.cache/squidpy/visium_R.h5ad\")\n",
    "adata_fouri_r.write(\"/Users/giovanni.palla/.cache/squidpy/fouri_R.h5ad\")\n",
    "adata_imc.write(\"/Users/giovanni.palla/.cache/squidpy/imc_R.h5ad\")\n",
    "adata_seqfish.write(\"/Users/giovanni.palla/.cache/squidpy/seqfish_R.h5ad\")"
   ]
  },
  {
   "cell_type": "code",
   "execution_count": null,
   "metadata": {},
   "outputs": [],
   "source": [
    "library(zellkonverter)\n",
    "library(Giotto)\n",
    "library(microbenchmark)\n",
    "\n",
    "sce_seqfish  <- readH5AD(\"/Users/giovanni.palla/.cache/squidpy/seqfish_R.h5ad\")\n",
    "sce_imc  <- readH5AD(\"/Users/giovanni.palla/.cache/squidpy/imc_R.h5ad\")\n",
    "sce_visium  <- readH5AD(\"/Users/giovanni.palla/.cache/squidpy/visium_R.h5ad\")\n",
    "sce_4i  <- readH5AD(\"/Users/giovanni.palla/.cache/squidpy/fouri_R.h5ad\")\n",
    "\n",
    "data_list <- c(sce_seqfish,sce_imc , sce_visium) #, sce_4i)\n",
    "id_list <- c(\"seqfish\",\"imc\",\"visium\") #,\"4i\")\n",
    "\n",
    "result <- mapply(bench_graph, data_list, id_list, SIMPLIFY=F)\n",
    "\n",
    "bench_graph <- function(sce, id){\n",
    "  print(id)\n",
    "  return(id)\n",
    "}\n",
    "\n",
    "for (d in c(c(sce_visium, sce_imc), c(\"visium\",\"imc\"))){\n",
    "  print(d)\n",
    "  sce <- data[0]\n",
    "  dataset_id <- data[1]\n",
    "  print(dataset_id)\n",
    "}\n",
    "\n",
    "gobject_seqfish <- createGiottoObject(raw_exprs = sce@assays@data$X, \n",
    "                                      spatial_locs = sce@int_colData$reducedDims$spatial,\n",
    "                                      cell_metadata = sce@colData$`cell type`)\n",
    "\n",
    "results_network <- microbenchmark(\n",
    "  net_delaunay = createSpatialNetwork(gobject,name = \"spatial_network\",method = 'Delaunay',),\n",
    "  net_knn  = createSpatialNetwork(gobject,name = \"spatial_network\",method = 'kNN',),\n",
    "  unit = \"s\",\n",
    "  times = 10)\n",
    "\n",
    "gobject <- createSpatialNetwork(gobject,\n",
    "                                name = \"spatial_network\",\n",
    "                                method = 'Delaunay',)\n",
    "\n",
    "results_nhood <- microbenchmark(\n",
    "  cellproxy = cellProximityEnrichment(\n",
    "    gobject,\n",
    "    cluster_column = 'V1',\n",
    "    spatial_network_name = 'spatial_network',\n",
    "    adjust_method = 'fdr',\n",
    "    number_of_simulations = 1000\n",
    "  ),\n",
    "  unit = \"s\",\n",
    "  times = 10)\n",
    "\n",
    "df <- rbind(summary(results_network),summary(results_nhoo))\n",
    "df$dataset = \"dataset\"\n"
   ]
  }
 ],
 "metadata": {
  "kernelspec": {
   "display_name": "Python 3",
   "language": "python",
   "name": "python3"
  },
  "language_info": {
   "codemirror_mode": {
    "name": "ipython",
    "version": 3
   },
   "file_extension": ".py",
   "mimetype": "text/x-python",
   "name": "python",
   "nbconvert_exporter": "python",
   "pygments_lexer": "ipython3",
   "version": "3.8.6"
  }
 },
 "nbformat": 4,
 "nbformat_minor": 4
}
